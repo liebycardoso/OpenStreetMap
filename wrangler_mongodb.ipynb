{
 "cells": [
  {
   "cell_type": "markdown",
   "metadata": {},
   "source": [
    "# P3: Limpando dados do OpenStreetMap\n",
    "\n",
    "* Lieby Cardoso\n",
    "                                                \n",
    "* Região selecionada para o projeto: Belo Horizonte, MG, Brasil  \n",
    "\n",
    "<img src=\"BH.jpg\" alt=\"alt text\" title=\"bh\">\n",
    "Fonte: http://www.openstreetmap.org/relation/368782"
   ]
  },
  {
   "cell_type": "markdown",
   "metadata": {},
   "source": [
    "### Conteúdo\n",
    "1.\tMétodos e ferramentas\n",
    "2.\tProblemas encontrados no mapa\n",
    "3.  Visão geral dos dados\n",
    "4.  Idéias adicionais sobre os dados\n",
    "5.  Conclusão\n",
    "6.  Referências"
   ]
  },
  {
   "cell_type": "markdown",
   "metadata": {},
   "source": [
    "### 1.\tMétodos e ferramentas\n",
    "A base dos dados explorados neste projeto é disponibilizada pelo OpenStreetMap e foi extraída com a ajuda da ferramenta API Overpass com as coordenadas -44.3092,-20.0979,-43.6116,-19.7376 que representam a área de Belo Horizonte.\n",
    "\n",
    "O arquivo foi exportado no formato OSM/XML e foi gerada uma amostra desta base com menos informação para facilitar e agilizar a leitura das informações na fase da auditoria. Script executado: Get_Sample_OSM.py.\n",
    "\n",
    "A base (map_BH.osm) com todas as informações teve seu conteúdo analisado e os apontamentos e decisões tomadas estão documentadas na seção  2 deste documento.\n",
    "Script executado: Audit_map_BH.py.\n",
    "\n",
    "Auditoria dos dados, o arquivo XML foi convertido para JSON. \n",
    "Script executado: Dump_map_BH_JSON.py.\n",
    "\n",
    "Todo o conteúdo do arquivo JSON foi importado para a base BH no banco de dados MongoDB. \n",
    "\n",
    "Foram executadas consultas aos dados importados e a inconsistências foram corrigidas.\n"
   ]
  },
  {
   "cell_type": "markdown",
   "metadata": {},
   "source": [
    "### 2.\tProblemas encontrados no mapa\n",
    "\n",
    "** Localização da identificação do tipo de rua **\n",
    "\n",
    "Diferente dos exercícios realizados, onde o mapa era da cidade de Chicago e o tipo da rua podia ser identificado pela última palavra do nome, no mapa de Belo Horizonte, o nome da rua é composto pelo tipo, abreviado ou não, seguido pelo nome. Para atender esta particularidade da nomenclatura brasileira, a variável street_type_re foi reformulada para trabalhar com a primeira palavra da frase. A alteração consistiu na inclusão do caractere ^ , que corresponde sempre com o início da string e exclusão do caractere $, que corresponde com o final da string.\n"
   ]
  },
  {
   "cell_type": "markdown",
   "metadata": {},
   "source": [
    "** Caracteres especiais **\n",
    "\n",
    "Ao iniciar a auditoria dos dados, imprimi em tela o nome de algumas ruas da amostra e a lógica do programa não foi seguida em alguns casos porque existiam ruas com caracteres especiais como acentos agudos (‘), circunflexos (^), til (~) e cedilha (ç). \n",
    "No cabeçalho do script foi incluído o comando # -*- coding: utf-8 -*- para possibilitar a manipulação destes caracteres com a codificação Unicode utf-8.\n",
    "\n",
    "Mesmo fazendo essa inclusão, foi necessário acrescentar a letra ‘u’ antes de strings que foram usadas para comparação. Um exemplo é a palavra “Praça” incluída manualmente como string comparativa da variável expected, quando feita a comparação de “Praça” digitado com Praça retornando de uma variável, a comparação não era bem sucedida, neste caso a palavra “Praça” digitada foi substituída por u”Praça” para ser reconhecida como contendo caractere especial.\n",
    "\n",
    "Outro tratamento foi incluir a codificação (?u)\\w para todos os caracteres Unicode no re.compile."
   ]
  },
  {
   "cell_type": "markdown",
   "metadata": {},
   "source": [
    "** Vias sem tipo definido e mapeamento de tipos**\n",
    "\n",
    "Algumas vias não tinham o seu tipo definido, como por exemplo, avenida, alameda, beco e etc.. Quando a via não tinha o tipo compatível com os cadastrados no array expected, nem no dicionário mapping_street, atribuí o prefixo “Rua” para todas elas. \n",
    "\n",
    "Método: update_street_type(name, mapping):\n",
    "\n",
    "Vias sem tipo:\n",
    "- Montes Claros => Rua Montes Claros\n",
    "- Paracatu => Rua Paracatu\n",
    "- Francisco Deslandes => Rua Francisco Deslandes\n",
    "- Riachuelo => Rua Riachuelo\n",
    "\n",
    "Vias com tipo mapeado:\n",
    "- Av São Lucas => Avenida São Lucas\n",
    "- Anél Rodoviário => Anel Rodoviário\n",
    "- Avendia Dom Pedro II => Avenida Dom Pedro II\n",
    "- Alamedas das Princesas => Alameda Das Princesas\n",
    "- Eua Conceição Aparecida => Rua Conceição Aparecida\n",
    "- Pc Nossa Senhora do Rosário => Praça Nossa Senhora Do Rosário\n",
    "- R. A => Rua A\n",
    "- R.B => Rua B"
   ]
  },
  {
   "cell_type": "markdown",
   "metadata": {},
   "source": [
    "** Títulos abreviados **\n",
    "\n",
    "Após corrigir a abreviatura do nome das ruas, percebi que algumas ruas estavam com o título da pessoa que deu nome à rua abreviado. Em BH todos os casos eram Prof. no lugar de Professor.\n",
    "\n",
    "- Método: update_street_title(name, mapping): \n",
    "\n",
    "Exemplo:\n",
    "- Rua Prof. Melchíades da Costa Lage => Rua Professor Melchíades Da Costa Lage "
   ]
  },
  {
   "cell_type": "markdown",
   "metadata": {},
   "source": [
    "** Nome da cidade **\n",
    "O mapa da região de Belo Horizonte contém também informações sobre a região metropolitana, por esta razão a chave addr:city recebeu um tratamento para uniformizar os nomes, uma vez que, eram apresentados erros de grafia e o nome da cidade composto com o nome do estado.\n",
    "\n",
    "Método: update_city(name, mapping): \n",
    "\n",
    "Exemplo:\n",
    "- Beo horizonte => Belo Horizonte\n",
    "- Belo Horizonte – MG => Belo Horizonte\n",
    "- Belo Horizonte MG Brazil => Belo Horizonte"
   ]
  },
  {
   "cell_type": "markdown",
   "metadata": {},
   "source": [
    "** Código postal **\n",
    "\n",
    "O código postal é um atributo importante do endereço e pela contagem de valores, percebi que havia um bom volume de dados preenchidos, padronizei o campo como sendo uma sequencia de 8 números sem o caractere \"-\".\n",
    "\n",
    "Método: update_code_postal (name, mapping):   "
   ]
  },
  {
   "cell_type": "markdown",
   "metadata": {},
   "source": [
    "## 3. Visão geral dos dados\n",
    "\n",
    "### 3.1\tRepresentação dos dados OSM \n",
    "\n",
    "Os dados estão organizados em uma estrutura de elementos do mapa que representam o objeto e seu valor associado. Tipos encontrados:\n",
    "\n",
    "- node: um nó é informações de um par de coordenadas, sendo latitude e longitude;\n",
    "- way : uma lista de nós (nodes);\n",
    "\n",
    "Apesar do OpenStreetMap ter mais dois tipos de elementos abaixo listado, eles não foram considerados neste projeto.\n",
    "- area: representa uma área limitada, por exemplo, uma praça;\n",
    "- relation: pode ser um conjunto de nodes, ways e relation relacionados."
   ]
  },
  {
   "cell_type": "code",
   "execution_count": 1,
   "metadata": {
    "collapsed": true
   },
   "outputs": [],
   "source": [
    "import pprint\n",
    "import matplotlib.pyplot as plt\n",
    "%matplotlib inline\n",
    "import seaborn as sb"
   ]
  },
  {
   "cell_type": "markdown",
   "metadata": {},
   "source": [
    "### 3.2 Importação dos dados para pesquisa "
   ]
  },
  {
   "cell_type": "markdown",
   "metadata": {},
   "source": [
    "O arquivo mapbh.json, gerado após análise dos dados OSM para Belo Horizonte, foi importado para o MongoDB através da linha de comando:\n",
    "\n",
    "* => mongoimport -h 127.0.0.1:27017 --db openstreetmap --collection mapbh --file C:/Nanodegree/MongoDb/Trab_final/mapbh.json  \n"
   ]
  },
  {
   "cell_type": "markdown",
   "metadata": {},
   "source": [
    "Os dados no MongoDB serão acessados e manipulados através da biblioteca pymongo."
   ]
  },
  {
   "cell_type": "code",
   "execution_count": 2,
   "metadata": {
    "collapsed": true
   },
   "outputs": [],
   "source": [
    "import pymongo\n",
    "from pymongo import MongoClient\n",
    "client=MongoClient('localhost:27017')\n",
    "db=client.openstreetmap"
   ]
  },
  {
   "cell_type": "markdown",
   "metadata": {},
   "source": [
    "Os dados importados fazem parte de uma coleção nomeada mapbh (--collection mapbh). \n",
    "Verificando se o nome foi criado corretamente: "
   ]
  },
  {
   "cell_type": "code",
   "execution_count": 29,
   "metadata": {
    "collapsed": false
   },
   "outputs": [
    {
     "data": {
      "text/plain": [
       "[u'mapbh']"
      ]
     },
     "execution_count": 29,
     "metadata": {},
     "output_type": "execute_result"
    }
   ],
   "source": [
    "db.collection_names()"
   ]
  },
  {
   "cell_type": "markdown",
   "metadata": {},
   "source": [
    "### 3.3 Conhecendo os dados "
   ]
  },
  {
   "cell_type": "markdown",
   "metadata": {},
   "source": [
    "** 1. Total de documentos **"
   ]
  },
  {
   "cell_type": "code",
   "execution_count": 30,
   "metadata": {
    "collapsed": false
   },
   "outputs": [
    {
     "data": {
      "text/plain": [
       "466990"
      ]
     },
     "execution_count": 30,
     "metadata": {},
     "output_type": "execute_result"
    }
   ],
   "source": [
    "db.mapbh.find().count()"
   ]
  },
  {
   "cell_type": "markdown",
   "metadata": {},
   "source": [
    "** 2. Número de documentos com o tipo \"node\": **"
   ]
  },
  {
   "cell_type": "code",
   "execution_count": 38,
   "metadata": {
    "collapsed": false
   },
   "outputs": [
    {
     "data": {
      "text/plain": [
       "408052"
      ]
     },
     "execution_count": 38,
     "metadata": {},
     "output_type": "execute_result"
    }
   ],
   "source": [
    "db.mapbh.find({\"type\":\"node\"}).count() "
   ]
  },
  {
   "cell_type": "markdown",
   "metadata": {},
   "source": [
    "** 3. Número de documentos com o tipo \"way\": **"
   ]
  },
  {
   "cell_type": "code",
   "execution_count": 39,
   "metadata": {
    "collapsed": false
   },
   "outputs": [
    {
     "data": {
      "text/plain": [
       "58875"
      ]
     },
     "execution_count": 39,
     "metadata": {},
     "output_type": "execute_result"
    }
   ],
   "source": [
    "db.mapbh.find({\"type\":\"way\"}).count()"
   ]
  },
  {
   "cell_type": "markdown",
   "metadata": {},
   "source": [
    "** 4. Documentos com tipo diferente de \"way\" e \"node\": **"
   ]
  },
  {
   "cell_type": "markdown",
   "metadata": {},
   "source": [
    "O total de node e way é (408.052 + 58.875) 466.927, um pouco diferente dos 466.990 listados no db.mapbh.find().count(). Vou listar esses registros que não são way, nem node para identificar o problema, visto que na função shape_element eu fitrei os registros por tags que contivessem as strings \"node\" e \"way\"."
   ]
  },
  {
   "cell_type": "code",
   "execution_count": 44,
   "metadata": {
    "collapsed": false
   },
   "outputs": [
    {
     "name": "stdout",
     "output_type": "stream",
     "text": [
      "[{u'_id': ObjectId('58641664ed425d6e306c37b3'),\n",
      "  u'amenity': u'Public_Building',\n",
      "  u'created': {u'changeset': u'10870093',\n",
      "               u'timestamp': u'2012-03-04T15:52:56Z',\n",
      "               u'uid': u'397850',\n",
      "               u'user': u'Tulio Magno Quites Machado Filho',\n",
      "               u'version': u'3'},\n",
      "  u'historic': u'Monument',\n",
      "  u'id': u'317211433',\n",
      "  u'name': u'Coreto',\n",
      "  u'natural': u'Tree',\n",
      "  u'pos': [-19.932131, -43.9379339],\n",
      "  u'type': u'Palm'},\n",
      " {u'_id': ObjectId('58641666ed425d6e306d112d'),\n",
      "  u'created': {u'changeset': u'10870093',\n",
      "               u'timestamp': u'2012-03-04T15:52:49Z',\n",
      "               u'uid': u'397850',\n",
      "               u'user': u'Tulio Magno Quites Machado Filho',\n",
      "               u'version': u'1'},\n",
      "  u'id': u'1659158895',\n",
      "  u'natural': u'Tree',\n",
      "  u'pos': [-19.9312116, -43.9378039],\n",
      "  u'type': u'Palm'},\n",
      " {u'_id': ObjectId('58641666ed425d6e306d112e'),\n",
      "  u'created': {u'changeset': u'10870093',\n",
      "               u'timestamp': u'2012-03-04T15:52:49Z',\n",
      "               u'uid': u'397850',\n",
      "               u'user': u'Tulio Magno Quites Machado Filho',\n",
      "               u'version': u'1'},\n",
      "  u'id': u'1659158900',\n",
      "  u'natural': u'Tree',\n",
      "  u'pos': [-19.9328051, -43.9382488],\n",
      "  u'type': u'Palm'},\n",
      " {u'_id': ObjectId('58641666ed425d6e306d112f'),\n",
      "  u'created': {u'changeset': u'10870093',\n",
      "               u'timestamp': u'2012-03-04T15:52:50Z',\n",
      "               u'uid': u'397850',\n",
      "               u'user': u'Tulio Magno Quites Machado Filho',\n",
      "               u'version': u'1'},\n",
      "  u'id': u'1659158901',\n",
      "  u'natural': u'Tree',\n",
      "  u'pos': [-19.931278, -43.9378224],\n",
      "  u'type': u'Palm'},\n",
      " {u'_id': ObjectId('58641666ed425d6e306d1131'),\n",
      "  u'created': {u'changeset': u'10870093',\n",
      "               u'timestamp': u'2012-03-04T15:52:50Z',\n",
      "               u'uid': u'397850',\n",
      "               u'user': u'Tulio Magno Quites Machado Filho',\n",
      "               u'version': u'1'},\n",
      "  u'id': u'1659158902',\n",
      "  u'natural': u'Tree',\n",
      "  u'pos': [-19.9313444, -43.9378409],\n",
      "  u'type': u'Palm'},\n",
      " {u'_id': ObjectId('58641666ed425d6e306d1132'),\n",
      "  u'created': {u'changeset': u'10870093',\n",
      "               u'timestamp': u'2012-03-04T15:52:50Z',\n",
      "               u'uid': u'397850',\n",
      "               u'user': u'Tulio Magno Quites Machado Filho',\n",
      "               u'version': u'1'},\n",
      "  u'id': u'1659158905',\n",
      "  u'natural': u'Tree',\n",
      "  u'pos': [-19.9314108, -43.9378595],\n",
      "  u'type': u'Palm'},\n",
      " {u'_id': ObjectId('58641666ed425d6e306d1133'),\n",
      "  u'created': {u'changeset': u'10870093',\n",
      "               u'timestamp': u'2012-03-04T15:52:50Z',\n",
      "               u'uid': u'397850',\n",
      "               u'user': u'Tulio Magno Quites Machado Filho',\n",
      "               u'version': u'1'},\n",
      "  u'id': u'1659158908',\n",
      "  u'natural': u'Tree',\n",
      "  u'pos': [-19.9314772, -43.937878],\n",
      "  u'type': u'Palm'},\n",
      " {u'_id': ObjectId('58641666ed425d6e306d1134'),\n",
      "  u'created': {u'changeset': u'10870093',\n",
      "               u'timestamp': u'2012-03-04T15:52:50Z',\n",
      "               u'uid': u'397850',\n",
      "               u'user': u'Tulio Magno Quites Machado Filho',\n",
      "               u'version': u'1'},\n",
      "  u'id': u'1659158911',\n",
      "  u'natural': u'Tree',\n",
      "  u'pos': [-19.9315436, -43.9378965],\n",
      "  u'type': u'Palm'},\n",
      " {u'_id': ObjectId('58641666ed425d6e306d1135'),\n",
      "  u'created': {u'changeset': u'10870093',\n",
      "               u'timestamp': u'2012-03-04T15:52:50Z',\n",
      "               u'uid': u'397850',\n",
      "               u'user': u'Tulio Magno Quites Machado Filho',\n",
      "               u'version': u'1'},\n",
      "  u'id': u'1659158927',\n",
      "  u'natural': u'Tree',\n",
      "  u'pos': [-19.9317427, -43.9379522],\n",
      "  u'type': u'Palm'},\n",
      " {u'_id': ObjectId('58641666ed425d6e306d1136'),\n",
      "  u'created': {u'changeset': u'10870093',\n",
      "               u'timestamp': u'2012-03-04T15:52:50Z',\n",
      "               u'uid': u'397850',\n",
      "               u'user': u'Tulio Magno Quites Machado Filho',\n",
      "               u'version': u'1'},\n",
      "  u'id': u'1659158929',\n",
      "  u'natural': u'Tree',\n",
      "  u'pos': [-19.9318091, -43.9379707],\n",
      "  u'type': u'Palm'},\n",
      " {u'_id': ObjectId('58641666ed425d6e306d1137'),\n",
      "  u'created': {u'changeset': u'10870093',\n",
      "               u'timestamp': u'2012-03-04T15:52:50Z',\n",
      "               u'uid': u'397850',\n",
      "               u'user': u'Tulio Magno Quites Machado Filho',\n",
      "               u'version': u'1'},\n",
      "  u'id': u'1659158923',\n",
      "  u'natural': u'Tree',\n",
      "  u'pos': [-19.9316763, -43.9379336],\n",
      "  u'type': u'Palm'},\n",
      " {u'_id': ObjectId('58641666ed425d6e306d1138'),\n",
      "  u'created': {u'changeset': u'10870093',\n",
      "               u'timestamp': u'2012-03-04T15:52:50Z',\n",
      "               u'uid': u'397850',\n",
      "               u'user': u'Tulio Magno Quites Machado Filho',\n",
      "               u'version': u'1'},\n",
      "  u'id': u'1659158922',\n",
      "  u'natural': u'Tree',\n",
      "  u'pos': [-19.9316099, -43.9379151],\n",
      "  u'type': u'Palm'},\n",
      " {u'_id': ObjectId('58641666ed425d6e306d1139'),\n",
      "  u'created': {u'changeset': u'10870093',\n",
      "               u'timestamp': u'2012-03-04T15:52:51Z',\n",
      "               u'uid': u'397850',\n",
      "               u'user': u'Tulio Magno Quites Machado Filho',\n",
      "               u'version': u'1'},\n",
      "  u'id': u'1659158934',\n",
      "  u'natural': u'Tree',\n",
      "  u'pos': [-19.9318755, -43.9379892],\n",
      "  u'type': u'Palm'},\n",
      " {u'_id': ObjectId('58641666ed425d6e306d113a'),\n",
      "  u'created': {u'changeset': u'10870093',\n",
      "               u'timestamp': u'2012-03-04T15:52:51Z',\n",
      "               u'uid': u'397850',\n",
      "               u'user': u'Tulio Magno Quites Machado Filho',\n",
      "               u'version': u'1'},\n",
      "  u'id': u'1659158947',\n",
      "  u'natural': u'Tree',\n",
      "  u'pos': [-19.9319419, -43.9380078],\n",
      "  u'type': u'Palm'},\n",
      " {u'_id': ObjectId('58641666ed425d6e306d113b'),\n",
      "  u'created': {u'changeset': u'10870093',\n",
      "               u'timestamp': u'2012-03-04T15:52:51Z',\n",
      "               u'uid': u'397850',\n",
      "               u'user': u'Tulio Magno Quites Machado Filho',\n",
      "               u'version': u'1'},\n",
      "  u'id': u'1659158948',\n",
      "  u'natural': u'Tree',\n",
      "  u'pos': [-19.9320083, -43.9380263],\n",
      "  u'type': u'Palm'},\n",
      " {u'_id': ObjectId('58641666ed425d6e306d113c'),\n",
      "  u'created': {u'changeset': u'10870093',\n",
      "               u'timestamp': u'2012-03-04T15:52:51Z',\n",
      "               u'uid': u'397850',\n",
      "               u'user': u'Tulio Magno Quites Machado Filho',\n",
      "               u'version': u'1'},\n",
      "  u'id': u'1659158949',\n",
      "  u'natural': u'Tree',\n",
      "  u'pos': [-19.9320747, -43.9380449],\n",
      "  u'type': u'Palm'},\n",
      " {u'_id': ObjectId('58641666ed425d6e306d113d'),\n",
      "  u'created': {u'changeset': u'10870093',\n",
      "               u'timestamp': u'2012-03-04T15:52:51Z',\n",
      "               u'uid': u'397850',\n",
      "               u'user': u'Tulio Magno Quites Machado Filho',\n",
      "               u'version': u'1'},\n",
      "  u'id': u'1659158951',\n",
      "  u'natural': u'Tree',\n",
      "  u'pos': [-19.9321411, -43.9380634],\n",
      "  u'type': u'Palm'},\n",
      " {u'_id': ObjectId('58641666ed425d6e306d113e'),\n",
      "  u'created': {u'changeset': u'10870093',\n",
      "               u'timestamp': u'2012-03-04T15:52:51Z',\n",
      "               u'uid': u'397850',\n",
      "               u'user': u'Tulio Magno Quites Machado Filho',\n",
      "               u'version': u'1'},\n",
      "  u'id': u'1659158954',\n",
      "  u'natural': u'Tree',\n",
      "  u'pos': [-19.9322075, -43.9380819],\n",
      "  u'type': u'Palm'},\n",
      " {u'_id': ObjectId('58641666ed425d6e306d113f'),\n",
      "  u'created': {u'changeset': u'10870093',\n",
      "               u'timestamp': u'2012-03-04T15:52:52Z',\n",
      "               u'uid': u'397850',\n",
      "               u'user': u'Tulio Magno Quites Machado Filho',\n",
      "               u'version': u'1'},\n",
      "  u'id': u'1659158966',\n",
      "  u'natural': u'Tree',\n",
      "  u'pos': [-19.9322739, -43.9381005],\n",
      "  u'type': u'Palm'},\n",
      " {u'_id': ObjectId('58641666ed425d6e306d1140'),\n",
      "  u'created': {u'changeset': u'10870093',\n",
      "               u'timestamp': u'2012-03-04T15:52:52Z',\n",
      "               u'uid': u'397850',\n",
      "               u'user': u'Tulio Magno Quites Machado Filho',\n",
      "               u'version': u'1'},\n",
      "  u'id': u'1659158969',\n",
      "  u'natural': u'Tree',\n",
      "  u'pos': [-19.9324067, -43.9381376],\n",
      "  u'type': u'Palm'},\n",
      " {u'_id': ObjectId('58641666ed425d6e306d1141'),\n",
      "  u'created': {u'changeset': u'10870093',\n",
      "               u'timestamp': u'2012-03-04T15:52:52Z',\n",
      "               u'uid': u'397850',\n",
      "               u'user': u'Tulio Magno Quites Machado Filho',\n",
      "               u'version': u'1'},\n",
      "  u'id': u'1659158968',\n",
      "  u'natural': u'Tree',\n",
      "  u'pos': [-19.9323403, -43.938119],\n",
      "  u'type': u'Palm'},\n",
      " {u'_id': ObjectId('58641666ed425d6e306d1142'),\n",
      "  u'created': {u'changeset': u'10870093',\n",
      "               u'timestamp': u'2012-03-04T15:52:52Z',\n",
      "               u'uid': u'397850',\n",
      "               u'user': u'Tulio Magno Quites Machado Filho',\n",
      "               u'version': u'1'},\n",
      "  u'id': u'1659158976',\n",
      "  u'natural': u'Tree',\n",
      "  u'pos': [-19.9326059, -43.9381932],\n",
      "  u'type': u'Palm'},\n",
      " {u'_id': ObjectId('58641666ed425d6e306d1143'),\n",
      "  u'created': {u'changeset': u'10870093',\n",
      "               u'timestamp': u'2012-03-04T15:52:52Z',\n",
      "               u'uid': u'397850',\n",
      "               u'user': u'Tulio Magno Quites Machado Filho',\n",
      "               u'version': u'1'},\n",
      "  u'id': u'1659158988',\n",
      "  u'natural': u'Tree',\n",
      "  u'pos': [-19.9326723, -43.9382117],\n",
      "  u'type': u'Palm'},\n",
      " {u'_id': ObjectId('58641666ed425d6e306d1144'),\n",
      "  u'created': {u'changeset': u'10870093',\n",
      "               u'timestamp': u'2012-03-04T15:52:52Z',\n",
      "               u'uid': u'397850',\n",
      "               u'user': u'Tulio Magno Quites Machado Filho',\n",
      "               u'version': u'1'},\n",
      "  u'id': u'1659158973',\n",
      "  u'natural': u'Tree',\n",
      "  u'pos': [-19.9325395, -43.9381746],\n",
      "  u'type': u'Palm'},\n",
      " {u'_id': ObjectId('58641666ed425d6e306d1145'),\n",
      "  u'created': {u'changeset': u'10870093',\n",
      "               u'timestamp': u'2012-03-04T15:52:52Z',\n",
      "               u'uid': u'397850',\n",
      "               u'user': u'Tulio Magno Quites Machado Filho',\n",
      "               u'version': u'1'},\n",
      "  u'id': u'1659158970',\n",
      "  u'natural': u'Tree',\n",
      "  u'pos': [-19.9324731, -43.9381561],\n",
      "  u'type': u'Palm'},\n",
      " {u'_id': ObjectId('58641666ed425d6e306d1146'),\n",
      "  u'created': {u'changeset': u'10870093',\n",
      "               u'timestamp': u'2012-03-04T15:52:52Z',\n",
      "               u'uid': u'397850',\n",
      "               u'user': u'Tulio Magno Quites Machado Filho',\n",
      "               u'version': u'1'},\n",
      "  u'id': u'1659158993',\n",
      "  u'natural': u'Tree',\n",
      "  u'pos': [-19.9327387, -43.9382303],\n",
      "  u'type': u'Palm'},\n",
      " {u'_id': ObjectId('58641666ed425d6e306d1147'),\n",
      "  u'created': {u'changeset': u'10870093',\n",
      "               u'timestamp': u'2012-03-04T15:52:53Z',\n",
      "               u'uid': u'397850',\n",
      "               u'user': u'Tulio Magno Quites Machado Filho',\n",
      "               u'version': u'1'},\n",
      "  u'id': u'1659158995',\n",
      "  u'natural': u'Tree',\n",
      "  u'pos': [-19.9312337, -43.9376979],\n",
      "  u'type': u'Palm'},\n",
      " {u'_id': ObjectId('58641666ed425d6e306d1148'),\n",
      "  u'created': {u'changeset': u'10870093',\n",
      "               u'timestamp': u'2012-03-04T15:52:53Z',\n",
      "               u'uid': u'397850',\n",
      "               u'user': u'Tulio Magno Quites Machado Filho',\n",
      "               u'version': u'1'},\n",
      "  u'id': u'1659158998',\n",
      "  u'natural': u'Tree',\n",
      "  u'pos': [-19.9312978, -43.9377148],\n",
      "  u'type': u'Palm'},\n",
      " {u'_id': ObjectId('58641666ed425d6e306d1149'),\n",
      "  u'created': {u'changeset': u'10870093',\n",
      "               u'timestamp': u'2012-03-04T15:52:53Z',\n",
      "               u'uid': u'397850',\n",
      "               u'user': u'Tulio Magno Quites Machado Filho',\n",
      "               u'version': u'1'},\n",
      "  u'id': u'1659158997',\n",
      "  u'natural': u'Tree',\n",
      "  u'pos': [-19.9328361, -43.9381193],\n",
      "  u'type': u'Palm'},\n",
      " {u'_id': ObjectId('58641666ed425d6e306d114a'),\n",
      "  u'created': {u'changeset': u'10870093',\n",
      "               u'timestamp': u'2012-03-04T15:52:53Z',\n",
      "               u'uid': u'397850',\n",
      "               u'user': u'Tulio Magno Quites Machado Filho',\n",
      "               u'version': u'1'},\n",
      "  u'id': u'1659159009',\n",
      "  u'natural': u'Tree',\n",
      "  u'pos': [-19.9313619, -43.9377316],\n",
      "  u'type': u'Palm'},\n",
      " {u'_id': ObjectId('58641666ed425d6e306d114b'),\n",
      "  u'created': {u'changeset': u'10870093',\n",
      "               u'timestamp': u'2012-03-04T15:52:53Z',\n",
      "               u'uid': u'397850',\n",
      "               u'user': u'Tulio Magno Quites Machado Filho',\n",
      "               u'version': u'1'},\n",
      "  u'id': u'1659159010',\n",
      "  u'natural': u'Tree',\n",
      "  u'pos': [-19.931426, -43.9377485],\n",
      "  u'type': u'Palm'},\n",
      " {u'_id': ObjectId('58641666ed425d6e306d114c'),\n",
      "  u'created': {u'changeset': u'10870093',\n",
      "               u'timestamp': u'2012-03-04T15:52:53Z',\n",
      "               u'uid': u'397850',\n",
      "               u'user': u'Tulio Magno Quites Machado Filho',\n",
      "               u'version': u'1'},\n",
      "  u'id': u'1659159011',\n",
      "  u'natural': u'Tree',\n",
      "  u'pos': [-19.9314901, -43.9377653],\n",
      "  u'type': u'Palm'},\n",
      " {u'_id': ObjectId('58641666ed425d6e306d114d'),\n",
      "  u'created': {u'changeset': u'10870093',\n",
      "               u'timestamp': u'2012-03-04T15:52:54Z',\n",
      "               u'uid': u'397850',\n",
      "               u'user': u'Tulio Magno Quites Machado Filho',\n",
      "               u'version': u'1'},\n",
      "  u'id': u'1659159021',\n",
      "  u'natural': u'Tree',\n",
      "  u'pos': [-19.9316824, -43.9378159],\n",
      "  u'type': u'Palm'},\n",
      " {u'_id': ObjectId('58641666ed425d6e306d114e'),\n",
      "  u'created': {u'changeset': u'10870093',\n",
      "               u'timestamp': u'2012-03-04T15:52:54Z',\n",
      "               u'uid': u'397850',\n",
      "               u'user': u'Tulio Magno Quites Machado Filho',\n",
      "               u'version': u'1'},\n",
      "  u'id': u'1659159022',\n",
      "  u'natural': u'Tree',\n",
      "  u'pos': [-19.9317465, -43.9378328],\n",
      "  u'type': u'Palm'},\n",
      " {u'_id': ObjectId('58641666ed425d6e306d114f'),\n",
      "  u'created': {u'changeset': u'10870093',\n",
      "               u'timestamp': u'2012-03-04T15:52:53Z',\n",
      "               u'uid': u'397850',\n",
      "               u'user': u'Tulio Magno Quites Machado Filho',\n",
      "               u'version': u'1'},\n",
      "  u'id': u'1659159012',\n",
      "  u'natural': u'Tree',\n",
      "  u'pos': [-19.9315542, -43.9377822],\n",
      "  u'type': u'Palm'},\n",
      " {u'_id': ObjectId('58641666ed425d6e306d1150'),\n",
      "  u'created': {u'changeset': u'10870093',\n",
      "               u'timestamp': u'2012-03-04T15:52:54Z',\n",
      "               u'uid': u'397850',\n",
      "               u'user': u'Tulio Magno Quites Machado Filho',\n",
      "               u'version': u'1'},\n",
      "  u'id': u'1659159023',\n",
      "  u'natural': u'Tree',\n",
      "  u'pos': [-19.9318106, -43.9378496],\n",
      "  u'type': u'Palm'},\n",
      " {u'_id': ObjectId('58641666ed425d6e306d1151'),\n",
      "  u'created': {u'changeset': u'10870093',\n",
      "               u'timestamp': u'2012-03-04T15:52:54Z',\n",
      "               u'uid': u'397850',\n",
      "               u'user': u'Tulio Magno Quites Machado Filho',\n",
      "               u'version': u'1'},\n",
      "  u'id': u'1659159024',\n",
      "  u'natural': u'Tree',\n",
      "  u'pos': [-19.9318747, -43.9378665],\n",
      "  u'type': u'Palm'},\n",
      " {u'_id': ObjectId('58641666ed425d6e306d1152'),\n",
      "  u'created': {u'changeset': u'10870093',\n",
      "               u'timestamp': u'2012-03-04T15:52:54Z',\n",
      "               u'uid': u'397850',\n",
      "               u'user': u'Tulio Magno Quites Machado Filho',\n",
      "               u'version': u'1'},\n",
      "  u'id': u'1659159014',\n",
      "  u'natural': u'Tree',\n",
      "  u'pos': [-19.9316183, -43.937799],\n",
      "  u'type': u'Palm'},\n",
      " {u'_id': ObjectId('58641666ed425d6e306d1153'),\n",
      "  u'created': {u'changeset': u'10870093',\n",
      "               u'timestamp': u'2012-03-04T15:52:54Z',\n",
      "               u'uid': u'397850',\n",
      "               u'user': u'Tulio Magno Quites Machado Filho',\n",
      "               u'version': u'1'},\n",
      "  u'id': u'1659159025',\n",
      "  u'natural': u'Tree',\n",
      "  u'pos': [-19.9319387, -43.9378833],\n",
      "  u'type': u'Palm'},\n",
      " {u'_id': ObjectId('58641666ed425d6e306d1154'),\n",
      "  u'created': {u'changeset': u'10870093',\n",
      "               u'timestamp': u'2012-03-04T15:52:54Z',\n",
      "               u'uid': u'397850',\n",
      "               u'user': u'Tulio Magno Quites Machado Filho',\n",
      "               u'version': u'1'},\n",
      "  u'id': u'1659159026',\n",
      "  u'natural': u'Tree',\n",
      "  u'pos': [-19.9320028, -43.9379002],\n",
      "  u'type': u'Palm'},\n",
      " {u'_id': ObjectId('58641666ed425d6e306d1155'),\n",
      "  u'created': {u'changeset': u'10870093',\n",
      "               u'timestamp': u'2012-03-04T15:52:55Z',\n",
      "               u'uid': u'397850',\n",
      "               u'user': u'Tulio Magno Quites Machado Filho',\n",
      "               u'version': u'1'},\n",
      "  u'id': u'1659159027',\n",
      "  u'natural': u'Tree',\n",
      "  u'pos': [-19.9320669, -43.937917],\n",
      "  u'type': u'Palm'},\n",
      " {u'_id': ObjectId('58641666ed425d6e306d1156'),\n",
      "  u'created': {u'changeset': u'10870093',\n",
      "               u'timestamp': u'2012-03-04T15:52:55Z',\n",
      "               u'uid': u'397850',\n",
      "               u'user': u'Tulio Magno Quites Machado Filho',\n",
      "               u'version': u'1'},\n",
      "  u'id': u'1659159028',\n",
      "  u'natural': u'Tree',\n",
      "  u'pos': [-19.9321951, -43.9379508],\n",
      "  u'type': u'Palm'},\n",
      " {u'_id': ObjectId('58641666ed425d6e306d1157'),\n",
      "  u'created': {u'changeset': u'10870093',\n",
      "               u'timestamp': u'2012-03-04T15:52:55Z',\n",
      "               u'uid': u'397850',\n",
      "               u'user': u'Tulio Magno Quites Machado Filho',\n",
      "               u'version': u'1'},\n",
      "  u'id': u'1659159029',\n",
      "  u'natural': u'Tree',\n",
      "  u'pos': [-19.9322592, -43.9379676],\n",
      "  u'type': u'Palm'},\n",
      " {u'_id': ObjectId('58641666ed425d6e306d1158'),\n",
      "  u'created': {u'changeset': u'10870093',\n",
      "               u'timestamp': u'2012-03-04T15:52:55Z',\n",
      "               u'uid': u'397850',\n",
      "               u'user': u'Tulio Magno Quites Machado Filho',\n",
      "               u'version': u'1'},\n",
      "  u'id': u'1659159030',\n",
      "  u'natural': u'Tree',\n",
      "  u'pos': [-19.9323233, -43.9379845],\n",
      "  u'type': u'Palm'},\n",
      " {u'_id': ObjectId('58641666ed425d6e306d1159'),\n",
      "  u'created': {u'changeset': u'10870093',\n",
      "               u'timestamp': u'2012-03-04T15:52:55Z',\n",
      "               u'uid': u'397850',\n",
      "               u'user': u'Tulio Magno Quites Machado Filho',\n",
      "               u'version': u'1'},\n",
      "  u'id': u'1659159031',\n",
      "  u'natural': u'Tree',\n",
      "  u'pos': [-19.9323874, -43.9380013],\n",
      "  u'type': u'Palm'},\n",
      " {u'_id': ObjectId('58641666ed425d6e306d115a'),\n",
      "  u'created': {u'changeset': u'10870093',\n",
      "               u'timestamp': u'2012-03-04T15:52:55Z',\n",
      "               u'uid': u'397850',\n",
      "               u'user': u'Tulio Magno Quites Machado Filho',\n",
      "               u'version': u'1'},\n",
      "  u'id': u'1659159032',\n",
      "  u'natural': u'Tree',\n",
      "  u'pos': [-19.9324515, -43.9380182],\n",
      "  u'type': u'Palm'},\n",
      " {u'_id': ObjectId('58641666ed425d6e306d115b'),\n",
      "  u'created': {u'changeset': u'10870093',\n",
      "               u'timestamp': u'2012-03-04T15:52:55Z',\n",
      "               u'uid': u'397850',\n",
      "               u'user': u'Tulio Magno Quites Machado Filho',\n",
      "               u'version': u'1'},\n",
      "  u'id': u'1659159033',\n",
      "  u'natural': u'Tree',\n",
      "  u'pos': [-19.9325156, -43.938035],\n",
      "  u'type': u'Palm'},\n",
      " {u'_id': ObjectId('58641666ed425d6e306d115c'),\n",
      "  u'created': {u'changeset': u'10870093',\n",
      "               u'timestamp': u'2012-03-04T15:52:56Z',\n",
      "               u'uid': u'397850',\n",
      "               u'user': u'Tulio Magno Quites Machado Filho',\n",
      "               u'version': u'1'},\n",
      "  u'id': u'1659159036',\n",
      "  u'natural': u'Tree',\n",
      "  u'pos': [-19.9327079, -43.9380856],\n",
      "  u'type': u'Palm'},\n",
      " {u'_id': ObjectId('58641666ed425d6e306d115d'),\n",
      "  u'created': {u'changeset': u'10870093',\n",
      "               u'timestamp': u'2012-03-04T15:52:56Z',\n",
      "               u'uid': u'397850',\n",
      "               u'user': u'Tulio Magno Quites Machado Filho',\n",
      "               u'version': u'1'},\n",
      "  u'id': u'1659159037',\n",
      "  u'natural': u'Tree',\n",
      "  u'pos': [-19.932772, -43.9381025],\n",
      "  u'type': u'Palm'},\n",
      " {u'_id': ObjectId('58641666ed425d6e306d115e'),\n",
      "  u'created': {u'changeset': u'10870093',\n",
      "               u'timestamp': u'2012-03-04T15:52:55Z',\n",
      "               u'uid': u'397850',\n",
      "               u'user': u'Tulio Magno Quites Machado Filho',\n",
      "               u'version': u'1'},\n",
      "  u'id': u'1659159035',\n",
      "  u'natural': u'Tree',\n",
      "  u'pos': [-19.9326438, -43.9380688],\n",
      "  u'type': u'Palm'},\n",
      " {u'_id': ObjectId('58641666ed425d6e306d1164'),\n",
      "  u'created': {u'changeset': u'10870093',\n",
      "               u'timestamp': u'2012-03-04T15:52:55Z',\n",
      "               u'uid': u'397850',\n",
      "               u'user': u'Tulio Magno Quites Machado Filho',\n",
      "               u'version': u'1'},\n",
      "  u'id': u'1659159034',\n",
      "  u'natural': u'Tree',\n",
      "  u'pos': [-19.9325797, -43.9380519],\n",
      "  u'type': u'Palm'},\n",
      " {u'_id': ObjectId('5864166eed425d6e307223ec'),\n",
      "  u'address': {u'city': u'Belo Horizonte',\n",
      "               u'housenumber': u'1200',\n",
      "               u'street': u'Avenida Barbacena',\n",
      "               u'suburb': u'Santo Agostinho'},\n",
      "  u'building': u'Commercial',\n",
      "  u'building:levels': u'26',\n",
      "  u'created': {u'changeset': u'42809118',\n",
      "               u'timestamp': u'2016-10-11T17:59:16Z',\n",
      "               u'uid': u'497849',\n",
      "               u'user': u'pyram',\n",
      "               u'version': u'5'},\n",
      "  u'id': u'188993528',\n",
      "  u'name': u'Edif\\xedcio Julio Soares - Cemig S.A.',\n",
      "  u'node_refs': [u'4442538945',\n",
      "                 u'4442538946',\n",
      "                 u'4430762739',\n",
      "                 u'4442538944',\n",
      "                 u'4442538945'],\n",
      "  u'smoking': u'Outside',\n",
      "  u'source': u'Survey',\n",
      "  u'type': u'Multipolygon',\n",
      "  u'website': u'Http://Www.Cemig.Com.Br',\n",
      "  u'wheelchair': u'Yes'},\n",
      " {u'_id': ObjectId('5864166eed425d6e30722b1c'),\n",
      "  u'amenity': u'Shelter',\n",
      "  u'building': u'Roof',\n",
      "  u'created': {u'changeset': u'37375805',\n",
      "               u'timestamp': u'2016-02-22T20:08:24Z',\n",
      "               u'uid': u'397143',\n",
      "               u'user': u'Vitor Dias',\n",
      "               u'version': u'5'},\n",
      "  u'id': u'218721799',\n",
      "  u'layer': u'1',\n",
      "  u'name': u'Terminal De \\xd4nibus Da Esta\\xe7\\xe3o Eldorado',\n",
      "  u'node_refs': [u'2279485721',\n",
      "                 u'4020404540',\n",
      "                 u'4020404575',\n",
      "                 u'4020404574',\n",
      "                 u'4020404537',\n",
      "                 u'4020404536',\n",
      "                 u'2279485733',\n",
      "                 u'2279485715',\n",
      "                 u'2279485708',\n",
      "                 u'2279485713',\n",
      "                 u'4020404528',\n",
      "                 u'2279485710',\n",
      "                 u'2279485712',\n",
      "                 u'2279485734',\n",
      "                 u'2279485723',\n",
      "                 u'4020404522',\n",
      "                 u'2279485727',\n",
      "                 u'2279485742',\n",
      "                 u'2279485745',\n",
      "                 u'2279485701',\n",
      "                 u'4020404518',\n",
      "                 u'2279485717',\n",
      "                 u'4020404510',\n",
      "                 u'2279485731',\n",
      "                 u'4020404511',\n",
      "                 u'2279485744',\n",
      "                 u'2279485699',\n",
      "                 u'2279485718',\n",
      "                 u'2279485743',\n",
      "                 u'4020404517',\n",
      "                 u'2279485729',\n",
      "                 u'2279485730',\n",
      "                 u'2279485735',\n",
      "                 u'2279485709',\n",
      "                 u'4020404523',\n",
      "                 u'2279485704',\n",
      "                 u'2279485737',\n",
      "                 u'2279485732',\n",
      "                 u'2279485739',\n",
      "                 u'4020404529',\n",
      "                 u'4020404530',\n",
      "                 u'4020404499',\n",
      "                 u'4020404501',\n",
      "                 u'4020404532',\n",
      "                 u'2279485714',\n",
      "                 u'2279465161',\n",
      "                 u'2279485721'],\n",
      "  u'public_transport': u'Station',\n",
      "  u'type': u'Multipolygon'},\n",
      " {u'_id': ObjectId('5864166fed425d6e30727032'),\n",
      "  u'amenity': u'Bus_Station',\n",
      "  u'building': u'Yes',\n",
      "  u'created': {u'changeset': u'35215162',\n",
      "               u'timestamp': u'2015-11-10T13:37:59Z',\n",
      "               u'uid': u'397143',\n",
      "               u'user': u'Vitor Dias',\n",
      "               u'version': u'2'},\n",
      "  u'id': u'288257048',\n",
      "  u'name': u'Esta\\xe7\\xe3o Santa Rosa - Move Metropolitano',\n",
      "  u'network': u'Br:Mg',\n",
      "  u'node_refs': [u'2918194218',\n",
      "                 u'2918194219',\n",
      "                 u'2918194221',\n",
      "                 u'2918194220',\n",
      "                 u'2918194218'],\n",
      "  u'operator': u'Setop',\n",
      "  u'public_transport': u'Station',\n",
      "  u'type': u'Multipolygon'},\n",
      " {u'_id': ObjectId('5864166fed425d6e3072705c'),\n",
      "  u'amenity': u'Bus_Station',\n",
      "  u'building': u'Yes',\n",
      "  u'created': {u'changeset': u'35215162',\n",
      "               u'timestamp': u'2015-11-10T13:37:59Z',\n",
      "               u'uid': u'397143',\n",
      "               u'user': u'Vitor Dias',\n",
      "               u'version': u'2'},\n",
      "  u'id': u'288303324',\n",
      "  u'name': u'Esta\\xe7\\xe3o Ufmg - Move Metropolitano',\n",
      "  u'network': u'Br:Mg',\n",
      "  u'node_refs': [u'2918622878',\n",
      "                 u'2918622880',\n",
      "                 u'2918622879',\n",
      "                 u'2918622877',\n",
      "                 u'2918622878'],\n",
      "  u'operator': u'Setop',\n",
      "  u'public_transport': u'Station',\n",
      "  u'type': u'Multipolygon'},\n",
      " {u'_id': ObjectId('5864166fed425d6e3072705d'),\n",
      "  u'amenity': u'Bus_Station',\n",
      "  u'building': u'Yes',\n",
      "  u'created': {u'changeset': u'35215162',\n",
      "               u'timestamp': u'2015-11-10T13:37:58Z',\n",
      "               u'uid': u'397143',\n",
      "               u'user': u'Vitor Dias',\n",
      "               u'version': u'2'},\n",
      "  u'id': u'288303326',\n",
      "  u'name': u'Esta\\xe7\\xe3o Mineir\\xe3o - Move Metropolitano',\n",
      "  u'network': u'Br:Mg',\n",
      "  u'node_refs': [u'2918622866',\n",
      "                 u'2918622868',\n",
      "                 u'2918622867',\n",
      "                 u'2918622865',\n",
      "                 u'2918622866'],\n",
      "  u'operator': u'Setop',\n",
      "  u'public_transport': u'Station',\n",
      "  u'type': u'Multipolygon'},\n",
      " {u'_id': ObjectId('5864166fed425d6e30727263'),\n",
      "  u'amenity': u'Bus_Station',\n",
      "  u'building': u'Yes',\n",
      "  u'created': {u'changeset': u'35215162',\n",
      "               u'timestamp': u'2015-11-10T13:37:58Z',\n",
      "               u'uid': u'397143',\n",
      "               u'user': u'Vitor Dias',\n",
      "               u'version': u'2'},\n",
      "  u'id': u'292972244',\n",
      "  u'name': u'Esta\\xe7\\xe3o Col\\xe9gio Militar - Move Metropolitano',\n",
      "  u'network': u'Br:Mg',\n",
      "  u'node_refs': [u'2965293529',\n",
      "                 u'2965293531',\n",
      "                 u'2965293530',\n",
      "                 u'2965293528',\n",
      "                 u'2965293529'],\n",
      "  u'operator': u'Setop',\n",
      "  u'public_transport': u'Station',\n",
      "  u'type': u'Multipolygon'},\n",
      " {u'_id': ObjectId('5864166fed425d6e307276ae'),\n",
      "  u'amenity': u'Bus_Station',\n",
      "  u'building': u'Yes',\n",
      "  u'created': {u'changeset': u'35215162',\n",
      "               u'timestamp': u'2015-11-10T13:37:58Z',\n",
      "               u'uid': u'397143',\n",
      "               u'user': u'Vitor Dias',\n",
      "               u'version': u'2'},\n",
      "  u'id': u'314199935',\n",
      "  u'name': u'Esta\\xe7\\xe3o Liberdade - Move Metropolitano',\n",
      "  u'network': u'Br:Mg',\n",
      "  u'node_refs': [u'3202456293',\n",
      "                 u'3202456273',\n",
      "                 u'3202456288',\n",
      "                 u'3202456291',\n",
      "                 u'3202456293'],\n",
      "  u'operator': u'Setop',\n",
      "  u'public_transport': u'Station',\n",
      "  u'type': u'Multipolygon'},\n",
      " {u'_id': ObjectId('5864166fed425d6e307276bf'),\n",
      "  u'amenity': u'Bus_Station',\n",
      "  u'building': u'Yes',\n",
      "  u'created': {u'changeset': u'35215162',\n",
      "               u'timestamp': u'2015-11-10T13:37:57Z',\n",
      "               u'uid': u'397143',\n",
      "               u'user': u'Vitor Dias',\n",
      "               u'version': u'2'},\n",
      "  u'id': u'314207537',\n",
      "  u'name': u'Esta\\xe7\\xe3o Am\\xe9rico Vesp\\xfacio - Move Metropolitano',\n",
      "  u'network': u'Br:Mg',\n",
      "  u'node_refs': [u'3202539407',\n",
      "                 u'2314619209',\n",
      "                 u'3202539408',\n",
      "                 u'3202539415',\n",
      "                 u'3202539414',\n",
      "                 u'3202539407'],\n",
      "  u'operator': u'Setop',\n",
      "  u'public_transport': u'Station',\n",
      "  u'type': u'Multipolygon'},\n",
      " {u'_id': ObjectId('5864166fed425d6e307276c2'),\n",
      "  u'amenity': u'Bus_Station',\n",
      "  u'building': u'Yes',\n",
      "  u'created': {u'changeset': u'35215162',\n",
      "               u'timestamp': u'2015-11-10T13:37:58Z',\n",
      "               u'uid': u'397143',\n",
      "               u'user': u'Vitor Dias',\n",
      "               u'version': u'2'},\n",
      "  u'id': u'314207535',\n",
      "  u'name': u'Esta\\xe7\\xe3o Cachoeirinha - Move Metropolitano',\n",
      "  u'network': u'Br:Mg',\n",
      "  u'node_refs': [u'3202539387',\n",
      "                 u'3202539389',\n",
      "                 u'3202539388',\n",
      "                 u'3202539386',\n",
      "                 u'3202539387'],\n",
      "  u'operator': u'Setop',\n",
      "  u'public_transport': u'Station',\n",
      "  u'type': u'Multipolygon'},\n",
      " {u'_id': ObjectId('5864166fed425d6e307276c4'),\n",
      "  u'amenity': u'Bus_Station',\n",
      "  u'building': u'Yes',\n",
      "  u'created': {u'changeset': u'35215162',\n",
      "               u'timestamp': u'2015-11-10T13:37:57Z',\n",
      "               u'uid': u'397143',\n",
      "               u'user': u'Vitor Dias',\n",
      "               u'version': u'2'},\n",
      "  u'id': u'314207541',\n",
      "  u'name': u'Esta\\xe7\\xe3o Am\\xe9rico Vesp\\xfacio - Move Bh',\n",
      "  u'network': u'Br:Mg:Belo Horizonte',\n",
      "  u'node_refs': [u'3202539393',\n",
      "                 u'2314619239',\n",
      "                 u'3202539392',\n",
      "                 u'3202539390',\n",
      "                 u'3202539391',\n",
      "                 u'3202539393'],\n",
      "  u'operator': u'Bhtrans',\n",
      "  u'public_transport': u'Station',\n",
      "  u'type': u'Multipolygon'},\n",
      " {u'_id': ObjectId('5864166fed425d6e30727e2e'),\n",
      "  u'access': u'Private',\n",
      "  u'amenity': u'Parking',\n",
      "  u'created': {u'changeset': u'29896136',\n",
      "               u'timestamp': u'2015-04-01T04:32:15Z',\n",
      "               u'uid': u'397143',\n",
      "               u'user': u'Vitor Dias',\n",
      "               u'version': u'1'},\n",
      "  u'id': u'335850521',\n",
      "  u'name': u'Estacionamento Docentes E Funcion\\xe1rios',\n",
      "  u'node_refs': [u'3429630697',\n",
      "                 u'3429630682',\n",
      "                 u'3429630686',\n",
      "                 u'3429630687',\n",
      "                 u'3429630698',\n",
      "                 u'3429630699',\n",
      "                 u'3429630697'],\n",
      "  u'type': u'Multipolygon'},\n",
      " {u'_id': ObjectId('5864166fed425d6e3072a23b'),\n",
      "  u'amenity': u'Bus_Station',\n",
      "  u'building': u'Yes',\n",
      "  u'created': {u'changeset': u'35215162',\n",
      "               u'timestamp': u'2015-11-10T13:37:11Z',\n",
      "               u'uid': u'397143',\n",
      "               u'user': u'Vitor Dias',\n",
      "               u'version': u'1'},\n",
      "  u'id': u'379551432',\n",
      "  u'name': u'Esta\\xe7\\xe3o S\\xe3o Francisco - Move Metropolitano',\n",
      "  u'network': u'Br:Mg',\n",
      "  u'node_refs': [u'3202520425',\n",
      "                 u'3202520430',\n",
      "                 u'3202520438',\n",
      "                 u'3202520426',\n",
      "                 u'3202520425'],\n",
      "  u'operator': u'Setop',\n",
      "  u'public_transport': u'Station',\n",
      "  u'type': u'Multipolygon'}]\n"
     ]
    }
   ],
   "source": [
    "pprint.pprint(list(db.mapbh.find({\"type\":{\"$nin\":[\"way\",\"node\"]}})))"
   ]
  },
  {
   "cell_type": "markdown",
   "metadata": {},
   "source": [
    "Percorrendo os registros acima é possível perceber que eles tem uma tag \"type\", como não foi implementada nenhum método que filtrasse esse tipo de situação, o valor desta tag própria substituiu o da tag \"type\" que deveria ter o tipo do atributo tag.\n",
    "\n",
    "Estes registros que foram comprometidos pela lógica da programação, serão excluídos da coleção. Uma correção possível na função shape_element é atribuir o valor de node['type'] = element.tag ao fim processo e não no ínicio, como foi implementado."
   ]
  },
  {
   "cell_type": "code",
   "execution_count": 47,
   "metadata": {
    "collapsed": false
   },
   "outputs": [
    {
     "data": {
      "text/plain": [
       "<pymongo.results.DeleteResult at 0x3c75a68>"
      ]
     },
     "execution_count": 47,
     "metadata": {},
     "output_type": "execute_result"
    }
   ],
   "source": [
    "db.mapbh.delete_many({\"type\":{\"$nin\":[\"way\",\"node\"]}})"
   ]
  },
  {
   "cell_type": "markdown",
   "metadata": {},
   "source": [
    "Será que agora todos os registros são to tipo node ou way? Vamos conferir se o total de documentos na coleção é igual ao total de registros com way + node."
   ]
  },
  {
   "cell_type": "code",
   "execution_count": 50,
   "metadata": {
    "collapsed": false
   },
   "outputs": [
    {
     "data": {
      "text/plain": [
       "True"
      ]
     },
     "execution_count": 50,
     "metadata": {},
     "output_type": "execute_result"
    }
   ],
   "source": [
    "db.mapbh.find().count() == db.mapbh.find({\"type\":{\"$in\":[\"way\",\"node\"]}}).count()"
   ]
  },
  {
   "cell_type": "markdown",
   "metadata": {},
   "source": [
    "A comparação retornou True e os registros foram excluídos corretamente."
   ]
  },
  {
   "cell_type": "markdown",
   "metadata": {},
   "source": [
    "** 5. Tamanho dos arquivos OSM e JSON **\n",
    "\n",
    "- mapbh.json => 136.726 kb\n",
    "- mapbh.OSM => 93.432 kb"
   ]
  },
  {
   "cell_type": "markdown",
   "metadata": {},
   "source": [
    "** 6. Usuários contribuintes com OSM de BH **"
   ]
  },
  {
   "cell_type": "code",
   "execution_count": null,
   "metadata": {
    "collapsed": true
   },
   "outputs": [],
   "source": [
    "pipeline=[\n",
    "            {\"$group\": {\"_id\": {\"Cod\":\"$created.uid\", \"user\":\"$created.user\"}, \"total\": {\"$sum\": 1}}},\n",
    "            {\"$sort\" : {\"total\" : -1}},\n",
    "            {\"$limit\": 1}\n",
    "          ]\n",
    "\n",
    "list(db.mapbh.aggregate(pipeline))"
   ]
  },
  {
   "cell_type": "code",
   "execution_count": 50,
   "metadata": {
    "collapsed": false
   },
   "outputs": [
    {
     "ename": "AttributeError",
     "evalue": "'list' object has no attribute 'size'",
     "output_type": "error",
     "traceback": [
      "\u001b[1;31m---------------------------------------------------------------------------\u001b[0m",
      "\u001b[1;31mAttributeError\u001b[0m                            Traceback (most recent call last)",
      "\u001b[1;32m<ipython-input-50-a732019bcc51>\u001b[0m in \u001b[0;36m<module>\u001b[1;34m()\u001b[0m\n\u001b[1;32m----> 1\u001b[1;33m \u001b[0mdb\u001b[0m\u001b[1;33m.\u001b[0m\u001b[0mmapbh\u001b[0m\u001b[1;33m.\u001b[0m\u001b[0mdistinct\u001b[0m\u001b[1;33m(\u001b[0m\u001b[1;34m\"created.uid\"\u001b[0m\u001b[1;33m)\u001b[0m\u001b[1;33m.\u001b[0m\u001b[0msize\u001b[0m\u001b[1;33m\u001b[0m\u001b[0m\n\u001b[0m",
      "\u001b[1;31mAttributeError\u001b[0m: 'list' object has no attribute 'size'"
     ]
    }
   ],
   "source": [
    "db.mapbh.distinct(\"created.uid\").size"
   ]
  },
  {
   "cell_type": "markdown",
   "metadata": {},
   "source": [
    "Lista usuário que mais contribuiu para o OSM de BH:"
   ]
  },
  {
   "cell_type": "code",
   "execution_count": 32,
   "metadata": {
    "collapsed": false
   },
   "outputs": [
    {
     "data": {
      "text/plain": [
       "[{u'_id': {u'Cod': u'397143', u'user': u'Vitor Dias'}, u'total': 128024}]"
      ]
     },
     "execution_count": 32,
     "metadata": {},
     "output_type": "execute_result"
    }
   ],
   "source": [
    "pipeline=[\n",
    "            {\"$match\": {\"type\": \"node\"}},\n",
    "            {\"$group\": {\"_id\": {\"Cod\":\"$created.uid\", \"user\":\"$created.user\"}, \"total\": {\"$sum\": 1}}},\n",
    "            {\"$sort\" : {\"total\" : -1}},\n",
    "            {\"$limit\": 1}\n",
    "          ]\n",
    "\n",
    "list(db.mapbh.aggregate(pipeline))"
   ]
  },
  {
   "cell_type": "code",
   "execution_count": null,
   "metadata": {
    "collapsed": true
   },
   "outputs": [],
   "source": []
  },
  {
   "cell_type": "markdown",
   "metadata": {},
   "source": [
    "## 4. Other ideas about the data sets"
   ]
  },
  {
   "cell_type": "markdown",
   "metadata": {},
   "source": [
    "O atributo Nome da Cidade foi auditado na fase anterior e seus valores foram mapeados. Vamos executar uma consulta que retorne o nome das cidades e total de ruas cadastradas para cada uma delas."
   ]
  },
  {
   "cell_type": "code",
   "execution_count": 3,
   "metadata": {
    "collapsed": false
   },
   "outputs": [],
   "source": [
    "pipeline = [{\"$unwind\" : \"$address.city\"},\n",
    "            {\"$group\": {\"_id\" : {\"cidade\":\"$address.city\", \"rua\":\"$address.street\"}, \"ccount\": {\"$sum\": 1}}},\n",
    "            {\"$group\" : {\"_id\": \"$_id.cidade\", \"TotalRuas\" : {\"$sum\": \"$ccount\"}}},\n",
    "            {\"$sort\" : {\"count\" : -1}}\n",
    "            ]\n",
    "\n",
    "total_rua_cidades = list(db.mapbh.aggregate(pipeline))"
   ]
  },
  {
   "cell_type": "code",
   "execution_count": 4,
   "metadata": {
    "collapsed": false
   },
   "outputs": [
    {
     "name": "stdout",
     "output_type": "stream",
     "text": [
      "[{u'TotalRuas': 320, u'_id': u'Belo Horizonte'},\n",
      " {u'TotalRuas': 5, u'_id': u'Sarzedo'},\n",
      " {u'TotalRuas': 16, u'_id': u'Betim'},\n",
      " {u'TotalRuas': 12, u'_id': u'Contagem'},\n",
      " {u'TotalRuas': 8, u'_id': u'Belo Horizont'},\n",
      " {u'TotalRuas': 2, u'_id': u'Ribeir\\xe3o Das Neves'},\n",
      " {u'TotalRuas': 8, u'_id': u'Nova Lima'},\n",
      " {u'TotalRuas': 5, u'_id': u'Sabar\\xe1'},\n",
      " {u'TotalRuas': 4, u'_id': u'Santa Luzia'}]\n"
     ]
    }
   ],
   "source": [
    "pprint.pprint(total_rua_cidades)"
   ]
  },
  {
   "cell_type": "markdown",
   "metadata": {},
   "source": [
    "Na lista de cidades o nome Belo Horizonte aparece duas vezes sendo uma delas com grafia incorreta \"Belo Horizont\". Para corrigir a situação no banco de dados foi atualizar o nome para o correto. "
   ]
  },
  {
   "cell_type": "code",
   "execution_count": 26,
   "metadata": {
    "collapsed": false
   },
   "outputs": [
    {
     "data": {
      "text/plain": [
       "8"
      ]
     },
     "execution_count": 26,
     "metadata": {},
     "output_type": "execute_result"
    }
   ],
   "source": [
    "db.mapbh.find({\"address.city\":\"Belo Horizont\"}).count()"
   ]
  },
  {
   "cell_type": "code",
   "execution_count": 28,
   "metadata": {
    "collapsed": false
   },
   "outputs": [
    {
     "name": "stderr",
     "output_type": "stream",
     "text": [
      "C:\\Program Files (x86)\\Anaconda2\\lib\\site-packages\\ipykernel\\__main__.py:2: DeprecationWarning: update is deprecated. Use replace_one, update_one or update_many instead.\n",
      "  from ipykernel import kernelapp as app\n"
     ]
    },
    {
     "data": {
      "text/plain": [
       "{u'n': 8, u'nModified': 8, u'ok': 1, 'updatedExisting': True}"
      ]
     },
     "execution_count": 28,
     "metadata": {},
     "output_type": "execute_result"
    }
   ],
   "source": [
    "db.mapbh.update({\"address.city\":\"Belo Horizont\"}, \n",
    "                {\"$set\": {\"address.city\":\"Belo Horizonte\"}},multi=True)"
   ]
  },
  {
   "cell_type": "markdown",
   "metadata": {
    "collapsed": true
   },
   "source": [
    "Agora que o dados estão consistentes, vamos imprimir um gráfico de pizza com a distribuição das ruas cadastradas por cidade. Existem dados cadastrados para a capital Belo Horizonte e para as cidades da região metropolitana."
   ]
  },
  {
   "cell_type": "code",
   "execution_count": 30,
   "metadata": {
    "collapsed": false
   },
   "outputs": [
    {
     "data": {
      "text/plain": [
       "([<matplotlib.patches.Wedge at 0xc517128>,\n",
       "  <matplotlib.patches.Wedge at 0xc517a20>,\n",
       "  <matplotlib.patches.Wedge at 0xc5272b0>,\n",
       "  <matplotlib.patches.Wedge at 0xc527b00>,\n",
       "  <matplotlib.patches.Wedge at 0xc537390>,\n",
       "  <matplotlib.patches.Wedge at 0xc537be0>,\n",
       "  <matplotlib.patches.Wedge at 0xc5c5470>,\n",
       "  <matplotlib.patches.Wedge at 0xc5c5cc0>],\n",
       " [<matplotlib.text.Text at 0xc5176a0>,\n",
       "  <matplotlib.text.Text at 0xc517f60>,\n",
       "  <matplotlib.text.Text at 0xc5277f0>,\n",
       "  <matplotlib.text.Text at 0xc527f98>,\n",
       "  <matplotlib.text.Text at 0xc5378d0>,\n",
       "  <matplotlib.text.Text at 0xc5c5160>,\n",
       "  <matplotlib.text.Text at 0xc5c59b0>,\n",
       "  <matplotlib.text.Text at 0xc5d2240>])"
      ]
     },
     "execution_count": 30,
     "metadata": {},
     "output_type": "execute_result"
    },
    {
     "data": {
      "image/png": "[encoded data removed]",
      "text/plain": [
       "<matplotlib.figure.Figure at 0xc2a9588>"
      ]
     },
     "metadata": {},
     "output_type": "display_data"
    }
   ],
   "source": [
    "cidade = []\n",
    "total = []\n",
    "for item in total_rua_cidades:\n",
    "    total.append(item[\"TotalRuas\"])\n",
    "    cidade.append(item[\"_id\"].encode('ascii', 'ignore'))\n",
    "plt.pie(x=total,labels=cidade)"
   ]
  },
  {
   "cell_type": "code",
   "execution_count": null,
   "metadata": {
    "collapsed": true
   },
   "outputs": [],
   "source": []
  },
  {
   "cell_type": "code",
   "execution_count": null,
   "metadata": {
    "collapsed": true
   },
   "outputs": [],
   "source": []
  },
  {
   "cell_type": "code",
   "execution_count": null,
   "metadata": {
    "collapsed": true
   },
   "outputs": [],
   "source": []
  },
  {
   "cell_type": "code",
   "execution_count": null,
   "metadata": {
    "collapsed": true
   },
   "outputs": [],
   "source": []
  },
  {
   "cell_type": "code",
   "execution_count": null,
   "metadata": {
    "collapsed": true
   },
   "outputs": [],
   "source": []
  },
  {
   "cell_type": "code",
   "execution_count": null,
   "metadata": {
    "collapsed": true
   },
   "outputs": [],
   "source": []
  },
  {
   "cell_type": "markdown",
   "metadata": {},
   "source": [
    "## 5. Conclusão"
   ]
  },
  {
   "cell_type": "markdown",
   "metadata": {},
   "source": [
    "## 6. Referências"
   ]
  },
  {
   "cell_type": "code",
   "execution_count": null,
   "metadata": {
    "collapsed": true
   },
   "outputs": [],
   "source": [
    "http://wiki.openstreetmap.org/wiki/Belo_Horizonte\n",
    "http://wiki.openstreetmap.org/wiki/WikiProject_Brazil\n",
    "http://overpass-api.de/api/map?bbox=-44.3092,-20.0979,-43.6116,-19.7376\n"
   ]
  }
 ],
 "metadata": {
  "kernelspec": {
   "display_name": "Python [Root]",
   "language": "python",
   "name": "Python [Root]"
  },
  "language_info": {
   "codemirror_mode": {
    "name": "ipython",
    "version": 2
   },
   "file_extension": ".py",
   "mimetype": "text/x-python",
   "name": "python",
   "nbconvert_exporter": "python",
   "pygments_lexer": "ipython2",
   "version": "2.7.11"
  }
 },
 "nbformat": 4,
 "nbformat_minor": 0
}
