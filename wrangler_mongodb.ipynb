{
 "cells": [
  {
   "cell_type": "markdown",
   "metadata": {},
   "source": [
    "# P3: Limpando dados do OpenStreetMap\n",
    "\n",
    "* Lieby Cardoso\n",
    "                                                \n",
    "* Região selecionada para o projeto: Belo Horizonte, MG, Brasil  \n",
    "\n",
    "<img src=\"BH.jpg\" alt=\"alt text\" title=\"bh\">\n",
    "Fonte: http://www.openstreetmap.org/relation/368782"
   ]
  },
  {
   "cell_type": "markdown",
   "metadata": {},
   "source": [
    "### Conteúdo\n",
    "1.\tMétodos e ferramentas\n",
    "2.\tProblemas encontrados no mapa\n",
    "3.  Visão geral dos dados\n",
    "4.  Outras Ideias sobre os Dados\n",
    "5.  Conclusão\n",
    "6.  Referências"
   ]
  },
  {
   "cell_type": "markdown",
   "metadata": {},
   "source": [
    "### 1.\tMétodos e ferramentas\n",
    "A base dos dados explorados neste projeto é disponibilizada pelo OpenStreetMap e foi extraída com a ajuda da ferramenta API Overpass com as coordenadas -44.3092,-20.0979,-43.6116,-19.7376 que representam a área de Belo Horizonte.\n",
    "\n",
    "O arquivo foi exportado no formato OSM/XML e foi gerada uma amostra desta base com menos informação para facilitar e agilizar a leitura das informações na fase da auditoria. \n",
    "Script executado: https://github.com/liebycardoso/OpenStreetMap/blob/master/Get_Sample_OSM.py\n",
    "\n",
    "Antes de iniciar a análise dos dados executei o script Summary_OSM para identificar caracteres problemáticos, total de chaves e total de aparicões.\n",
    "Script executado: https://github.com/liebycardoso/OpenStreetMap/blob/master/Summary_OSM.py\n",
    "\n",
    "A base (map_BH.osm) com todas as informações teve seu conteúdo analisado e os apontamentos e decisões tomadas estão documentadas na seção  2 deste documento. Após auditoria dos dados, e análise dos registros, um dicionário com os valores atualizados foi gerado no formato .JSON. \n",
    "Script executado: https://github.com/liebycardoso/OpenStreetMap/blob/master/parse_dump_json.py.\n",
    "Script auxiliar: https://github.com/liebycardoso/OpenStreetMap/blob/master/audit_map_BH.py\n",
    "\n",
    "Todo o conteúdo do arquivo JSON foi importado através de linha de comando para a coleção mapbh no banco de dados MongoDB. \n",
    "\n",
    "Foram executadas consultas aos dados importados e a novas inconsistências foram corrigidas conforme descrito neste relatório.\n"
   ]
  },
  {
   "cell_type": "markdown",
   "metadata": {},
   "source": [
    "### 2.\tProblemas encontrados no mapa\n",
    "\n",
    "** Localização da identificação do tipo de rua **\n",
    "\n",
    "Diferente dos exercícios realizados, onde o mapa era da cidade de Chicago e o tipo da rua podia ser identificado pela última palavra do nome, no mapa de Belo Horizonte, o nome da rua é composto pelo tipo, abreviado ou não, seguido pelo nome. Para atender esta particularidade da nomenclatura brasileira, a variável street_type_re foi reformulada para trabalhar com a primeira palavra da frase. A alteração consistiu na inclusão do caractere ^ , que corresponde sempre com o início da string e exclusão do caractere $, que corresponde com o final da string.\n",
    "\n",
    "Trecho do código:"
   ]
  },
  {
   "cell_type": "code",
   "execution_count": null,
   "metadata": {
    "collapsed": true
   },
   "outputs": [],
   "source": [
    " street_type_re = re.compile(r'^\\b(?u)\\w\\S+\\.?', re.IGNORECASE)"
   ]
  },
  {
   "cell_type": "markdown",
   "metadata": {},
   "source": [
    "** Caracteres especiais **\n",
    "\n",
    "Ao iniciar a auditoria dos dados, imprimi em tela o nome de algumas ruas da amostra e a lógica do programa não foi seguida em alguns casos porque existiam ruas com caracteres especiais como acentos agudos (‘), circunflexos (^), til (~) e cedilha (ç). \n",
    "No cabeçalho do script foi incluído o comando # -*- coding: utf-8 -*- para possibilitar a manipulação destes caracteres com a codificação Unicode utf-8.\n",
    "\n",
    "Mesmo fazendo essa inclusão, foi necessário acrescentar a letra ‘u’ antes de strings que foram usadas para comparação. Um exemplo é a palavra “Praça” incluída manualmente como string comparativa da variável expected, quando feita a comparação de “Praça” digitado com Praça retornando de uma variável, a comparação não era bem sucedida, neste caso a palavra “Praça” digitada foi substituída por u”Praça” para ser reconhecida como contendo caractere especial.\n",
    "\n",
    "Outro tratamento foi incluir a codificação (?u)\\w para todos os caracteres Unicode no re.compile.\n",
    "\n",
    "Trecho do código:"
   ]
  },
  {
   "cell_type": "code",
   "execution_count": 22,
   "metadata": {
    "collapsed": true
   },
   "outputs": [],
   "source": [
    "# -*- coding: utf-8 -*-\n",
    "expected_street = [\"Rua\", \"Avenida\", \"Beco\", \"Rodovia\", \"Expressa\", u\"Praça\", \"Anel\", \"Alameda\"]\n",
    "\n",
    "mapping_street = { \"Av.\": \"Avenida\",\n",
    "                \"Av\": \"Avenida\",\n",
    "                \"Rod.\": \"Rodovia\",\n",
    "                \"Al.\": \"Alameda\",\n",
    "                \"R.\": \"Rua\",\n",
    "                u\"Anél\": \"Anel\",\n",
    "                \"R.B\" : \"Rua B\",\n",
    "                \"Pc\" : u\"Praça\", \n",
    "                \"Avendia\" : \"Avenida\",\n",
    "                \"Alamedas\" : \"Alameda\",\n",
    "                \"Av.Afonso\" : \"Avenida Afonso\",\n",
    "                \"Eua\": \"Rua\"\n",
    "                }"
   ]
  },
  {
   "cell_type": "markdown",
   "metadata": {},
   "source": [
    "** Vias sem tipo definido e mapeamento de tipos**\n",
    "\n",
    "Algumas vias não tinham o seu tipo definido, como por exemplo, avenida, alameda, beco e etc.. Quando a via não tinha o tipo compatível com os cadastrados no array expected, nem no dicionário mapping_street, atribuí o prefixo “Rua” para todas elas. \n",
    "\n",
    "Método: update_street_type(name, mapping):\n",
    "\n",
    "Vias sem tipo:\n",
    "- Montes Claros => Rua Montes Claros\n",
    "- Paracatu => Rua Paracatu\n",
    "- Francisco Deslandes => Rua Francisco Deslandes\n",
    "- Riachuelo => Rua Riachuelo\n",
    "\n",
    "Vias com tipo mapeado:\n",
    "- Av São Lucas => Avenida São Lucas\n",
    "- Anél Rodoviário => Anel Rodoviário\n",
    "- Avendia Dom Pedro II => Avenida Dom Pedro II\n",
    "- Alamedas das Princesas => Alameda Das Princesas\n",
    "- Eua Conceição Aparecida => Rua Conceição Aparecida\n",
    "- Pc Nossa Senhora do Rosário => Praça Nossa Senhora Do Rosário\n",
    "- R. A => Rua A\n",
    "- R.B => Rua B"
   ]
  },
  {
   "cell_type": "markdown",
   "metadata": {},
   "source": [
    "** Títulos abreviados **\n",
    "\n",
    "Após corrigir a abreviatura do nome das ruas, percebi que algumas ruas estavam com o título da pessoa que deu nome à rua abreviado. Em BH todos os casos eram Prof. no lugar de Professor.\n",
    "\n",
    "- Método: update_street_title(name, mapping): \n",
    "\n",
    "Exemplo:\n",
    "- Rua Prof. Melchíades da Costa Lage => Rua Professor Melchíades Da Costa Lage "
   ]
  },
  {
   "cell_type": "markdown",
   "metadata": {},
   "source": [
    "** Nome da cidade **\n",
    "O mapa da região de Belo Horizonte contém também informações sobre a região metropolitana, por esta razão a chave addr:city recebeu um tratamento para uniformizar os nomes, uma vez que, eram apresentados erros de grafia e o nome da cidade composto com o nome do estado.\n",
    "\n",
    "Método: update_city(name, mapping): \n",
    "\n",
    "Exemplo:\n",
    "- Beo horizonte => Belo Horizonte\n",
    "- Belo Horizonte – MG => Belo Horizonte\n",
    "- Belo Horizonte MG Brazil => Belo Horizonte"
   ]
  },
  {
   "cell_type": "markdown",
   "metadata": {},
   "source": [
    "** Código postal **\n",
    "\n",
    "O código postal é um atributo importante do endereço e pela contagem de valores, percebi que havia um bom volume de dados preenchidos, padronizei o campo como sendo uma sequencia de 8 números sem o caractere \"-\".\n",
    "\n",
    "Método: update_code_postal (name, mapping):   "
   ]
  },
  {
   "cell_type": "markdown",
   "metadata": {},
   "source": [
    "## 3. Visão geral dos dados\n",
    "\n",
    "###  Representação dos dados OSM \n",
    "\n",
    "Os dados estão organizados em uma estrutura de elementos do mapa que representam o objeto e seu valor associado. Tipos encontrados:\n",
    "\n",
    "- node: um nó é informações de um par de coordenadas, sendo latitude e longitude;\n",
    "- way : uma lista de nós (nodes);\n",
    "\n",
    "Apesar do OpenStreetMap ter mais dois tipos de elementos abaixo listado, eles não foram considerados neste projeto.\n",
    "- area: representa uma área limitada, por exemplo, uma praça;\n",
    "- relation: pode ser um conjunto de nodes, ways e relation relacionados."
   ]
  },
  {
   "cell_type": "markdown",
   "metadata": {},
   "source": [
    "###  Importação dos dados para pesquisa "
   ]
  },
  {
   "cell_type": "markdown",
   "metadata": {},
   "source": [
    "O arquivo mapbh.json, gerado após análise dos dados OSM para Belo Horizonte, foi importado para o MongoDB através da linha de comando:\n",
    "\n",
    "* => mongoimport -h 127.0.0.1:27017 --db openstreetmap --collection mapbh --file C:/Nanodegree/MongoDb/Trab_final/mapbh.json  \n"
   ]
  },
  {
   "cell_type": "markdown",
   "metadata": {},
   "source": [
    "Os dados no MongoDB serão acessados e manipulados através da biblioteca pymongo."
   ]
  },
  {
   "cell_type": "code",
   "execution_count": 2,
   "metadata": {
    "collapsed": true
   },
   "outputs": [],
   "source": [
    "import pprint\n",
    "import matplotlib.pyplot as plt\n",
    "%matplotlib inline\n",
    "import pymongo\n",
    "from bson import SON\n",
    "from pymongo import MongoClient\n",
    "client=MongoClient('localhost:27017')\n",
    "db=client.openstreetmap"
   ]
  },
  {
   "cell_type": "markdown",
   "metadata": {},
   "source": [
    "Os dados importados fazem parte de uma coleção nomeada mapbh (--collection mapbh). \n",
    "Verificando se o nome foi criado corretamente: "
   ]
  },
  {
   "cell_type": "code",
   "execution_count": 29,
   "metadata": {
    "collapsed": false
   },
   "outputs": [
    {
     "data": {
      "text/plain": [
       "[u'mapbh']"
      ]
     },
     "execution_count": 29,
     "metadata": {},
     "output_type": "execute_result"
    }
   ],
   "source": [
    "db.collection_names()"
   ]
  },
  {
   "cell_type": "markdown",
   "metadata": {},
   "source": [
    "###  Conhecendo os dados "
   ]
  },
  {
   "cell_type": "markdown",
   "metadata": {},
   "source": [
    "** 3.1. Estatística dos dados **\n",
    "\n",
    "Um resumo com o total de documentos e tamanho do dados. "
   ]
  },
  {
   "cell_type": "code",
   "execution_count": 19,
   "metadata": {
    "collapsed": true
   },
   "outputs": [],
   "source": [
    "stats_mapbh = db.command(\"dbstats\")"
   ]
  },
  {
   "cell_type": "code",
   "execution_count": 29,
   "metadata": {
    "collapsed": false
   },
   "outputs": [
    {
     "name": "stdout",
     "output_type": "stream",
     "text": [
      "Tamanho da colecao:  112706375.0\n",
      "Total de documentos:  466927\n",
      "Total de indices:  1\n"
     ]
    }
   ],
   "source": [
    "print \"Tamanho da colecao: \", stats_mapbh[\"dataSize\"]\n",
    "print \"Total de documentos: \",  stats_mapbh[\"objects\"]\n",
    "print \"Total de indices: \" , stats_mapbh[\"indexes\"]"
   ]
  },
  {
   "cell_type": "markdown",
   "metadata": {},
   "source": [
    "** 3.2. Número de documentos com o tipo \"node\": **"
   ]
  },
  {
   "cell_type": "code",
   "execution_count": 38,
   "metadata": {
    "collapsed": false
   },
   "outputs": [
    {
     "data": {
      "text/plain": [
       "408052"
      ]
     },
     "execution_count": 38,
     "metadata": {},
     "output_type": "execute_result"
    }
   ],
   "source": [
    "db.mapbh.find({\"type\":\"node\"}).count() "
   ]
  },
  {
   "cell_type": "markdown",
   "metadata": {},
   "source": [
    "** 3.3. Número de documentos com o tipo \"way\": **"
   ]
  },
  {
   "cell_type": "code",
   "execution_count": 39,
   "metadata": {
    "collapsed": false
   },
   "outputs": [
    {
     "data": {
      "text/plain": [
       "58875"
      ]
     },
     "execution_count": 39,
     "metadata": {},
     "output_type": "execute_result"
    }
   ],
   "source": [
    "db.mapbh.find({\"type\":\"way\"}).count()"
   ]
  },
  {
   "cell_type": "markdown",
   "metadata": {},
   "source": [
    "** 3.4. Documentos com tipo diferente de \"way\" e \"node\": **"
   ]
  },
  {
   "cell_type": "markdown",
   "metadata": {},
   "source": [
    "O total de node e way é (408.052 + 58.875) 466.927, um pouco diferente dos 466.990 listados no db.mapbh.find().count(). Vou listar esses registros que não são way, nem node para identificar o problema, visto que na função shape_element eu fitrei os registros por tags que contivessem as strings \"node\" e \"way\"."
   ]
  },
  {
   "cell_type": "code",
   "execution_count": 44,
   "metadata": {
    "collapsed": false
   },
   "outputs": [
    {
     "name": "stdout",
     "output_type": "stream",
     "text": [
      "[{u'_id': ObjectId('58641664ed425d6e306c37b3'),\n",
      "  u'amenity': u'Public_Building',\n",
      "  u'created': {u'changeset': u'10870093',\n",
      "               u'timestamp': u'2012-03-04T15:52:56Z',\n",
      "               u'uid': u'397850',\n",
      "               u'user': u'Tulio Magno Quites Machado Filho',\n",
      "               u'version': u'3'},\n",
      "  u'historic': u'Monument',\n",
      "  u'id': u'317211433',\n",
      "  u'name': u'Coreto',\n",
      "  u'natural': u'Tree',\n",
      "  u'pos': [-19.932131, -43.9379339],\n",
      "  u'type': u'Palm'},\n",
      " {u'_id': ObjectId('58641666ed425d6e306d112d'),\n",
      "  u'created': {u'changeset': u'10870093',\n",
      "               u'timestamp': u'2012-03-04T15:52:49Z',\n",
      "               u'uid': u'397850',\n",
      "               u'user': u'Tulio Magno Quites Machado Filho',\n",
      "               u'version': u'1'},\n",
      "  u'id': u'1659158895',\n",
      "  u'natural': u'Tree',\n",
      "  u'pos': [-19.9312116, -43.9378039],\n",
      "  u'type': u'Palm'},\n",
      " {u'_id': ObjectId('58641666ed425d6e306d112e'),\n",
      "  u'created': {u'changeset': u'10870093',\n",
      "               u'timestamp': u'2012-03-04T15:52:49Z',\n",
      "               u'uid': u'397850',\n",
      "               u'user': u'Tulio Magno Quites Machado Filho',\n",
      "               u'version': u'1'},\n",
      "  u'id': u'1659158900',\n",
      "  u'natural': u'Tree',\n",
      "  u'pos': [-19.9328051, -43.9382488],\n",
      "  u'type': u'Palm'},\n",
      " {u'_id': ObjectId('58641666ed425d6e306d112f'),\n",
      "  u'created': {u'changeset': u'10870093',\n",
      "               u'timestamp': u'2012-03-04T15:52:50Z',\n",
      "               u'uid': u'397850',\n",
      "               u'user': u'Tulio Magno Quites Machado Filho',\n",
      "               u'version': u'1'},\n",
      "  u'id': u'1659158901',\n",
      "  u'natural': u'Tree',\n",
      "  u'pos': [-19.931278, -43.9378224],\n",
      "  u'type': u'Palm'},\n",
      " {u'_id': ObjectId('58641666ed425d6e306d1131'),\n",
      "  u'created': {u'changeset': u'10870093',\n",
      "               u'timestamp': u'2012-03-04T15:52:50Z',\n",
      "               u'uid': u'397850',\n",
      "               u'user': u'Tulio Magno Quites Machado Filho',\n",
      "               u'version': u'1'},\n",
      "  u'id': u'1659158902',\n",
      "  u'natural': u'Tree',\n",
      "  u'pos': [-19.9313444, -43.9378409],\n",
      "  u'type': u'Palm'},\n",
      " {u'_id': ObjectId('58641666ed425d6e306d1132'),\n",
      "  u'created': {u'changeset': u'10870093',\n",
      "               u'timestamp': u'2012-03-04T15:52:50Z',\n",
      "               u'uid': u'397850',\n",
      "               u'user': u'Tulio Magno Quites Machado Filho',\n",
      "               u'version': u'1'},\n",
      "  u'id': u'1659158905',\n",
      "  u'natural': u'Tree',\n",
      "  u'pos': [-19.9314108, -43.9378595],\n",
      "  u'type': u'Palm'},\n",
      " {u'_id': ObjectId('58641666ed425d6e306d1133'),\n",
      "  u'created': {u'changeset': u'10870093',\n",
      "               u'timestamp': u'2012-03-04T15:52:50Z',\n",
      "               u'uid': u'397850',\n",
      "               u'user': u'Tulio Magno Quites Machado Filho',\n",
      "               u'version': u'1'},\n",
      "  u'id': u'1659158908',\n",
      "  u'natural': u'Tree',\n",
      "  u'pos': [-19.9314772, -43.937878],\n",
      "  u'type': u'Palm'},\n",
      " {u'_id': ObjectId('58641666ed425d6e306d1134'),\n",
      "  u'created': {u'changeset': u'10870093',\n",
      "               u'timestamp': u'2012-03-04T15:52:50Z',\n",
      "               u'uid': u'397850',\n",
      "               u'user': u'Tulio Magno Quites Machado Filho',\n",
      "               u'version': u'1'},\n",
      "  u'id': u'1659158911',\n",
      "  u'natural': u'Tree',\n",
      "  u'pos': [-19.9315436, -43.9378965],\n",
      "  u'type': u'Palm'},\n",
      " {u'_id': ObjectId('58641666ed425d6e306d1135'),\n",
      "  u'created': {u'changeset': u'10870093',\n",
      "               u'timestamp': u'2012-03-04T15:52:50Z',\n",
      "               u'uid': u'397850',\n",
      "               u'user': u'Tulio Magno Quites Machado Filho',\n",
      "               u'version': u'1'},\n",
      "  u'id': u'1659158927',\n",
      "  u'natural': u'Tree',\n",
      "  u'pos': [-19.9317427, -43.9379522],\n",
      "  u'type': u'Palm'},\n",
      " {u'_id': ObjectId('58641666ed425d6e306d1136'),\n",
      "  u'created': {u'changeset': u'10870093',\n",
      "               u'timestamp': u'2012-03-04T15:52:50Z',\n",
      "               u'uid': u'397850',\n",
      "               u'user': u'Tulio Magno Quites Machado Filho',\n",
      "               u'version': u'1'},\n",
      "  u'id': u'1659158929',\n",
      "  u'natural': u'Tree',\n",
      "  u'pos': [-19.9318091, -43.9379707],\n",
      "  u'type': u'Palm'},\n",
      " {u'_id': ObjectId('58641666ed425d6e306d1137'),\n",
      "  u'created': {u'changeset': u'10870093',\n",
      "               u'timestamp': u'2012-03-04T15:52:50Z',\n",
      "               u'uid': u'397850',\n",
      "               u'user': u'Tulio Magno Quites Machado Filho',\n",
      "               u'version': u'1'},\n",
      "  u'id': u'1659158923',\n",
      "  u'natural': u'Tree',\n",
      "  u'pos': [-19.9316763, -43.9379336],\n",
      "  u'type': u'Palm'},\n",
      " {u'_id': ObjectId('58641666ed425d6e306d1138'),\n",
      "  u'created': {u'changeset': u'10870093',\n",
      "               u'timestamp': u'2012-03-04T15:52:50Z',\n",
      "               u'uid': u'397850',\n",
      "               u'user': u'Tulio Magno Quites Machado Filho',\n",
      "               u'version': u'1'},\n",
      "  u'id': u'1659158922',\n",
      "  u'natural': u'Tree',\n",
      "  u'pos': [-19.9316099, -43.9379151],\n",
      "  u'type': u'Palm'},\n",
      " {u'_id': ObjectId('58641666ed425d6e306d1139'),\n",
      "  u'created': {u'changeset': u'10870093',\n",
      "               u'timestamp': u'2012-03-04T15:52:51Z',\n",
      "               u'uid': u'397850',\n",
      "               u'user': u'Tulio Magno Quites Machado Filho',\n",
      "               u'version': u'1'},\n",
      "  u'id': u'1659158934',\n",
      "  u'natural': u'Tree',\n",
      "  u'pos': [-19.9318755, -43.9379892],\n",
      "  u'type': u'Palm'},\n",
      " {u'_id': ObjectId('58641666ed425d6e306d113a'),\n",
      "  u'created': {u'changeset': u'10870093',\n",
      "               u'timestamp': u'2012-03-04T15:52:51Z',\n",
      "               u'uid': u'397850',\n",
      "               u'user': u'Tulio Magno Quites Machado Filho',\n",
      "               u'version': u'1'},\n",
      "  u'id': u'1659158947',\n",
      "  u'natural': u'Tree',\n",
      "  u'pos': [-19.9319419, -43.9380078],\n",
      "  u'type': u'Palm'},\n",
      " {u'_id': ObjectId('58641666ed425d6e306d113b'),\n",
      "  u'created': {u'changeset': u'10870093',\n",
      "               u'timestamp': u'2012-03-04T15:52:51Z',\n",
      "               u'uid': u'397850',\n",
      "               u'user': u'Tulio Magno Quites Machado Filho',\n",
      "               u'version': u'1'},\n",
      "  u'id': u'1659158948',\n",
      "  u'natural': u'Tree',\n",
      "  u'pos': [-19.9320083, -43.9380263],\n",
      "  u'type': u'Palm'},\n",
      " {u'_id': ObjectId('58641666ed425d6e306d113c'),\n",
      "  u'created': {u'changeset': u'10870093',\n",
      "               u'timestamp': u'2012-03-04T15:52:51Z',\n",
      "               u'uid': u'397850',\n",
      "               u'user': u'Tulio Magno Quites Machado Filho',\n",
      "               u'version': u'1'},\n",
      "  u'id': u'1659158949',\n",
      "  u'natural': u'Tree',\n",
      "  u'pos': [-19.9320747, -43.9380449],\n",
      "  u'type': u'Palm'},\n",
      " {u'_id': ObjectId('58641666ed425d6e306d113d'),\n",
      "  u'created': {u'changeset': u'10870093',\n",
      "               u'timestamp': u'2012-03-04T15:52:51Z',\n",
      "               u'uid': u'397850',\n",
      "               u'user': u'Tulio Magno Quites Machado Filho',\n",
      "               u'version': u'1'},\n",
      "  u'id': u'1659158951',\n",
      "  u'natural': u'Tree',\n",
      "  u'pos': [-19.9321411, -43.9380634],\n",
      "  u'type': u'Palm'},\n",
      " {u'_id': ObjectId('58641666ed425d6e306d113e'),\n",
      "  u'created': {u'changeset': u'10870093',\n",
      "               u'timestamp': u'2012-03-04T15:52:51Z',\n",
      "               u'uid': u'397850',\n",
      "               u'user': u'Tulio Magno Quites Machado Filho',\n",
      "               u'version': u'1'},\n",
      "  u'id': u'1659158954',\n",
      "  u'natural': u'Tree',\n",
      "  u'pos': [-19.9322075, -43.9380819],\n",
      "  u'type': u'Palm'},\n",
      " {u'_id': ObjectId('58641666ed425d6e306d113f'),\n",
      "  u'created': {u'changeset': u'10870093',\n",
      "               u'timestamp': u'2012-03-04T15:52:52Z',\n",
      "               u'uid': u'397850',\n",
      "               u'user': u'Tulio Magno Quites Machado Filho',\n",
      "               u'version': u'1'},\n",
      "  u'id': u'1659158966',\n",
      "  u'natural': u'Tree',\n",
      "  u'pos': [-19.9322739, -43.9381005],\n",
      "  u'type': u'Palm'},\n",
      " {u'_id': ObjectId('58641666ed425d6e306d1140'),\n",
      "  u'created': {u'changeset': u'10870093',\n",
      "               u'timestamp': u'2012-03-04T15:52:52Z',\n",
      "               u'uid': u'397850',\n",
      "               u'user': u'Tulio Magno Quites Machado Filho',\n",
      "               u'version': u'1'},\n",
      "  u'id': u'1659158969',\n",
      "  u'natural': u'Tree',\n",
      "  u'pos': [-19.9324067, -43.9381376],\n",
      "  u'type': u'Palm'},\n",
      " {u'_id': ObjectId('58641666ed425d6e306d1141'),\n",
      "  u'created': {u'changeset': u'10870093',\n",
      "               u'timestamp': u'2012-03-04T15:52:52Z',\n",
      "               u'uid': u'397850',\n",
      "               u'user': u'Tulio Magno Quites Machado Filho',\n",
      "               u'version': u'1'},\n",
      "  u'id': u'1659158968',\n",
      "  u'natural': u'Tree',\n",
      "  u'pos': [-19.9323403, -43.938119],\n",
      "  u'type': u'Palm'},\n",
      " {u'_id': ObjectId('58641666ed425d6e306d1142'),\n",
      "  u'created': {u'changeset': u'10870093',\n",
      "               u'timestamp': u'2012-03-04T15:52:52Z',\n",
      "               u'uid': u'397850',\n",
      "               u'user': u'Tulio Magno Quites Machado Filho',\n",
      "               u'version': u'1'},\n",
      "  u'id': u'1659158976',\n",
      "  u'natural': u'Tree',\n",
      "  u'pos': [-19.9326059, -43.9381932],\n",
      "  u'type': u'Palm'},\n",
      " {u'_id': ObjectId('58641666ed425d6e306d1143'),\n",
      "  u'created': {u'changeset': u'10870093',\n",
      "               u'timestamp': u'2012-03-04T15:52:52Z',\n",
      "               u'uid': u'397850',\n",
      "               u'user': u'Tulio Magno Quites Machado Filho',\n",
      "               u'version': u'1'},\n",
      "  u'id': u'1659158988',\n",
      "  u'natural': u'Tree',\n",
      "  u'pos': [-19.9326723, -43.9382117],\n",
      "  u'type': u'Palm'},\n",
      " {u'_id': ObjectId('58641666ed425d6e306d1144'),\n",
      "  u'created': {u'changeset': u'10870093',\n",
      "               u'timestamp': u'2012-03-04T15:52:52Z',\n",
      "               u'uid': u'397850',\n",
      "               u'user': u'Tulio Magno Quites Machado Filho',\n",
      "               u'version': u'1'},\n",
      "  u'id': u'1659158973',\n",
      "  u'natural': u'Tree',\n",
      "  u'pos': [-19.9325395, -43.9381746],\n",
      "  u'type': u'Palm'},\n",
      " {u'_id': ObjectId('58641666ed425d6e306d1145'),\n",
      "  u'created': {u'changeset': u'10870093',\n",
      "               u'timestamp': u'2012-03-04T15:52:52Z',\n",
      "               u'uid': u'397850',\n",
      "               u'user': u'Tulio Magno Quites Machado Filho',\n",
      "               u'version': u'1'},\n",
      "  u'id': u'1659158970',\n",
      "  u'natural': u'Tree',\n",
      "  u'pos': [-19.9324731, -43.9381561],\n",
      "  u'type': u'Palm'},\n",
      " {u'_id': ObjectId('58641666ed425d6e306d1146'),\n",
      "  u'created': {u'changeset': u'10870093',\n",
      "               u'timestamp': u'2012-03-04T15:52:52Z',\n",
      "               u'uid': u'397850',\n",
      "               u'user': u'Tulio Magno Quites Machado Filho',\n",
      "               u'version': u'1'},\n",
      "  u'id': u'1659158993',\n",
      "  u'natural': u'Tree',\n",
      "  u'pos': [-19.9327387, -43.9382303],\n",
      "  u'type': u'Palm'},\n",
      " {u'_id': ObjectId('58641666ed425d6e306d1147'),\n",
      "  u'created': {u'changeset': u'10870093',\n",
      "               u'timestamp': u'2012-03-04T15:52:53Z',\n",
      "               u'uid': u'397850',\n",
      "               u'user': u'Tulio Magno Quites Machado Filho',\n",
      "               u'version': u'1'},\n",
      "  u'id': u'1659158995',\n",
      "  u'natural': u'Tree',\n",
      "  u'pos': [-19.9312337, -43.9376979],\n",
      "  u'type': u'Palm'},\n",
      " {u'_id': ObjectId('58641666ed425d6e306d1148'),\n",
      "  u'created': {u'changeset': u'10870093',\n",
      "               u'timestamp': u'2012-03-04T15:52:53Z',\n",
      "               u'uid': u'397850',\n",
      "               u'user': u'Tulio Magno Quites Machado Filho',\n",
      "               u'version': u'1'},\n",
      "  u'id': u'1659158998',\n",
      "  u'natural': u'Tree',\n",
      "  u'pos': [-19.9312978, -43.9377148],\n",
      "  u'type': u'Palm'},\n",
      " {u'_id': ObjectId('58641666ed425d6e306d1149'),\n",
      "  u'created': {u'changeset': u'10870093',\n",
      "               u'timestamp': u'2012-03-04T15:52:53Z',\n",
      "               u'uid': u'397850',\n",
      "               u'user': u'Tulio Magno Quites Machado Filho',\n",
      "               u'version': u'1'},\n",
      "  u'id': u'1659158997',\n",
      "  u'natural': u'Tree',\n",
      "  u'pos': [-19.9328361, -43.9381193],\n",
      "  u'type': u'Palm'},\n",
      " {u'_id': ObjectId('58641666ed425d6e306d114a'),\n",
      "  u'created': {u'changeset': u'10870093',\n",
      "               u'timestamp': u'2012-03-04T15:52:53Z',\n",
      "               u'uid': u'397850',\n",
      "               u'user': u'Tulio Magno Quites Machado Filho',\n",
      "               u'version': u'1'},\n",
      "  u'id': u'1659159009',\n",
      "  u'natural': u'Tree',\n",
      "  u'pos': [-19.9313619, -43.9377316],\n",
      "  u'type': u'Palm'},\n",
      " {u'_id': ObjectId('58641666ed425d6e306d114b'),\n",
      "  u'created': {u'changeset': u'10870093',\n",
      "               u'timestamp': u'2012-03-04T15:52:53Z',\n",
      "               u'uid': u'397850',\n",
      "               u'user': u'Tulio Magno Quites Machado Filho',\n",
      "               u'version': u'1'},\n",
      "  u'id': u'1659159010',\n",
      "  u'natural': u'Tree',\n",
      "  u'pos': [-19.931426, -43.9377485],\n",
      "  u'type': u'Palm'},\n",
      " {u'_id': ObjectId('58641666ed425d6e306d114c'),\n",
      "  u'created': {u'changeset': u'10870093',\n",
      "               u'timestamp': u'2012-03-04T15:52:53Z',\n",
      "               u'uid': u'397850',\n",
      "               u'user': u'Tulio Magno Quites Machado Filho',\n",
      "               u'version': u'1'},\n",
      "  u'id': u'1659159011',\n",
      "  u'natural': u'Tree',\n",
      "  u'pos': [-19.9314901, -43.9377653],\n",
      "  u'type': u'Palm'},\n",
      " {u'_id': ObjectId('58641666ed425d6e306d114d'),\n",
      "  u'created': {u'changeset': u'10870093',\n",
      "               u'timestamp': u'2012-03-04T15:52:54Z',\n",
      "               u'uid': u'397850',\n",
      "               u'user': u'Tulio Magno Quites Machado Filho',\n",
      "               u'version': u'1'},\n",
      "  u'id': u'1659159021',\n",
      "  u'natural': u'Tree',\n",
      "  u'pos': [-19.9316824, -43.9378159],\n",
      "  u'type': u'Palm'},\n",
      " {u'_id': ObjectId('58641666ed425d6e306d114e'),\n",
      "  u'created': {u'changeset': u'10870093',\n",
      "               u'timestamp': u'2012-03-04T15:52:54Z',\n",
      "               u'uid': u'397850',\n",
      "               u'user': u'Tulio Magno Quites Machado Filho',\n",
      "               u'version': u'1'},\n",
      "  u'id': u'1659159022',\n",
      "  u'natural': u'Tree',\n",
      "  u'pos': [-19.9317465, -43.9378328],\n",
      "  u'type': u'Palm'},\n",
      " {u'_id': ObjectId('58641666ed425d6e306d114f'),\n",
      "  u'created': {u'changeset': u'10870093',\n",
      "               u'timestamp': u'2012-03-04T15:52:53Z',\n",
      "               u'uid': u'397850',\n",
      "               u'user': u'Tulio Magno Quites Machado Filho',\n",
      "               u'version': u'1'},\n",
      "  u'id': u'1659159012',\n",
      "  u'natural': u'Tree',\n",
      "  u'pos': [-19.9315542, -43.9377822],\n",
      "  u'type': u'Palm'},\n",
      " {u'_id': ObjectId('58641666ed425d6e306d1150'),\n",
      "  u'created': {u'changeset': u'10870093',\n",
      "               u'timestamp': u'2012-03-04T15:52:54Z',\n",
      "               u'uid': u'397850',\n",
      "               u'user': u'Tulio Magno Quites Machado Filho',\n",
      "               u'version': u'1'},\n",
      "  u'id': u'1659159023',\n",
      "  u'natural': u'Tree',\n",
      "  u'pos': [-19.9318106, -43.9378496],\n",
      "  u'type': u'Palm'},\n",
      " {u'_id': ObjectId('58641666ed425d6e306d1151'),\n",
      "  u'created': {u'changeset': u'10870093',\n",
      "               u'timestamp': u'2012-03-04T15:52:54Z',\n",
      "               u'uid': u'397850',\n",
      "               u'user': u'Tulio Magno Quites Machado Filho',\n",
      "               u'version': u'1'},\n",
      "  u'id': u'1659159024',\n",
      "  u'natural': u'Tree',\n",
      "  u'pos': [-19.9318747, -43.9378665],\n",
      "  u'type': u'Palm'},\n",
      " {u'_id': ObjectId('58641666ed425d6e306d1152'),\n",
      "  u'created': {u'changeset': u'10870093',\n",
      "               u'timestamp': u'2012-03-04T15:52:54Z',\n",
      "               u'uid': u'397850',\n",
      "               u'user': u'Tulio Magno Quites Machado Filho',\n",
      "               u'version': u'1'},\n",
      "  u'id': u'1659159014',\n",
      "  u'natural': u'Tree',\n",
      "  u'pos': [-19.9316183, -43.937799],\n",
      "  u'type': u'Palm'},\n",
      " {u'_id': ObjectId('58641666ed425d6e306d1153'),\n",
      "  u'created': {u'changeset': u'10870093',\n",
      "               u'timestamp': u'2012-03-04T15:52:54Z',\n",
      "               u'uid': u'397850',\n",
      "               u'user': u'Tulio Magno Quites Machado Filho',\n",
      "               u'version': u'1'},\n",
      "  u'id': u'1659159025',\n",
      "  u'natural': u'Tree',\n",
      "  u'pos': [-19.9319387, -43.9378833],\n",
      "  u'type': u'Palm'},\n",
      " {u'_id': ObjectId('58641666ed425d6e306d1154'),\n",
      "  u'created': {u'changeset': u'10870093',\n",
      "               u'timestamp': u'2012-03-04T15:52:54Z',\n",
      "               u'uid': u'397850',\n",
      "               u'user': u'Tulio Magno Quites Machado Filho',\n",
      "               u'version': u'1'},\n",
      "  u'id': u'1659159026',\n",
      "  u'natural': u'Tree',\n",
      "  u'pos': [-19.9320028, -43.9379002],\n",
      "  u'type': u'Palm'},\n",
      " {u'_id': ObjectId('58641666ed425d6e306d1155'),\n",
      "  u'created': {u'changeset': u'10870093',\n",
      "               u'timestamp': u'2012-03-04T15:52:55Z',\n",
      "               u'uid': u'397850',\n",
      "               u'user': u'Tulio Magno Quites Machado Filho',\n",
      "               u'version': u'1'},\n",
      "  u'id': u'1659159027',\n",
      "  u'natural': u'Tree',\n",
      "  u'pos': [-19.9320669, -43.937917],\n",
      "  u'type': u'Palm'},\n",
      " {u'_id': ObjectId('58641666ed425d6e306d1156'),\n",
      "  u'created': {u'changeset': u'10870093',\n",
      "               u'timestamp': u'2012-03-04T15:52:55Z',\n",
      "               u'uid': u'397850',\n",
      "               u'user': u'Tulio Magno Quites Machado Filho',\n",
      "               u'version': u'1'},\n",
      "  u'id': u'1659159028',\n",
      "  u'natural': u'Tree',\n",
      "  u'pos': [-19.9321951, -43.9379508],\n",
      "  u'type': u'Palm'},\n",
      " {u'_id': ObjectId('58641666ed425d6e306d1157'),\n",
      "  u'created': {u'changeset': u'10870093',\n",
      "               u'timestamp': u'2012-03-04T15:52:55Z',\n",
      "               u'uid': u'397850',\n",
      "               u'user': u'Tulio Magno Quites Machado Filho',\n",
      "               u'version': u'1'},\n",
      "  u'id': u'1659159029',\n",
      "  u'natural': u'Tree',\n",
      "  u'pos': [-19.9322592, -43.9379676],\n",
      "  u'type': u'Palm'},\n",
      " {u'_id': ObjectId('58641666ed425d6e306d1158'),\n",
      "  u'created': {u'changeset': u'10870093',\n",
      "               u'timestamp': u'2012-03-04T15:52:55Z',\n",
      "               u'uid': u'397850',\n",
      "               u'user': u'Tulio Magno Quites Machado Filho',\n",
      "               u'version': u'1'},\n",
      "  u'id': u'1659159030',\n",
      "  u'natural': u'Tree',\n",
      "  u'pos': [-19.9323233, -43.9379845],\n",
      "  u'type': u'Palm'},\n",
      " {u'_id': ObjectId('58641666ed425d6e306d1159'),\n",
      "  u'created': {u'changeset': u'10870093',\n",
      "               u'timestamp': u'2012-03-04T15:52:55Z',\n",
      "               u'uid': u'397850',\n",
      "               u'user': u'Tulio Magno Quites Machado Filho',\n",
      "               u'version': u'1'},\n",
      "  u'id': u'1659159031',\n",
      "  u'natural': u'Tree',\n",
      "  u'pos': [-19.9323874, -43.9380013],\n",
      "  u'type': u'Palm'},\n",
      " {u'_id': ObjectId('58641666ed425d6e306d115a'),\n",
      "  u'created': {u'changeset': u'10870093',\n",
      "               u'timestamp': u'2012-03-04T15:52:55Z',\n",
      "               u'uid': u'397850',\n",
      "               u'user': u'Tulio Magno Quites Machado Filho',\n",
      "               u'version': u'1'},\n",
      "  u'id': u'1659159032',\n",
      "  u'natural': u'Tree',\n",
      "  u'pos': [-19.9324515, -43.9380182],\n",
      "  u'type': u'Palm'},\n",
      " {u'_id': ObjectId('58641666ed425d6e306d115b'),\n",
      "  u'created': {u'changeset': u'10870093',\n",
      "               u'timestamp': u'2012-03-04T15:52:55Z',\n",
      "               u'uid': u'397850',\n",
      "               u'user': u'Tulio Magno Quites Machado Filho',\n",
      "               u'version': u'1'},\n",
      "  u'id': u'1659159033',\n",
      "  u'natural': u'Tree',\n",
      "  u'pos': [-19.9325156, -43.938035],\n",
      "  u'type': u'Palm'},\n",
      " {u'_id': ObjectId('58641666ed425d6e306d115c'),\n",
      "  u'created': {u'changeset': u'10870093',\n",
      "               u'timestamp': u'2012-03-04T15:52:56Z',\n",
      "               u'uid': u'397850',\n",
      "               u'user': u'Tulio Magno Quites Machado Filho',\n",
      "               u'version': u'1'},\n",
      "  u'id': u'1659159036',\n",
      "  u'natural': u'Tree',\n",
      "  u'pos': [-19.9327079, -43.9380856],\n",
      "  u'type': u'Palm'},\n",
      " {u'_id': ObjectId('58641666ed425d6e306d115d'),\n",
      "  u'created': {u'changeset': u'10870093',\n",
      "               u'timestamp': u'2012-03-04T15:52:56Z',\n",
      "               u'uid': u'397850',\n",
      "               u'user': u'Tulio Magno Quites Machado Filho',\n",
      "               u'version': u'1'},\n",
      "  u'id': u'1659159037',\n",
      "  u'natural': u'Tree',\n",
      "  u'pos': [-19.932772, -43.9381025],\n",
      "  u'type': u'Palm'},\n",
      " {u'_id': ObjectId('58641666ed425d6e306d115e'),\n",
      "  u'created': {u'changeset': u'10870093',\n",
      "               u'timestamp': u'2012-03-04T15:52:55Z',\n",
      "               u'uid': u'397850',\n",
      "               u'user': u'Tulio Magno Quites Machado Filho',\n",
      "               u'version': u'1'},\n",
      "  u'id': u'1659159035',\n",
      "  u'natural': u'Tree',\n",
      "  u'pos': [-19.9326438, -43.9380688],\n",
      "  u'type': u'Palm'},\n",
      " {u'_id': ObjectId('58641666ed425d6e306d1164'),\n",
      "  u'created': {u'changeset': u'10870093',\n",
      "               u'timestamp': u'2012-03-04T15:52:55Z',\n",
      "               u'uid': u'397850',\n",
      "               u'user': u'Tulio Magno Quites Machado Filho',\n",
      "               u'version': u'1'},\n",
      "  u'id': u'1659159034',\n",
      "  u'natural': u'Tree',\n",
      "  u'pos': [-19.9325797, -43.9380519],\n",
      "  u'type': u'Palm'},\n",
      " {u'_id': ObjectId('5864166eed425d6e307223ec'),\n",
      "  u'address': {u'city': u'Belo Horizonte',\n",
      "               u'housenumber': u'1200',\n",
      "               u'street': u'Avenida Barbacena',\n",
      "               u'suburb': u'Santo Agostinho'},\n",
      "  u'building': u'Commercial',\n",
      "  u'building:levels': u'26',\n",
      "  u'created': {u'changeset': u'42809118',\n",
      "               u'timestamp': u'2016-10-11T17:59:16Z',\n",
      "               u'uid': u'497849',\n",
      "               u'user': u'pyram',\n",
      "               u'version': u'5'},\n",
      "  u'id': u'188993528',\n",
      "  u'name': u'Edif\\xedcio Julio Soares - Cemig S.A.',\n",
      "  u'node_refs': [u'4442538945',\n",
      "                 u'4442538946',\n",
      "                 u'4430762739',\n",
      "                 u'4442538944',\n",
      "                 u'4442538945'],\n",
      "  u'smoking': u'Outside',\n",
      "  u'source': u'Survey',\n",
      "  u'type': u'Multipolygon',\n",
      "  u'website': u'Http://Www.Cemig.Com.Br',\n",
      "  u'wheelchair': u'Yes'},\n",
      " {u'_id': ObjectId('5864166eed425d6e30722b1c'),\n",
      "  u'amenity': u'Shelter',\n",
      "  u'building': u'Roof',\n",
      "  u'created': {u'changeset': u'37375805',\n",
      "               u'timestamp': u'2016-02-22T20:08:24Z',\n",
      "               u'uid': u'397143',\n",
      "               u'user': u'Vitor Dias',\n",
      "               u'version': u'5'},\n",
      "  u'id': u'218721799',\n",
      "  u'layer': u'1',\n",
      "  u'name': u'Terminal De \\xd4nibus Da Esta\\xe7\\xe3o Eldorado',\n",
      "  u'node_refs': [u'2279485721',\n",
      "                 u'4020404540',\n",
      "                 u'4020404575',\n",
      "                 u'4020404574',\n",
      "                 u'4020404537',\n",
      "                 u'4020404536',\n",
      "                 u'2279485733',\n",
      "                 u'2279485715',\n",
      "                 u'2279485708',\n",
      "                 u'2279485713',\n",
      "                 u'4020404528',\n",
      "                 u'2279485710',\n",
      "                 u'2279485712',\n",
      "                 u'2279485734',\n",
      "                 u'2279485723',\n",
      "                 u'4020404522',\n",
      "                 u'2279485727',\n",
      "                 u'2279485742',\n",
      "                 u'2279485745',\n",
      "                 u'2279485701',\n",
      "                 u'4020404518',\n",
      "                 u'2279485717',\n",
      "                 u'4020404510',\n",
      "                 u'2279485731',\n",
      "                 u'4020404511',\n",
      "                 u'2279485744',\n",
      "                 u'2279485699',\n",
      "                 u'2279485718',\n",
      "                 u'2279485743',\n",
      "                 u'4020404517',\n",
      "                 u'2279485729',\n",
      "                 u'2279485730',\n",
      "                 u'2279485735',\n",
      "                 u'2279485709',\n",
      "                 u'4020404523',\n",
      "                 u'2279485704',\n",
      "                 u'2279485737',\n",
      "                 u'2279485732',\n",
      "                 u'2279485739',\n",
      "                 u'4020404529',\n",
      "                 u'4020404530',\n",
      "                 u'4020404499',\n",
      "                 u'4020404501',\n",
      "                 u'4020404532',\n",
      "                 u'2279485714',\n",
      "                 u'2279465161',\n",
      "                 u'2279485721'],\n",
      "  u'public_transport': u'Station',\n",
      "  u'type': u'Multipolygon'},\n",
      " {u'_id': ObjectId('5864166fed425d6e30727032'),\n",
      "  u'amenity': u'Bus_Station',\n",
      "  u'building': u'Yes',\n",
      "  u'created': {u'changeset': u'35215162',\n",
      "               u'timestamp': u'2015-11-10T13:37:59Z',\n",
      "               u'uid': u'397143',\n",
      "               u'user': u'Vitor Dias',\n",
      "               u'version': u'2'},\n",
      "  u'id': u'288257048',\n",
      "  u'name': u'Esta\\xe7\\xe3o Santa Rosa - Move Metropolitano',\n",
      "  u'network': u'Br:Mg',\n",
      "  u'node_refs': [u'2918194218',\n",
      "                 u'2918194219',\n",
      "                 u'2918194221',\n",
      "                 u'2918194220',\n",
      "                 u'2918194218'],\n",
      "  u'operator': u'Setop',\n",
      "  u'public_transport': u'Station',\n",
      "  u'type': u'Multipolygon'},\n",
      " {u'_id': ObjectId('5864166fed425d6e3072705c'),\n",
      "  u'amenity': u'Bus_Station',\n",
      "  u'building': u'Yes',\n",
      "  u'created': {u'changeset': u'35215162',\n",
      "               u'timestamp': u'2015-11-10T13:37:59Z',\n",
      "               u'uid': u'397143',\n",
      "               u'user': u'Vitor Dias',\n",
      "               u'version': u'2'},\n",
      "  u'id': u'288303324',\n",
      "  u'name': u'Esta\\xe7\\xe3o Ufmg - Move Metropolitano',\n",
      "  u'network': u'Br:Mg',\n",
      "  u'node_refs': [u'2918622878',\n",
      "                 u'2918622880',\n",
      "                 u'2918622879',\n",
      "                 u'2918622877',\n",
      "                 u'2918622878'],\n",
      "  u'operator': u'Setop',\n",
      "  u'public_transport': u'Station',\n",
      "  u'type': u'Multipolygon'},\n",
      " {u'_id': ObjectId('5864166fed425d6e3072705d'),\n",
      "  u'amenity': u'Bus_Station',\n",
      "  u'building': u'Yes',\n",
      "  u'created': {u'changeset': u'35215162',\n",
      "               u'timestamp': u'2015-11-10T13:37:58Z',\n",
      "               u'uid': u'397143',\n",
      "               u'user': u'Vitor Dias',\n",
      "               u'version': u'2'},\n",
      "  u'id': u'288303326',\n",
      "  u'name': u'Esta\\xe7\\xe3o Mineir\\xe3o - Move Metropolitano',\n",
      "  u'network': u'Br:Mg',\n",
      "  u'node_refs': [u'2918622866',\n",
      "                 u'2918622868',\n",
      "                 u'2918622867',\n",
      "                 u'2918622865',\n",
      "                 u'2918622866'],\n",
      "  u'operator': u'Setop',\n",
      "  u'public_transport': u'Station',\n",
      "  u'type': u'Multipolygon'},\n",
      " {u'_id': ObjectId('5864166fed425d6e30727263'),\n",
      "  u'amenity': u'Bus_Station',\n",
      "  u'building': u'Yes',\n",
      "  u'created': {u'changeset': u'35215162',\n",
      "               u'timestamp': u'2015-11-10T13:37:58Z',\n",
      "               u'uid': u'397143',\n",
      "               u'user': u'Vitor Dias',\n",
      "               u'version': u'2'},\n",
      "  u'id': u'292972244',\n",
      "  u'name': u'Esta\\xe7\\xe3o Col\\xe9gio Militar - Move Metropolitano',\n",
      "  u'network': u'Br:Mg',\n",
      "  u'node_refs': [u'2965293529',\n",
      "                 u'2965293531',\n",
      "                 u'2965293530',\n",
      "                 u'2965293528',\n",
      "                 u'2965293529'],\n",
      "  u'operator': u'Setop',\n",
      "  u'public_transport': u'Station',\n",
      "  u'type': u'Multipolygon'},\n",
      " {u'_id': ObjectId('5864166fed425d6e307276ae'),\n",
      "  u'amenity': u'Bus_Station',\n",
      "  u'building': u'Yes',\n",
      "  u'created': {u'changeset': u'35215162',\n",
      "               u'timestamp': u'2015-11-10T13:37:58Z',\n",
      "               u'uid': u'397143',\n",
      "               u'user': u'Vitor Dias',\n",
      "               u'version': u'2'},\n",
      "  u'id': u'314199935',\n",
      "  u'name': u'Esta\\xe7\\xe3o Liberdade - Move Metropolitano',\n",
      "  u'network': u'Br:Mg',\n",
      "  u'node_refs': [u'3202456293',\n",
      "                 u'3202456273',\n",
      "                 u'3202456288',\n",
      "                 u'3202456291',\n",
      "                 u'3202456293'],\n",
      "  u'operator': u'Setop',\n",
      "  u'public_transport': u'Station',\n",
      "  u'type': u'Multipolygon'},\n",
      " {u'_id': ObjectId('5864166fed425d6e307276bf'),\n",
      "  u'amenity': u'Bus_Station',\n",
      "  u'building': u'Yes',\n",
      "  u'created': {u'changeset': u'35215162',\n",
      "               u'timestamp': u'2015-11-10T13:37:57Z',\n",
      "               u'uid': u'397143',\n",
      "               u'user': u'Vitor Dias',\n",
      "               u'version': u'2'},\n",
      "  u'id': u'314207537',\n",
      "  u'name': u'Esta\\xe7\\xe3o Am\\xe9rico Vesp\\xfacio - Move Metropolitano',\n",
      "  u'network': u'Br:Mg',\n",
      "  u'node_refs': [u'3202539407',\n",
      "                 u'2314619209',\n",
      "                 u'3202539408',\n",
      "                 u'3202539415',\n",
      "                 u'3202539414',\n",
      "                 u'3202539407'],\n",
      "  u'operator': u'Setop',\n",
      "  u'public_transport': u'Station',\n",
      "  u'type': u'Multipolygon'},\n",
      " {u'_id': ObjectId('5864166fed425d6e307276c2'),\n",
      "  u'amenity': u'Bus_Station',\n",
      "  u'building': u'Yes',\n",
      "  u'created': {u'changeset': u'35215162',\n",
      "               u'timestamp': u'2015-11-10T13:37:58Z',\n",
      "               u'uid': u'397143',\n",
      "               u'user': u'Vitor Dias',\n",
      "               u'version': u'2'},\n",
      "  u'id': u'314207535',\n",
      "  u'name': u'Esta\\xe7\\xe3o Cachoeirinha - Move Metropolitano',\n",
      "  u'network': u'Br:Mg',\n",
      "  u'node_refs': [u'3202539387',\n",
      "                 u'3202539389',\n",
      "                 u'3202539388',\n",
      "                 u'3202539386',\n",
      "                 u'3202539387'],\n",
      "  u'operator': u'Setop',\n",
      "  u'public_transport': u'Station',\n",
      "  u'type': u'Multipolygon'},\n",
      " {u'_id': ObjectId('5864166fed425d6e307276c4'),\n",
      "  u'amenity': u'Bus_Station',\n",
      "  u'building': u'Yes',\n",
      "  u'created': {u'changeset': u'35215162',\n",
      "               u'timestamp': u'2015-11-10T13:37:57Z',\n",
      "               u'uid': u'397143',\n",
      "               u'user': u'Vitor Dias',\n",
      "               u'version': u'2'},\n",
      "  u'id': u'314207541',\n",
      "  u'name': u'Esta\\xe7\\xe3o Am\\xe9rico Vesp\\xfacio - Move Bh',\n",
      "  u'network': u'Br:Mg:Belo Horizonte',\n",
      "  u'node_refs': [u'3202539393',\n",
      "                 u'2314619239',\n",
      "                 u'3202539392',\n",
      "                 u'3202539390',\n",
      "                 u'3202539391',\n",
      "                 u'3202539393'],\n",
      "  u'operator': u'Bhtrans',\n",
      "  u'public_transport': u'Station',\n",
      "  u'type': u'Multipolygon'},\n",
      " {u'_id': ObjectId('5864166fed425d6e30727e2e'),\n",
      "  u'access': u'Private',\n",
      "  u'amenity': u'Parking',\n",
      "  u'created': {u'changeset': u'29896136',\n",
      "               u'timestamp': u'2015-04-01T04:32:15Z',\n",
      "               u'uid': u'397143',\n",
      "               u'user': u'Vitor Dias',\n",
      "               u'version': u'1'},\n",
      "  u'id': u'335850521',\n",
      "  u'name': u'Estacionamento Docentes E Funcion\\xe1rios',\n",
      "  u'node_refs': [u'3429630697',\n",
      "                 u'3429630682',\n",
      "                 u'3429630686',\n",
      "                 u'3429630687',\n",
      "                 u'3429630698',\n",
      "                 u'3429630699',\n",
      "                 u'3429630697'],\n",
      "  u'type': u'Multipolygon'},\n",
      " {u'_id': ObjectId('5864166fed425d6e3072a23b'),\n",
      "  u'amenity': u'Bus_Station',\n",
      "  u'building': u'Yes',\n",
      "  u'created': {u'changeset': u'35215162',\n",
      "               u'timestamp': u'2015-11-10T13:37:11Z',\n",
      "               u'uid': u'397143',\n",
      "               u'user': u'Vitor Dias',\n",
      "               u'version': u'1'},\n",
      "  u'id': u'379551432',\n",
      "  u'name': u'Esta\\xe7\\xe3o S\\xe3o Francisco - Move Metropolitano',\n",
      "  u'network': u'Br:Mg',\n",
      "  u'node_refs': [u'3202520425',\n",
      "                 u'3202520430',\n",
      "                 u'3202520438',\n",
      "                 u'3202520426',\n",
      "                 u'3202520425'],\n",
      "  u'operator': u'Setop',\n",
      "  u'public_transport': u'Station',\n",
      "  u'type': u'Multipolygon'}]\n"
     ]
    }
   ],
   "source": [
    "pprint.pprint(list(db.mapbh.find({\"type\":{\"$nin\":[\"way\",\"node\"]}})))"
   ]
  },
  {
   "cell_type": "markdown",
   "metadata": {},
   "source": [
    "Percorrendo os registros acima é possível perceber que eles tem uma tag \"type\", como não foi implementada nenhum método que filtrasse esse tipo de situação, o valor desta tag própria substituiu o da tag \"type\" que deveria ter o tipo do atributo tag.\n",
    "\n",
    "Estes registros que foram comprometidos pela lógica da programação, serão excluídos da coleção. Uma correção possível na função shape_element é atribuir o valor de node['type'] = element.tag ao fim processo e não no ínicio, como foi implementado."
   ]
  },
  {
   "cell_type": "code",
   "execution_count": 47,
   "metadata": {
    "collapsed": false
   },
   "outputs": [
    {
     "data": {
      "text/plain": [
       "<pymongo.results.DeleteResult at 0x3c75a68>"
      ]
     },
     "execution_count": 47,
     "metadata": {},
     "output_type": "execute_result"
    }
   ],
   "source": [
    "db.mapbh.delete_many({\"type\":{\"$nin\":[\"way\",\"node\"]}})"
   ]
  },
  {
   "cell_type": "markdown",
   "metadata": {},
   "source": [
    "Será que agora todos os registros são to tipo node ou way? Vamos conferir se o total de documentos na coleção é igual ao total de registros com way + node."
   ]
  },
  {
   "cell_type": "code",
   "execution_count": 50,
   "metadata": {
    "collapsed": false
   },
   "outputs": [
    {
     "data": {
      "text/plain": [
       "True"
      ]
     },
     "execution_count": 50,
     "metadata": {},
     "output_type": "execute_result"
    }
   ],
   "source": [
    "db.mapbh.find().count() == db.mapbh.find({\"type\":{\"$in\":[\"way\",\"node\"]}}).count()"
   ]
  },
  {
   "cell_type": "markdown",
   "metadata": {},
   "source": [
    "A comparação retornou True e os registros foram excluídos corretamente."
   ]
  },
  {
   "cell_type": "markdown",
   "metadata": {},
   "source": [
    "** 3.5. Tamanho dos arquivos OSM e JSON **\n",
    "\n",
    "- mapbh.OSM => 93.432 kb\n",
    "- mapbh.json => 136.726 kb\n",
    "- Coleção mapbh => 112.706 kb"
   ]
  },
  {
   "cell_type": "markdown",
   "metadata": {},
   "source": [
    "** 3.6. Usuários contribuintes com OSM de BH **"
   ]
  },
  {
   "cell_type": "markdown",
   "metadata": {
    "collapsed": true
   },
   "source": [
    "Total de usuários únicos que contribuiram com o mapa de BH:"
   ]
  },
  {
   "cell_type": "code",
   "execution_count": 4,
   "metadata": {
    "collapsed": false
   },
   "outputs": [
    {
     "name": "stdout",
     "output_type": "stream",
     "text": [
      "Total de usuários:  593\n"
     ]
    }
   ],
   "source": [
    "print \"Total de usuários: \" , len(db.mapbh.distinct(\"created.uid\"))"
   ]
  },
  {
   "cell_type": "markdown",
   "metadata": {},
   "source": [
    "Nome e o total de contribuições do suário que mais contribuiu para o OSM de BH:"
   ]
  },
  {
   "cell_type": "code",
   "execution_count": 32,
   "metadata": {
    "collapsed": false
   },
   "outputs": [
    {
     "data": {
      "text/plain": [
       "[{u'_id': {u'Cod': u'397143', u'user': u'Vitor Dias'}, u'total': 128024}]"
      ]
     },
     "execution_count": 32,
     "metadata": {},
     "output_type": "execute_result"
    }
   ],
   "source": [
    "pipeline=[\n",
    "            {\"$match\": {\"type\": \"node\"}},\n",
    "            {\"$group\": {\"_id\": {\"Cod\":\"$created.uid\", \"user\":\"$created.user\"}, \"total\": {\"$sum\": 1}}},\n",
    "            {\"$sort\" : {\"total\" : -1}},\n",
    "            {\"$limit\": 1}\n",
    "          ]\n",
    "\n",
    "list(db.mapbh.aggregate(pipeline))"
   ]
  },
  {
   "cell_type": "markdown",
   "metadata": {},
   "source": [
    "Total de contribuições dos outros usuários:"
   ]
  },
  {
   "cell_type": "code",
   "execution_count": 9,
   "metadata": {
    "collapsed": false
   },
   "outputs": [
    {
     "data": {
      "text/plain": [
       "[{u'_id': u'TotalContibuicoesUsuarios', u'total': 280028}]"
      ]
     },
     "execution_count": 9,
     "metadata": {},
     "output_type": "execute_result"
    }
   ],
   "source": [
    "pipeline=[\n",
    "            {\"$match\": {\"type\": \"node\", \"created.uid\" :{\"$ne\": \"397143\"}}},\n",
    "            {\"$group\": {\"_id\": \"TotalContibuicoesUsuarios\", \"total\": {\"$sum\": 1}}},\n",
    "            {\"$sort\" : {\"total\" : -1}}\n",
    "          ]\n",
    "\n",
    "list(db.mapbh.aggregate(pipeline))"
   ]
  },
  {
   "cell_type": "markdown",
   "metadata": {},
   "source": [
    "O usuário Vitor Dias é responsável por 32% da contribuição dos dados."
   ]
  },
  {
   "cell_type": "markdown",
   "metadata": {},
   "source": [
    "## 4. Outras Ideias sobre os Dados"
   ]
  },
  {
   "cell_type": "markdown",
   "metadata": {},
   "source": [
    "** A capital mundial dos botecos ... será?! **\n",
    "\n",
    "Belo Horizonte se orgulha de ser a capital mundial dos botecos. Se você já passou por aqui, provavelmente, mesmo que conheça poucas cidades, deve ter percebido que isso é verdade. Será que conseguimos ver essa informação nos dados?"
   ]
  },
  {
   "cell_type": "code",
   "execution_count": 39,
   "metadata": {
    "collapsed": false
   },
   "outputs": [
    {
     "data": {
      "text/plain": [
       "[{u'_id': u'Restaurant', u'total': 443},\n",
       " {u'_id': u'School', u'total': 394},\n",
       " {u'_id': u'Parking', u'total': 261},\n",
       " {u'_id': u'Fuel', u'total': 260},\n",
       " {u'_id': u'Bank', u'total': 210},\n",
       " {u'_id': u'Place_Of_Worship', u'total': 208},\n",
       " {u'_id': u'Pub', u'total': 154},\n",
       " {u'_id': u'Bar', u'total': 148},\n",
       " {u'_id': u'Pharmacy', u'total': 130},\n",
       " {u'_id': u'Fast_Food', u'total': 126}]"
      ]
     },
     "execution_count": 39,
     "metadata": {},
     "output_type": "execute_result"
    }
   ],
   "source": [
    "pipeline = [{\"$match\": {\"amenity\":{\"$ne\": None,\"$exists\": 1}}},\n",
    "            {\"$group\":{\"_id\":\"$amenity\" , \"total\":{\"$sum\":1}}},\n",
    "            {\"$sort\" : {\"total\" : -1}},\n",
    "            {\"$limit\": 10}            \n",
    "           ]\n",
    "            \n",
    "list(db.mapbh.aggregate(pipeline))"
   ]
  },
  {
   "cell_type": "markdown",
   "metadata": {},
   "source": [
    "É bem interessante que Restaurante, Pub e Bar apareçam no top 10. Temos mais Pubs e Bares que farmácias!"
   ]
  },
  {
   "cell_type": "markdown",
   "metadata": {},
   "source": [
    "Já sabemos que restaurante é o tipo de instalação mais comum, agora vamos ver o tipo de culinária que cada uma oferece:"
   ]
  },
  {
   "cell_type": "code",
   "execution_count": 41,
   "metadata": {
    "collapsed": false
   },
   "outputs": [
    {
     "data": {
      "text/plain": [
       "[{u'_id': u'Regional', u'total': 59},\n",
       " {u'_id': u'Pizza', u'total': 30},\n",
       " {u'_id': u'Italian', u'total': 20},\n",
       " {u'_id': u'Japanese', u'total': 8},\n",
       " {u'_id': u'Fish', u'total': 7}]"
      ]
     },
     "execution_count": 41,
     "metadata": {},
     "output_type": "execute_result"
    }
   ],
   "source": [
    "pipeline = [\n",
    "            {\"$match\":{\"cuisine\":{\"$exists\":1}, \"amenity\":{\"$exists\":1}, \"amenity\":\"Restaurant\"}},\n",
    "            {\"$group\": {\"_id\":\"$cuisine\", \"total\": {\"$sum\":1}}},\n",
    "            {\"$sort\" : {\"total\" : -1}},\n",
    "            {\"$limit\": 5}]\n",
    "\n",
    "list(db.mapbh.aggregate(pipeline))"
   ]
  },
  {
   "cell_type": "markdown",
   "metadata": {},
   "source": [
    "O resultado é bastante razoável, a região tem vários restaurantes de comida mineira (Regional) e pizzarias que é comum na maioria das cidades."
   ]
  },
  {
   "cell_type": "markdown",
   "metadata": {},
   "source": [
    "** Localizando lugares através de seu ponto geográfico **\n",
    "\n",
    "Esta seção não tem a intenção de oferecer uma ferramenta real de pesquisa por pontos de latitude e longitude, o intuito é apenas exibir uma forma opcional de pesquisa nos dados, já que estamos analisando um mapa e a informação de localização está disponível.\n",
    "\n",
    "A primeira coisa a fazer é criar um novo campo espelho do campo \"pos\" em todos os documentos da coleção que contém o campo \"pos\".\n",
    "Eu faço o update do campo, usando o comando $set, como o campo não existe, o MongoDB fará a sua criação. Neste momento o campo receberá apenas a string pos."
   ]
  },
  {
   "cell_type": "code",
   "execution_count": 81,
   "metadata": {
    "collapsed": false
   },
   "outputs": [
    {
     "data": {
      "text/plain": [
       "<pymongo.results.UpdateResult at 0xc6e2f30>"
      ]
     },
     "execution_count": 81,
     "metadata": {},
     "output_type": "execute_result"
    }
   ],
   "source": [
    "db.mapbh.update_many({\"pos\":{\"$ne\": None,\"$exists\": 1}},\n",
    "                    {\"$set\": {\"loc\": \"pos\"}})"
   ]
  },
  {
   "cell_type": "markdown",
   "metadata": {},
   "source": [
    "Depois de criar o campo, vou transforma-lo em índice do tipo geoespacial, para isso é só informar pymongo.GEO2D."
   ]
  },
  {
   "cell_type": "code",
   "execution_count": 66,
   "metadata": {
    "collapsed": false
   },
   "outputs": [
    {
     "data": {
      "text/plain": [
       "u'loc_2d'"
      ]
     },
     "execution_count": 66,
     "metadata": {},
     "output_type": "execute_result"
    }
   ],
   "source": [
    "db.mapbh.create_index([(\"loc\", pymongo.GEO2D)])"
   ]
  },
  {
   "cell_type": "markdown",
   "metadata": {},
   "source": [
    "Nessa terceira etapa vou buscar todos os registros que tem o campo pos preenchido e armazenar na variável pos.\n",
    "O objetivo é usar esta variável como fonte de informação na alimentação dos valores de loc, que neste momento está com a string pos como valor único."
   ]
  },
  {
   "cell_type": "code",
   "execution_count": 106,
   "metadata": {
    "collapsed": false
   },
   "outputs": [],
   "source": [
    "pos = list(db.mapbh.find({\"pos\":{\"$exists\":1}}))"
   ]
  },
  {
   "cell_type": "markdown",
   "metadata": {},
   "source": [
    "Percorre todos os registros da variável pos e para cada um insere o valor de latitude e longitude onde o _id é o mesmo."
   ]
  },
  {
   "cell_type": "code",
   "execution_count": 108,
   "metadata": {
    "collapsed": false
   },
   "outputs": [
    {
     "name": "stdout",
     "output_type": "stream",
     "text": [
      "\n"
     ]
    }
   ],
   "source": [
    "for item in pos:\n",
    "    db.mapbh.update_one({\"_id\": item[\"_id\"]},\n",
    "                        {\"$set\": {\"loc\": item[\"pos\"]}})   "
   ]
  },
  {
   "cell_type": "markdown",
   "metadata": {},
   "source": [
    "Agora que o indice está criado, vou buscar por uma coordenada qualquer em uma rua bem conhecida de BH. Essa informação será passada adiante como ponto de referência na pesquisa de lugares próximos."
   ]
  },
  {
   "cell_type": "code",
   "execution_count": 7,
   "metadata": {
    "collapsed": false
   },
   "outputs": [
    {
     "data": {
      "text/plain": [
       "[{u'_id': ObjectId('58641665ed425d6e306c706e'),\n",
       "  u'address': {u'housenumber': u'5771',\n",
       "   u'postcode': u'30110-035',\n",
       "   u'street': u'Avenida Do Contorno'},\n",
       "  u'amenity': u'Pub',\n",
       "  u'created': {u'changeset': u'21700331',\n",
       "   u'timestamp': u'2014-04-15T00:45:03Z',\n",
       "   u'uid': u'2032426',\n",
       "   u'user': u'Victor Caldeira Colen',\n",
       "   u'version': u'6'},\n",
       "  u'id': u'320934190',\n",
       "  u'loc': [-19.9398678, -43.9312457],\n",
       "  u'name': u'Stadt Jever',\n",
       "  u'pos': [-19.9398678, -43.9312457],\n",
       "  u'source': u'Web',\n",
       "  u'type': u'node',\n",
       "  u'website': u'Http://Wals.Com.Br/Stadt-Jever'},\n",
       " {u'_id': ObjectId('58641665ed425d6e306cc25b'),\n",
       "  u'address': {u'housenumber': u'3946', u'street': u'Avenida Do Contorno'},\n",
       "  u'amenity': u'Pub',\n",
       "  u'created': {u'changeset': u'6406363',\n",
       "   u'timestamp': u'2010-11-19T11:55:02Z',\n",
       "   u'uid': u'176488',\n",
       "   u'user': u'Djavan Fagundes',\n",
       "   u'version': u'2'},\n",
       "  u'food': u'Yes',\n",
       "  u'id': u'994530574',\n",
       "  u'loc': [-19.9288399, -43.9216351],\n",
       "  u'name': u'Studio Da Carne',\n",
       "  u'pos': [-19.9288399, -43.9216351],\n",
       "  u'type': u'node'},\n",
       " {u'_id': ObjectId('58641665ed425d6e306cc25c'),\n",
       "  u'address': {u'housenumber': u'3986', u'street': u'Avenida Do Contorno'},\n",
       "  u'amenity': u'Restaurant',\n",
       "  u'created': {u'changeset': u'13361689',\n",
       "   u'timestamp': u'2012-10-04T15:33:15Z',\n",
       "   u'uid': u'224440',\n",
       "   u'user': u'Syl',\n",
       "   u'version': u'2'},\n",
       "  u'cuisine': u'German',\n",
       "  u'id': u'994530568',\n",
       "  u'loc': [-19.9290633, -43.9217963],\n",
       "  u'name': u'Caf\\xe9 Viena Beer',\n",
       "  u'pos': [-19.9290633, -43.9217963],\n",
       "  u'type': u'node'},\n",
       " {u'_id': ObjectId('58641665ed425d6e306cc260'),\n",
       "  u'address': {u'housenumber': u'3575', u'street': u'Avenida Do Contorno'},\n",
       "  u'amenity': u'Pub',\n",
       "  u'created': {u'changeset': u'8365056',\n",
       "   u'timestamp': u'2011-06-06T21:55:13Z',\n",
       "   u'uid': u'176488',\n",
       "   u'user': u'Djavan Fagundes',\n",
       "   u'version': u'2'},\n",
       "  u'id': u'994537254',\n",
       "  u'loc': [-19.9262416, -43.9196543],\n",
       "  u'name': u'Algo Mais',\n",
       "  u'pos': [-19.9262416, -43.9196543],\n",
       "  u'type': u'node'},\n",
       " {u'_id': ObjectId('58641665ed425d6e306cdd68'),\n",
       "  u'address': {u'housenumber': u'3849', u'street': u'Avenida Do Contorno'},\n",
       "  u'amenity': u'Pub',\n",
       "  u'created': {u'changeset': u'8371283',\n",
       "   u'timestamp': u'2011-06-07T15:46:08Z',\n",
       "   u'uid': u'176488',\n",
       "   u'user': u'Djavan Fagundes',\n",
       "   u'version': u'2'},\n",
       "  u'food': u'Yes',\n",
       "  u'id': u'1170288789',\n",
       "  u'loc': [-19.9280916, -43.9204337],\n",
       "  u'name': u'Est\\xfadio B',\n",
       "  u'pos': [-19.9280916, -43.9204337],\n",
       "  u'type': u'node'},\n",
       " {u'_id': ObjectId('58641665ed425d6e306cedc3'),\n",
       "  u'address': {u'city': u'Belo Horizonte',\n",
       "   u'country': u'BR',\n",
       "   u'housenumber': u'8699',\n",
       "   u'street': u'Avenida Do Contorno'},\n",
       "  u'amenity': u'Pub',\n",
       "  u'contact:website': u'Http://Www.Pimentacomcachaca.Com.Br/',\n",
       "  u'created': {u'changeset': u'10027863',\n",
       "   u'timestamp': u'2011-12-03T19:57:11Z',\n",
       "   u'uid': u'176488',\n",
       "   u'user': u'Djavan Fagundes',\n",
       "   u'version': u'3'},\n",
       "  u'cuisine': u'Mineira',\n",
       "  u'id': u'1314240490',\n",
       "  u'loc': [-19.9323613, -43.9552338],\n",
       "  u'name': u'Pimenta Com Cacha\\xe7a',\n",
       "  u'pos': [-19.9323613, -43.9552338],\n",
       "  u'smoking': u'No',\n",
       "  u'source': u'Bing;Survey',\n",
       "  u'type': u'node'},\n",
       " {u'_id': ObjectId('58641666ed425d6e306d0293'),\n",
       "  u'address': {u'housenumber': u'1662', u'street': u'Avenida Do Contorno'},\n",
       "  u'amenity': u'Restaurant',\n",
       "  u'created': {u'changeset': u'20186962',\n",
       "   u'timestamp': u'2014-01-25T00:53:43Z',\n",
       "   u'uid': u'1854688',\n",
       "   u'user': u'TrevorInserts',\n",
       "   u'version': u'4'},\n",
       "  u'cuisine': u'Chinese',\n",
       "  u'id': u'1480137999',\n",
       "  u'loc': [-19.9145231, -43.9285973],\n",
       "  u'name': u'China In Box',\n",
       "  u'pos': [-19.9145231, -43.9285973],\n",
       "  u'type': u'node'},\n",
       " {u'_id': ObjectId('58641666ed425d6e306d60fc'),\n",
       "  u'address': {u'housenumber': u'2939', u'street': u'Avenida Do Contorno'},\n",
       "  u'created': {u'changeset': u'14531591',\n",
       "   u'timestamp': u'2013-01-04T21:57:11Z',\n",
       "   u'uid': u'84832',\n",
       "   u'user': u'Thales Batista',\n",
       "   u'version': u'1'},\n",
       "  u'id': u'2095567707',\n",
       "  u'loc': [-19.9219071, -43.9207547],\n",
       "  u'name': u'Waz Hardware Store',\n",
       "  u'pos': [-19.9219071, -43.9207547],\n",
       "  u'source': u'Bing',\n",
       "  u'type': u'node',\n",
       "  u'website': u'Http://Www.Waz.Com.Br'},\n",
       " {u'_id': ObjectId('58641666ed425d6e306d60fd'),\n",
       "  u'address': {u'housenumber': u'2939', u'street': u'Avenida Do Contorno'},\n",
       "  u'amenity': u'Restaurant',\n",
       "  u'created': {u'changeset': u'14531591',\n",
       "   u'timestamp': u'2013-01-04T21:57:11Z',\n",
       "   u'uid': u'84832',\n",
       "   u'user': u'Thales Batista',\n",
       "   u'version': u'1'},\n",
       "  u'id': u'2095567709',\n",
       "  u'loc': [-19.921815, -43.9207941],\n",
       "  u'name': u'Cantinho Do Sabor',\n",
       "  u'pos': [-19.921815, -43.9207941],\n",
       "  u'source': u'Bing',\n",
       "  u'type': u'node'},\n",
       " {u'_id': ObjectId('58641666ed425d6e306d60fe'),\n",
       "  u'address': {u'housenumber': u'2939', u'street': u'Avenida Do Contorno'},\n",
       "  u'amenity': u'Pharmacy',\n",
       "  u'created': {u'changeset': u'14531591',\n",
       "   u'timestamp': u'2013-01-04T21:57:11Z',\n",
       "   u'uid': u'84832',\n",
       "   u'user': u'Thales Batista',\n",
       "   u'version': u'1'},\n",
       "  u'id': u'2095567708',\n",
       "  u'loc': [-19.9218573, -43.9209698],\n",
       "  u'name': u'Drogazap',\n",
       "  u'pos': [-19.9218573, -43.9209698],\n",
       "  u'source': u'Bing',\n",
       "  u'type': u'node',\n",
       "  u'website': u'Http://Www.Drogazap.Com.Br'},\n",
       " {u'_id': ObjectId('58641667ed425d6e306d8f63'),\n",
       "  u'address': {u'housename': u'6399', u'street': u'Avenida Do Contorno'},\n",
       "  u'amenity': u'Music_Venue',\n",
       "  u'contact:phone': u'2531-0799',\n",
       "  u'created': {u'changeset': u'15921801',\n",
       "   u'timestamp': u'2013-04-30T14:50:32Z',\n",
       "   u'uid': u'176488',\n",
       "   u'user': u'Djavan Fagundes',\n",
       "   u'version': u'1'},\n",
       "  u'dance:teaching': u'Yes',\n",
       "  u'id': u'2286807070',\n",
       "  u'leisure': u'Dance',\n",
       "  u'loc': [-19.9403833, -43.9370322],\n",
       "  u'name': u'Casa - Centro De Arte Savassi',\n",
       "  u'pos': [-19.9403833, -43.9370322],\n",
       "  u'type': u'node'},\n",
       " {u'_id': ObjectId('58641667ed425d6e306d8f67'),\n",
       "  u'address': {u'housename': u'6283 SL 10', u'street': u'Avenida Do Contorno'},\n",
       "  u'amenity': u'Music_Venue',\n",
       "  u'contact:phone': u'3281-9477',\n",
       "  u'created': {u'changeset': u'15921801',\n",
       "   u'timestamp': u'2013-04-30T14:50:32Z',\n",
       "   u'uid': u'176488',\n",
       "   u'user': u'Djavan Fagundes',\n",
       "   u'version': u'1'},\n",
       "  u'dance:teaching': u'Yes',\n",
       "  u'id': u'2286807074',\n",
       "  u'leisure': u'Dance',\n",
       "  u'loc': [-19.9403411, -43.9359641],\n",
       "  u'name': u'N\\xfacleo Art\\xedstico Savassi',\n",
       "  u'pos': [-19.9403411, -43.9359641],\n",
       "  u'type': u'node'},\n",
       " {u'_id': ObjectId('5864166aed425d6e306f692a'),\n",
       "  u'address': {u'housenumber': u'6739', u'street': u'Avenida Do Contorno'},\n",
       "  u'created': {u'changeset': u'24425781',\n",
       "   u'timestamp': u'2014-07-29T16:42:37Z',\n",
       "   u'uid': u'2038852',\n",
       "   u'user': u'Gerson Barcelos',\n",
       "   u'version': u'5'},\n",
       "  u'id': u'2869114201',\n",
       "  u'loc': [-19.9398702, -43.9402489],\n",
       "  u'pos': [-19.9398702, -43.9402489],\n",
       "  u'type': u'node'},\n",
       " {u'_id': ObjectId('5864166aed425d6e306f692b'),\n",
       "  u'address': {u'housenumber': u'6853', u'street': u'Avenida Do Contorno'},\n",
       "  u'created': {u'changeset': u'24186370',\n",
       "   u'timestamp': u'2014-07-16T17:48:04Z',\n",
       "   u'uid': u'2038852',\n",
       "   u'user': u'Gerson Barcelos',\n",
       "   u'version': u'5'},\n",
       "  u'id': u'2869114301',\n",
       "  u'loc': [-19.9396159, -43.9412655],\n",
       "  u'pos': [-19.9396159, -43.9412655],\n",
       "  u'type': u'node'},\n",
       " {u'_id': ObjectId('5864166aed425d6e306f692c'),\n",
       "  u'address': {u'housenumber': u'7125', u'street': u'Avenida Do Contorno'},\n",
       "  u'created': {u'changeset': u'24186259',\n",
       "   u'timestamp': u'2014-07-16T17:42:51Z',\n",
       "   u'uid': u'2038852',\n",
       "   u'user': u'Gerson Barcelos',\n",
       "   u'version': u'5'},\n",
       "  u'id': u'2869109501',\n",
       "  u'loc': [-19.938975, -43.9439449],\n",
       "  u'pos': [-19.938975, -43.9439449],\n",
       "  u'type': u'node'},\n",
       " {u'_id': ObjectId('5864166aed425d6e306f6ce4'),\n",
       "  u'address': {u'housenumber': u'7031', u'street': u'Avenida Do Contorno'},\n",
       "  u'created': {u'changeset': u'24186370',\n",
       "   u'timestamp': u'2014-07-16T17:48:04Z',\n",
       "   u'uid': u'2038852',\n",
       "   u'user': u'Gerson Barcelos',\n",
       "   u'version': u'5'},\n",
       "  u'id': u'2892273712',\n",
       "  u'loc': [-19.9392204, -43.9428899],\n",
       "  u'pos': [-19.9392204, -43.9428899],\n",
       "  u'type': u'node'},\n",
       " {u'_id': ObjectId('5864166aed425d6e306f7536'),\n",
       "  u'address': {u'housenumber': u'3300', u'street': u'Avenida Do Contorno'},\n",
       "  u'created': {u'changeset': u'24181891',\n",
       "   u'timestamp': u'2014-07-16T13:40:55Z',\n",
       "   u'uid': u'2038852',\n",
       "   u'user': u'Gerson Barcelos',\n",
       "   u'version': u'1'},\n",
       "  u'id': u'2965973876',\n",
       "  u'loc': [-19.9247343, -43.9195328],\n",
       "  u'pos': [-19.9247343, -43.9195328],\n",
       "  u'type': u'node'},\n",
       " {u'_id': ObjectId('5864166aed425d6e306f7539'),\n",
       "  u'address': {u'housenumber': u'6475', u'street': u'Avenida Do Contorno'},\n",
       "  u'created': {u'changeset': u'24182052',\n",
       "   u'timestamp': u'2014-07-16T13:49:10Z',\n",
       "   u'uid': u'2038852',\n",
       "   u'user': u'Gerson Barcelos',\n",
       "   u'version': u'1'},\n",
       "  u'id': u'2965966723',\n",
       "  u'loc': [-19.9404574, -43.9377083],\n",
       "  u'pos': [-19.9404574, -43.9377083],\n",
       "  u'type': u'node'},\n",
       " {u'_id': ObjectId('5864166aed425d6e306f753c'),\n",
       "  u'address': {u'housenumber': u'3347', u'street': u'Avenida Do Contorno'},\n",
       "  u'created': {u'changeset': u'24181975',\n",
       "   u'timestamp': u'2014-07-16T13:45:04Z',\n",
       "   u'uid': u'2038852',\n",
       "   u'user': u'Gerson Barcelos',\n",
       "   u'version': u'2'},\n",
       "  u'id': u'2965992139',\n",
       "  u'loc': [-19.9239377, -43.9190216],\n",
       "  u'pos': [-19.9239377, -43.9190216],\n",
       "  u'type': u'node'},\n",
       " {u'_id': ObjectId('5864166aed425d6e306f753d'),\n",
       "  u'address': {u'housenumber': u'6248', u'street': u'Avenida Do Contorno'},\n",
       "  u'created': {u'changeset': u'24182091',\n",
       "   u'timestamp': u'2014-07-16T13:50:44Z',\n",
       "   u'uid': u'2038852',\n",
       "   u'user': u'Gerson Barcelos',\n",
       "   u'version': u'1'},\n",
       "  u'id': u'2966013033',\n",
       "  u'loc': [-19.9401669, -43.9373284],\n",
       "  u'pos': [-19.9401669, -43.9373284],\n",
       "  u'type': u'node'},\n",
       " {u'_id': ObjectId('5864166aed425d6e306f7542'),\n",
       "  u'address': {u'housenumber': u'3669', u'street': u'Avenida Do Contorno'},\n",
       "  u'created': {u'changeset': u'24181975',\n",
       "   u'timestamp': u'2014-07-16T13:45:04Z',\n",
       "   u'uid': u'2038852',\n",
       "   u'user': u'Gerson Barcelos',\n",
       "   u'version': u'1'},\n",
       "  u'id': u'2966007733',\n",
       "  u'loc': [-19.9268143, -43.9197617],\n",
       "  u'pos': [-19.9268143, -43.9197617],\n",
       "  u'type': u'node'},\n",
       " {u'_id': ObjectId('5864166aed425d6e306f761e'),\n",
       "  u'address': {u'housenumber': u'6668', u'street': u'Avenida Do Contorno'},\n",
       "  u'created': {u'changeset': u'24574308',\n",
       "   u'timestamp': u'2014-08-06T12:02:26Z',\n",
       "   u'uid': u'2038852',\n",
       "   u'user': u'Gerson Barcelos',\n",
       "   u'version': u'2'},\n",
       "  u'id': u'2971612733',\n",
       "  u'loc': [-19.9392744, -43.9412081],\n",
       "  u'pos': [-19.9392744, -43.9412081],\n",
       "  u'type': u'node'},\n",
       " {u'_id': ObjectId('5864166aed425d6e306f7641'),\n",
       "  u'address': {u'housenumber': u'6000', u'street': u'Avenida Do Contorno'},\n",
       "  u'created': {u'changeset': u'24261528',\n",
       "   u'timestamp': u'2014-07-20T20:08:05Z',\n",
       "   u'uid': u'2038852',\n",
       "   u'user': u'Gerson Barcelos',\n",
       "   u'version': u'1'},\n",
       "  u'id': u'2972002641',\n",
       "  u'loc': [-19.9399123, -43.934759],\n",
       "  u'pos': [-19.9399123, -43.934759],\n",
       "  u'type': u'node'},\n",
       " {u'_id': ObjectId('5864166aed425d6e306f764e'),\n",
       "  u'address': {u'housenumber': u'4747', u'street': u'Avenida Do Contorno'},\n",
       "  u'created': {u'changeset': u'24276771',\n",
       "   u'timestamp': u'2014-07-21T16:16:53Z',\n",
       "   u'uid': u'2038852',\n",
       "   u'user': u'Gerson Barcelos',\n",
       "   u'version': u'2'},\n",
       "  u'id': u'2973295133',\n",
       "  u'loc': [-19.9350882, -43.9248399],\n",
       "  u'pos': [-19.9350882, -43.9248399],\n",
       "  u'type': u'node'},\n",
       " {u'_id': ObjectId('5864166aed425d6e306f7671'),\n",
       "  u'address': {u'housenumber': u'5900', u'street': u'Avenida Do Contorno'},\n",
       "  u'created': {u'changeset': u'24330043',\n",
       "   u'timestamp': u'2014-07-24T12:57:07Z',\n",
       "   u'uid': u'2038852',\n",
       "   u'user': u'Gerson Barcelos',\n",
       "   u'version': u'2'},\n",
       "  u'id': u'2977423042',\n",
       "  u'loc': [-19.9398123, -43.9339645],\n",
       "  u'pos': [-19.9398123, -43.9339645],\n",
       "  u'type': u'node'},\n",
       " {u'_id': ObjectId('5864166aed425d6e306f76b6'),\n",
       "  u'address': {u'housenumber': u'7357', u'street': u'Avenida Do Contorno'},\n",
       "  u'created': {u'changeset': u'24425746',\n",
       "   u'timestamp': u'2014-07-29T16:40:24Z',\n",
       "   u'uid': u'2038852',\n",
       "   u'user': u'Gerson Barcelos',\n",
       "   u'version': u'1'},\n",
       "  u'id': u'2986208533',\n",
       "  u'loc': [-19.9369105, -43.9452656],\n",
       "  u'pos': [-19.9369105, -43.9452656],\n",
       "  u'type': u'node'},\n",
       " {u'_id': ObjectId('5864166aed425d6e306f76b7'),\n",
       "  u'address': {u'housenumber': u'7179', u'street': u'Avenida Do Contorno'},\n",
       "  u'created': {u'changeset': u'24425746',\n",
       "   u'timestamp': u'2014-07-29T16:40:25Z',\n",
       "   u'uid': u'2038852',\n",
       "   u'user': u'Gerson Barcelos',\n",
       "   u'version': u'1'},\n",
       "  u'id': u'2986208633',\n",
       "  u'loc': [-19.9386085, -43.9442064],\n",
       "  u'pos': [-19.9386085, -43.9442064],\n",
       "  u'type': u'node'},\n",
       " {u'_id': ObjectId('5864166aed425d6e306f7794'),\n",
       "  u'address': {u'housenumber': u'5670', u'street': u'Avenida Do Contorno'},\n",
       "  u'created': {u'changeset': u'24574270',\n",
       "   u'timestamp': u'2014-08-06T12:00:04Z',\n",
       "   u'uid': u'2038852',\n",
       "   u'user': u'Gerson Barcelos',\n",
       "   u'version': u'1'},\n",
       "  u'id': u'2999668934',\n",
       "  u'loc': [-19.9396204, -43.9319871],\n",
       "  u'pos': [-19.9396204, -43.9319871],\n",
       "  u'type': u'node'},\n",
       " {u'_id': ObjectId('5864166aed425d6e306f7795'),\n",
       "  u'address': {u'housenumber': u'6061', u'street': u'Avenida Do Contorno'},\n",
       "  u'created': {u'changeset': u'24574204',\n",
       "   u'timestamp': u'2014-08-06T11:57:20Z',\n",
       "   u'uid': u'2038852',\n",
       "   u'user': u'Gerson Barcelos',\n",
       "   u'version': u'1'},\n",
       "  u'id': u'2999695133',\n",
       "  u'loc': [-19.9400371, -43.933997],\n",
       "  u'pos': [-19.9400371, -43.933997],\n",
       "  u'type': u'node'},\n",
       " {u'_id': ObjectId('5864166aed425d6e306f7796'),\n",
       "  u'address': {u'housenumber': u'6441', u'street': u'Avenida Do Contorno'},\n",
       "  u'created': {u'changeset': u'24574204',\n",
       "   u'timestamp': u'2014-08-06T11:57:20Z',\n",
       "   u'uid': u'2038852',\n",
       "   u'user': u'Gerson Barcelos',\n",
       "   u'version': u'1'},\n",
       "  u'id': u'2999695233',\n",
       "  u'loc': [-19.940433, -43.9373653],\n",
       "  u'pos': [-19.940433, -43.9373653],\n",
       "  u'type': u'node'},\n",
       " {u'_id': ObjectId('5864166aed425d6e306f7797'),\n",
       "  u'address': {u'housenumber': u'6705', u'street': u'Avenida Do Contorno'},\n",
       "  u'created': {u'changeset': u'24574835',\n",
       "   u'timestamp': u'2014-08-06T12:32:58Z',\n",
       "   u'uid': u'2038852',\n",
       "   u'user': u'Gerson Barcelos',\n",
       "   u'version': u'1'},\n",
       "  u'id': u'2999744933',\n",
       "  u'loc': [-19.9399365, -43.9399618],\n",
       "  u'pos': [-19.9399365, -43.9399618],\n",
       "  u'type': u'node'},\n",
       " {u'_id': ObjectId('5864166aed425d6e306f7799'),\n",
       "  u'address': {u'housenumber': u'6414', u'street': u'Avenida Do Contorno'},\n",
       "  u'created': {u'changeset': u'24574308',\n",
       "   u'timestamp': u'2014-08-06T12:02:25Z',\n",
       "   u'uid': u'2038852',\n",
       "   u'user': u'Gerson Barcelos',\n",
       "   u'version': u'1'},\n",
       "  u'id': u'2999701433',\n",
       "  u'loc': [-19.9398373, -43.9388527],\n",
       "  u'pos': [-19.9398373, -43.9388527],\n",
       "  u'type': u'node'},\n",
       " {u'_id': ObjectId('5864166aed425d6e306f77d9'),\n",
       "  u'address': {u'housenumber': u'5351', u'street': u'Avenida Do Contorno'},\n",
       "  u'created': {u'changeset': u'24606440',\n",
       "   u'timestamp': u'2014-08-08T01:13:34Z',\n",
       "   u'uid': u'2038852',\n",
       "   u'user': u'Gerson Barcelos',\n",
       "   u'version': u'1'},\n",
       "  u'id': u'3003843833',\n",
       "  u'loc': [-19.9393612, -43.9269398],\n",
       "  u'pos': [-19.9393612, -43.9269398],\n",
       "  u'type': u'node'},\n",
       " {u'_id': ObjectId('5864166aed425d6e306f77da'),\n",
       "  u'address': {u'housenumber': u'5939', u'street': u'Avenida Do Contorno'},\n",
       "  u'created': {u'changeset': u'24606440',\n",
       "   u'timestamp': u'2014-08-08T01:13:34Z',\n",
       "   u'uid': u'2038852',\n",
       "   u'user': u'Gerson Barcelos',\n",
       "   u'version': u'1'},\n",
       "  u'id': u'3003843933',\n",
       "  u'loc': [-19.9399508, -43.9328039],\n",
       "  u'pos': [-19.9399508, -43.9328039],\n",
       "  u'type': u'node'},\n",
       " {u'_id': ObjectId('5864166aed425d6e306f77dc'),\n",
       "  u'address': {u'housenumber': u'5280', u'street': u'Avenida Do Contorno'},\n",
       "  u'created': {u'changeset': u'24607919',\n",
       "   u'timestamp': u'2014-08-08T04:44:53Z',\n",
       "   u'uid': u'2038852',\n",
       "   u'user': u'Gerson Barcelos',\n",
       "   u'version': u'1'},\n",
       "  u'id': u'3003951633',\n",
       "  u'loc': [-19.9391806, -43.9276018],\n",
       "  u'pos': [-19.9391806, -43.9276018],\n",
       "  u'type': u'node'},\n",
       " {u'_id': ObjectId('5864166aed425d6e306f77e8'),\n",
       "  u'address': {u'housenumber': u'7890', u'street': u'Avenida Do Contorno'},\n",
       "  u'created': {u'changeset': u'24665753',\n",
       "   u'timestamp': u'2014-08-10T22:47:30Z',\n",
       "   u'uid': u'2038852',\n",
       "   u'user': u'Gerson Barcelos',\n",
       "   u'version': u'1'},\n",
       "  u'id': u'3009481242',\n",
       "  u'loc': [-19.9348153, -43.9487253],\n",
       "  u'pos': [-19.9348153, -43.9487253],\n",
       "  u'type': u'node'},\n",
       " {u'_id': ObjectId('5864166aed425d6e306f77e9'),\n",
       "  u'address': {u'housenumber': u'8100', u'street': u'Avenida Do Contorno'},\n",
       "  u'created': {u'changeset': u'24665726',\n",
       "   u'timestamp': u'2014-08-10T22:44:48Z',\n",
       "   u'uid': u'2038852',\n",
       "   u'user': u'Gerson Barcelos',\n",
       "   u'version': u'1'},\n",
       "  u'id': u'3009481737',\n",
       "  u'loc': [-19.9339917, -43.9517955],\n",
       "  u'pos': [-19.9339917, -43.9517955],\n",
       "  u'type': u'node'},\n",
       " {u'_id': ObjectId('5864166aed425d6e306f77ea'),\n",
       "  u'address': {u'housenumber': u'8000', u'street': u'Avenida Do Contorno'},\n",
       "  u'created': {u'changeset': u'24665726',\n",
       "   u'timestamp': u'2014-08-10T22:44:49Z',\n",
       "   u'uid': u'2038852',\n",
       "   u'user': u'Gerson Barcelos',\n",
       "   u'version': u'1'},\n",
       "  u'id': u'3009482435',\n",
       "  u'loc': [-19.9342866, -43.9508179],\n",
       "  u'pos': [-19.9342866, -43.9508179],\n",
       "  u'type': u'node'},\n",
       " {u'_id': ObjectId('5864166aed425d6e306f77eb'),\n",
       "  u'address': {u'housenumber': u'7320', u'street': u'Avenida Do Contorno'},\n",
       "  u'created': {u'changeset': u'24665834',\n",
       "   u'timestamp': u'2014-08-10T22:54:41Z',\n",
       "   u'uid': u'2038852',\n",
       "   u'user': u'Gerson Barcelos',\n",
       "   u'version': u'1'},\n",
       "  u'id': u'3009485735',\n",
       "  u'loc': [-19.9355725, -43.9457336],\n",
       "  u'pos': [-19.9355725, -43.9457336],\n",
       "  u'type': u'node'},\n",
       " {u'_id': ObjectId('5864166aed425d6e306f77ef'),\n",
       "  u'address': {u'housenumber': u'7576', u'street': u'Avenida Do Contorno'},\n",
       "  u'created': {u'changeset': u'24665805',\n",
       "   u'timestamp': u'2014-08-10T22:51:59Z',\n",
       "   u'uid': u'2038852',\n",
       "   u'user': u'Gerson Barcelos',\n",
       "   u'version': u'1'},\n",
       "  u'id': u'3009504733',\n",
       "  u'loc': [-19.9348971, -43.9482735],\n",
       "  u'pos': [-19.9348971, -43.9482735],\n",
       "  u'type': u'node'},\n",
       " {u'_id': ObjectId('5864166aed425d6e306f77f0'),\n",
       "  u'address': {u'housenumber': u'7344', u'street': u'Avenida Do Contorno'},\n",
       "  u'created': {u'changeset': u'24665805',\n",
       "   u'timestamp': u'2014-08-10T22:52:00Z',\n",
       "   u'uid': u'2038852',\n",
       "   u'user': u'Gerson Barcelos',\n",
       "   u'version': u'1'},\n",
       "  u'id': u'3009504833',\n",
       "  u'loc': [-19.9354684, -43.946023],\n",
       "  u'pos': [-19.9354684, -43.946023],\n",
       "  u'type': u'node'},\n",
       " {u'_id': ObjectId('5864166aed425d6e306f77f1'),\n",
       "  u'address': {u'housenumber': u'7428', u'street': u'Avenida Do Contorno'},\n",
       "  u'created': {u'changeset': u'24665805',\n",
       "   u'timestamp': u'2014-08-10T22:52:00Z',\n",
       "   u'uid': u'2038852',\n",
       "   u'user': u'Gerson Barcelos',\n",
       "   u'version': u'1'},\n",
       "  u'id': u'3009504834',\n",
       "  u'loc': [-19.9353329, -43.9465356],\n",
       "  u'pos': [-19.9353329, -43.9465356],\n",
       "  u'type': u'node'},\n",
       " {u'_id': ObjectId('5864166aed425d6e306f7811'),\n",
       "  u'address': {u'housenumber': u'6990', u'street': u'Avenida Do Contorno'},\n",
       "  u'created': {u'changeset': u'24698804',\n",
       "   u'timestamp': u'2014-08-12T10:52:00Z',\n",
       "   u'uid': u'2038852',\n",
       "   u'user': u'Gerson Barcelos',\n",
       "   u'version': u'1'},\n",
       "  u'id': u'3012142233',\n",
       "  u'loc': [-19.938436, -43.9439807],\n",
       "  u'pos': [-19.938436, -43.9439807],\n",
       "  u'type': u'node'},\n",
       " {u'_id': ObjectId('5864166aed425d6e306f787d'),\n",
       "  u'address': {u'housenumber': u'7527', u'street': u'Avenida Do Contorno'},\n",
       "  u'created': {u'changeset': u'24820351',\n",
       "   u'timestamp': u'2014-08-17T22:18:40Z',\n",
       "   u'uid': u'2038852',\n",
       "   u'user': u'Gerson Barcelos',\n",
       "   u'version': u'1'},\n",
       "  u'id': u'3023451837',\n",
       "  u'loc': [-19.9356371, -43.946414],\n",
       "  u'pos': [-19.9356371, -43.946414],\n",
       "  u'type': u'node'},\n",
       " {u'_id': ObjectId('5864166aed425d6e306f7884'),\n",
       "  u'address': {u'housenumber': u'7587', u'street': u'Avenida Do Contorno'},\n",
       "  u'created': {u'changeset': u'24820351',\n",
       "   u'timestamp': u'2014-08-17T22:18:40Z',\n",
       "   u'uid': u'2038852',\n",
       "   u'user': u'Gerson Barcelos',\n",
       "   u'version': u'1'},\n",
       "  u'id': u'3023463434',\n",
       "  u'loc': [-19.935481, -43.9469358],\n",
       "  u'pos': [-19.935481, -43.9469358],\n",
       "  u'type': u'node'},\n",
       " {u'_id': ObjectId('5864166aed425d6e306f7886'),\n",
       "  u'address': {u'housenumber': u'7777', u'street': u'Avenida Do Contorno'},\n",
       "  u'created': {u'changeset': u'24820351',\n",
       "   u'timestamp': u'2014-08-17T22:18:39Z',\n",
       "   u'uid': u'2038852',\n",
       "   u'user': u'Gerson Barcelos',\n",
       "   u'version': u'1'},\n",
       "  u'id': u'3023464534',\n",
       "  u'loc': [-19.935158, -43.9483489],\n",
       "  u'pos': [-19.935158, -43.9483489],\n",
       "  u'type': u'node'},\n",
       " {u'_id': ObjectId('5864166aed425d6e306f7999'),\n",
       "  u'address': {u'housenumber': u'6936', u'street': u'Avenida Do Contorno'},\n",
       "  u'created': {u'changeset': u'25109853',\n",
       "   u'timestamp': u'2014-08-30T03:57:38Z',\n",
       "   u'uid': u'2038852',\n",
       "   u'user': u'Gerson Barcelos',\n",
       "   u'version': u'1'},\n",
       "  u'id': u'3049844934',\n",
       "  u'loc': [-19.9386967, -43.9436864],\n",
       "  u'pos': [-19.9386967, -43.9436864],\n",
       "  u'type': u'node'},\n",
       " {u'_id': ObjectId('5864166aed425d6e306f799d'),\n",
       "  u'address': {u'housenumber': u'6698', u'street': u'Avenida Do Contorno'},\n",
       "  u'created': {u'changeset': u'25109853',\n",
       "   u'timestamp': u'2014-08-30T03:57:37Z',\n",
       "   u'uid': u'2038852',\n",
       "   u'user': u'Gerson Barcelos',\n",
       "   u'version': u'1'},\n",
       "  u'id': u'3049845533',\n",
       "  u'loc': [-19.9392177, -43.9414937],\n",
       "  u'pos': [-19.9392177, -43.9414937],\n",
       "  u'type': u'node'},\n",
       " {u'_id': ObjectId('5864166aed425d6e306f8037'),\n",
       "  u'address': {u'housenumber': u'3277', u'street': u'Avenida Do Contorno'},\n",
       "  u'amenity': u'Restaurant',\n",
       "  u'created': {u'changeset': u'25756513',\n",
       "   u'timestamp': u'2014-09-29T21:32:54Z',\n",
       "   u'uid': u'582148',\n",
       "   u'user': u'Gerald Weber',\n",
       "   u'version': u'1'},\n",
       "  u'cuisine': u'Pizza',\n",
       "  u'id': u'3102803893',\n",
       "  u'loc': [-19.9235117, -43.918907],\n",
       "  u'name': u'Vila Floriano',\n",
       "  u'phone': u'+55 31 25107955',\n",
       "  u'pos': [-19.9235117, -43.918907],\n",
       "  u'source': u'Survey',\n",
       "  u'type': u'node'},\n",
       " {u'_id': ObjectId('5864166bed425d6e307081dc'),\n",
       "  u'address': {u'city': u'Belo Horizonte',\n",
       "   u'housenumber': u'5761',\n",
       "   u'street': u'Avenida Do Contorno',\n",
       "   u'suburb': u'Savassi'},\n",
       "  u'amenity': u'Pub',\n",
       "  u'created': {u'changeset': u'33186544',\n",
       "   u'timestamp': u'2015-08-07T18:14:25Z',\n",
       "   u'uid': u'717570',\n",
       "   u'user': u'andrellym',\n",
       "   u'version': u'1'},\n",
       "  u'id': u'3685985005',\n",
       "  u'loc': [-19.9398102, -43.9309682],\n",
       "  u'name': u'Collins Pub',\n",
       "  u'phone': u'+55 31 3284 4191',\n",
       "  u'pos': [-19.9398102, -43.9309682],\n",
       "  u'type': u'node'},\n",
       " {u'_id': ObjectId('5864166ced425d6e30710ceb'),\n",
       "  u'address': {u'housenumber': u'10325', u'street': u'Avenida Do Contorno'},\n",
       "  u'alt_name': u'Posto Oceano',\n",
       "  u'amenity': u'Fuel',\n",
       "  u'brand': u'Shell',\n",
       "  u'created': {u'changeset': u'34978279',\n",
       "   u'timestamp': u'2015-10-30T18:26:08Z',\n",
       "   u'uid': u'582148',\n",
       "   u'user': u'Gerald Weber',\n",
       "   u'version': u'1'},\n",
       "  u'id': u'3810302901',\n",
       "  u'loc': [-19.9177202, -43.9555071],\n",
       "  u'name': u'Posto Pica Pau',\n",
       "  u'phone': u'+55 31 33997000',\n",
       "  u'pos': [-19.9177202, -43.9555071],\n",
       "  u'shop': u'Convenience',\n",
       "  u'source': u'Survey',\n",
       "  u'type': u'node'},\n",
       " {u'_id': ObjectId('5864166ded425d6e30717e0f'),\n",
       "  u'address': {u'street': u'Avenida Do Contorno'},\n",
       "  u'amenity': u'Pharmacy',\n",
       "  u'created': {u'changeset': u'42668795',\n",
       "   u'timestamp': u'2016-10-05T20:39:43Z',\n",
       "   u'uid': u'4456051',\n",
       "   u'user': u'Paulo G Carvalho',\n",
       "   u'version': u'1'},\n",
       "  u'id': u'4433323069',\n",
       "  u'loc': [-19.9208674, -43.9245003],\n",
       "  u'name': u'Araujo',\n",
       "  u'pos': [-19.9208674, -43.9245003],\n",
       "  u'type': u'node'},\n",
       " {u'_id': ObjectId('5864166eed425d6e3071fff4'),\n",
       "  u'address': {u'country': u'BR',\n",
       "   u'housenumber': u'8902',\n",
       "   u'postcode': u'30110-062',\n",
       "   u'street': u'Avenida Do Contorno'},\n",
       "  u'amenity': u'School',\n",
       "  u'created': {u'changeset': u'12918013',\n",
       "   u'timestamp': u'2012-08-30T13:27:21Z',\n",
       "   u'uid': u'84832',\n",
       "   u'user': u'Thales Batista',\n",
       "   u'version': u'3'},\n",
       "  u'id': u'29221198',\n",
       "  u'name': u'Centro Educacional Pio Xii',\n",
       "  u'node_refs': [u'321403286',\n",
       "   u'321403287',\n",
       "   u'321403288',\n",
       "   u'321403289',\n",
       "   u'321402170',\n",
       "   u'321402173',\n",
       "   u'321403290',\n",
       "   u'321403291',\n",
       "   u'321403286'],\n",
       "  u'type': u'way',\n",
       "  u'website': u'Http://Www.Pioxii.Com.Br/'},\n",
       " {u'_id': ObjectId('5864166eed425d6e30720d74'),\n",
       "  u'address': {u'housenumber': u'9494',\n",
       "   u'postcode': u'30110-064',\n",
       "   u'street': u'Avenida Do Contorno'},\n",
       "  u'amenity': u'Hospital',\n",
       "  u'building': u'Yes',\n",
       "  u'created': {u'changeset': u'6845553',\n",
       "   u'timestamp': u'2011-01-03T01:12:54Z',\n",
       "   u'uid': u'176488',\n",
       "   u'user': u'Djavan Fagundes',\n",
       "   u'version': u'1'},\n",
       "  u'id': u'93159826',\n",
       "  u'name': u'Maternidade Odete Valadares',\n",
       "  u'node_refs': [u'1079989602',\n",
       "   u'1079989642',\n",
       "   u'1079989648',\n",
       "   u'1079989611',\n",
       "   u'1079989608',\n",
       "   u'1079989603',\n",
       "   u'1079989556',\n",
       "   u'1079989652',\n",
       "   u'1079989589',\n",
       "   u'1079989661',\n",
       "   u'1079989655',\n",
       "   u'1079989658',\n",
       "   u'1079989617',\n",
       "   u'1079989623',\n",
       "   u'1079989602'],\n",
       "  u'type': u'way'},\n",
       " {u'_id': ObjectId('5864166eed425d6e307225ff'),\n",
       "  u'address': {u'housenumber': u'3097', u'street': u'Avenida Do Contorno'},\n",
       "  u'amenity': u'Hospital',\n",
       "  u'building': u'Hospital',\n",
       "  u'created': {u'changeset': u'21123523',\n",
       "   u'timestamp': u'2014-03-15T19:52:42Z',\n",
       "   u'uid': u'463504',\n",
       "   u'user': u'erickdeoliveiraleal',\n",
       "   u'version': u'2'},\n",
       "  u'id': u'199560023',\n",
       "  u'name': u'Hospital Unimed',\n",
       "  u'node_refs': [u'2095549632',\n",
       "   u'2095549633',\n",
       "   u'2095549634',\n",
       "   u'2095549636',\n",
       "   u'2095549632'],\n",
       "  u'source': u'Bing',\n",
       "  u'type': u'way'},\n",
       " {u'_id': ObjectId('5864166eed425d6e30722600'),\n",
       "  u'address': {u'housenumber': u'2939', u'street': u'Avenida Do Contorno'},\n",
       "  u'created': {u'changeset': u'14531591',\n",
       "   u'timestamp': u'2013-01-04T21:57:10Z',\n",
       "   u'uid': u'84832',\n",
       "   u'user': u'Thales Batista',\n",
       "   u'version': u'1'},\n",
       "  u'id': u'199562226',\n",
       "  u'name': u'Santa Efig\\xeania Street Mall',\n",
       "  u'node_refs': [u'2095567698',\n",
       "   u'2095567699',\n",
       "   u'2095567700',\n",
       "   u'2095567701',\n",
       "   u'2095567702',\n",
       "   u'2095567703',\n",
       "   u'2095567698'],\n",
       "  u'shop': u'Mall',\n",
       "  u'source': u'Bing',\n",
       "  u'type': u'way'},\n",
       " {u'_id': ObjectId('5864166fed425d6e30726f52'),\n",
       "  u'address': {u'interpolation': u'odd', u'street': u'Avenida Do Contorno'},\n",
       "  u'created': {u'changeset': u'24525912',\n",
       "   u'timestamp': u'2014-08-03T23:03:52Z',\n",
       "   u'uid': u'2038852',\n",
       "   u'user': u'Gerson Barcelos',\n",
       "   u'version': u'2'},\n",
       "  u'id': u'285569150',\n",
       "  u'node_refs': [u'2892273712', u'2869109501'],\n",
       "  u'type': u'way'},\n",
       " {u'_id': ObjectId('5864166fed425d6e30727404'),\n",
       "  u'address': {u'city': u'Belo Horizonte',\n",
       "   u'housenumber': u'1545',\n",
       "   u'postcode': u'31110005',\n",
       "   u'street': u'Avenida Do Contorno',\n",
       "   u'suburb': u'Floresta'},\n",
       "  u'amenity': u'Studio',\n",
       "  u'building': u'Commercial',\n",
       "  u'created': {u'changeset': u'28924132',\n",
       "   u'timestamp': u'2015-02-18T03:53:21Z',\n",
       "   u'uid': u'397143',\n",
       "   u'user': u'Vitor Dias',\n",
       "   u'version': u'3'},\n",
       "  u'id': u'302799283',\n",
       "  u'name': u'Tv Record Minas - Canal 2',\n",
       "  u'node_refs': [u'3070828054',\n",
       "   u'3070828055',\n",
       "   u'3070828056',\n",
       "   u'3070828057',\n",
       "   u'3070828058',\n",
       "   u'3070828054'],\n",
       "  u'type': u'way',\n",
       "  u'wheelchair': u'Yes'},\n",
       " {u'_id': ObjectId('5864166fed425d6e30728c94'),\n",
       "  u'address': {u'city': u'Belo Horizonte',\n",
       "   u'housenumber': u'777',\n",
       "   u'street': u'Avenida Do Contorno'},\n",
       "  u'created': {u'changeset': u'33426859',\n",
       "   u'timestamp': u'2015-08-18T21:16:26Z',\n",
       "   u'uid': u'2683658',\n",
       "   u'user': u'alan77',\n",
       "   u'version': u'1'},\n",
       "  u'id': u'366388410',\n",
       "  u'landuse': u'Military',\n",
       "  u'name': u'Batalh\\xe3o Rotam',\n",
       "  u'node_refs': [u'3703650075',\n",
       "   u'3703650076',\n",
       "   u'3703650077',\n",
       "   u'3703650078',\n",
       "   u'3703650075'],\n",
       "  u'type': u'way'},\n",
       " {u'_id': ObjectId('58641670ed425d6e3072abab'),\n",
       "  u'address': {u'housenumber': u'7777', u'street': u'Avenida Do Contorno'},\n",
       "  u'amenity': u'Bank',\n",
       "  u'atm': u'Yes',\n",
       "  u'brand': u'Banco Intermedium',\n",
       "  u'building': u'Yes',\n",
       "  u'created': {u'changeset': u'38363502',\n",
       "   u'timestamp': u'2016-04-06T21:05:55Z',\n",
       "   u'uid': u'582148',\n",
       "   u'user': u'Gerald Weber',\n",
       "   u'version': u'1'},\n",
       "  u'id': u'408441254',\n",
       "  u'node_refs': [u'4103526590',\n",
       "   u'4103526592',\n",
       "   u'4103579589',\n",
       "   u'4103526693',\n",
       "   u'4103579689',\n",
       "   u'4103579490',\n",
       "   u'4103526590'],\n",
       "  u'source:brand': u'Survey',\n",
       "  u'type': u'way'}]"
      ]
     },
     "execution_count": 7,
     "metadata": {},
     "output_type": "execute_result"
    }
   ],
   "source": [
    "list(db.mapbh.find({\"address.street\" : \"Avenida Do Contorno\"}))"
   ]
  },
  {
   "cell_type": "markdown",
   "metadata": {},
   "source": [
    "Vou pesquisar lugares próximos da coordenada [-19.93, -43.94]. Você pode utilizar o operador $maxDistance ou $minDistance para restringir a distancia dos pontos que você está buscando."
   ]
  },
  {
   "cell_type": "code",
   "execution_count": 45,
   "metadata": {
    "collapsed": false
   },
   "outputs": [
    {
     "name": "stdout",
     "output_type": "stream",
     "text": [
      "Wall time: 2 ms\n"
     ]
    },
    {
     "data": {
      "text/plain": [
       "32"
      ]
     },
     "execution_count": 45,
     "metadata": {},
     "output_type": "execute_result"
    }
   ],
   "source": [
    "%time db.mapbh.find({'loc': SON([('$near', [-19.93, -43.94]), ('$maxDistance', 0.001)])}).count()"
   ]
  },
  {
   "cell_type": "markdown",
   "metadata": {},
   "source": [
    "Foram encontrados 32 resultados para esta pesquisa, nada mal! E o tempo de pesquisa é muito rápido, só 2ms para percorrer a coleção com 408 mil documentos."
   ]
  },
  {
   "cell_type": "markdown",
   "metadata": {},
   "source": [
    "#### Cidades\n",
    "O atributo Nome da Cidade foi auditado na fase anterior e seus valores foram mapeados. Vamos executar uma consulta que retorne o nome das cidades e total de ruas cadastradas para cada uma delas."
   ]
  },
  {
   "cell_type": "code",
   "execution_count": 43,
   "metadata": {
    "collapsed": false
   },
   "outputs": [],
   "source": [
    "pipeline = [{\"$unwind\" : \"$address.city\"},\n",
    "            {\"$group\": {\"_id\" : {\"cidade\":\"$address.city\", \"rua\":\"$address.street\"}, \"ccount\": {\"$sum\": 1}}},\n",
    "            {\"$group\" : {\"_id\": \"$_id.cidade\", \"TotalRuas\" : {\"$sum\": \"$ccount\"}}},\n",
    "            {\"$sort\" : {\"TotalRuas\" : -1}}\n",
    "            ]\n",
    "\n",
    "total_rua_cidades = list(db.mapbh.aggregate(pipeline))"
   ]
  },
  {
   "cell_type": "code",
   "execution_count": 44,
   "metadata": {
    "collapsed": false
   },
   "outputs": [
    {
     "name": "stdout",
     "output_type": "stream",
     "text": [
      "[{u'TotalRuas': 328, u'_id': u'Belo Horizonte'},\n",
      " {u'TotalRuas': 16, u'_id': u'Betim'},\n",
      " {u'TotalRuas': 12, u'_id': u'Contagem'},\n",
      " {u'TotalRuas': 8, u'_id': u'Nova Lima'},\n",
      " {u'TotalRuas': 5, u'_id': u'Sarzedo'},\n",
      " {u'TotalRuas': 5, u'_id': u'Sabar\\xe1'},\n",
      " {u'TotalRuas': 4, u'_id': u'Santa Luzia'},\n",
      " {u'TotalRuas': 2, u'_id': u'Ribeir\\xe3o Das Neves'}]\n"
     ]
    }
   ],
   "source": [
    "pprint.pprint(total_rua_cidades)"
   ]
  },
  {
   "cell_type": "markdown",
   "metadata": {},
   "source": [
    "Na lista de cidades o nome Belo Horizonte aparece duas vezes sendo uma delas com grafia incorreta \"Belo Horizont\". Para corrigir a situação no banco de dados atualizei o nome para o correto. Essa falha ocorreu porque no método update_city do script audit_map_BH eu atribuí para Belo Horizonte um tamanho de [0:13], quando deveria ter sido [0:14]. O método foi corrigido e atualizado. "
   ]
  },
  {
   "cell_type": "code",
   "execution_count": 26,
   "metadata": {
    "collapsed": false
   },
   "outputs": [
    {
     "data": {
      "text/plain": [
       "8"
      ]
     },
     "execution_count": 26,
     "metadata": {},
     "output_type": "execute_result"
    }
   ],
   "source": [
    "db.mapbh.find({\"address.city\":\"Belo Horizont\"}).count()"
   ]
  },
  {
   "cell_type": "code",
   "execution_count": 28,
   "metadata": {
    "collapsed": false
   },
   "outputs": [
    {
     "name": "stderr",
     "output_type": "stream",
     "text": [
      "C:\\Program Files (x86)\\Anaconda2\\lib\\site-packages\\ipykernel\\__main__.py:2: DeprecationWarning: update is deprecated. Use replace_one, update_one or update_many instead.\n",
      "  from ipykernel import kernelapp as app\n"
     ]
    },
    {
     "data": {
      "text/plain": [
       "{u'n': 8, u'nModified': 8, u'ok': 1, 'updatedExisting': True}"
      ]
     },
     "execution_count": 28,
     "metadata": {},
     "output_type": "execute_result"
    }
   ],
   "source": [
    "db.mapbh.update({\"address.city\":\"Belo Horizont\"}, \n",
    "                {\"$set\": {\"address.city\":\"Belo Horizonte\"}},multi=True)"
   ]
  },
  {
   "cell_type": "markdown",
   "metadata": {
    "collapsed": true
   },
   "source": [
    "Agora que o dados estão consistentes, vamos imprimir um gráfico de pizza com a distribuição das ruas cadastradas por cidade. Existem dados cadastrados para a capital Belo Horizonte e para as cidades da região metropolitana."
   ]
  },
  {
   "cell_type": "code",
   "execution_count": 30,
   "metadata": {
    "collapsed": false
   },
   "outputs": [
    {
     "data": {
      "text/plain": [
       "([<matplotlib.patches.Wedge at 0xc517128>,\n",
       "  <matplotlib.patches.Wedge at 0xc517a20>,\n",
       "  <matplotlib.patches.Wedge at 0xc5272b0>,\n",
       "  <matplotlib.patches.Wedge at 0xc527b00>,\n",
       "  <matplotlib.patches.Wedge at 0xc537390>,\n",
       "  <matplotlib.patches.Wedge at 0xc537be0>,\n",
       "  <matplotlib.patches.Wedge at 0xc5c5470>,\n",
       "  <matplotlib.patches.Wedge at 0xc5c5cc0>],\n",
       " [<matplotlib.text.Text at 0xc5176a0>,\n",
       "  <matplotlib.text.Text at 0xc517f60>,\n",
       "  <matplotlib.text.Text at 0xc5277f0>,\n",
       "  <matplotlib.text.Text at 0xc527f98>,\n",
       "  <matplotlib.text.Text at 0xc5378d0>,\n",
       "  <matplotlib.text.Text at 0xc5c5160>,\n",
       "  <matplotlib.text.Text at 0xc5c59b0>,\n",
       "  <matplotlib.text.Text at 0xc5d2240>])"
      ]
     },
     "execution_count": 30,
     "metadata": {},
     "output_type": "execute_result"
    },
    {
     "data": {
      "image/png": "[encoded data removed]",
      "text/plain": [
       "<matplotlib.figure.Figure at 0xc2a9588>"
      ]
     },
     "metadata": {},
     "output_type": "display_data"
    }
   ],
   "source": [
    "cidade = []\n",
    "total = []\n",
    "for item in total_rua_cidades:\n",
    "    total.append(item[\"TotalRuas\"])\n",
    "    cidade.append(item[\"_id\"].encode('ascii', 'ignore'))\n",
    "plt.pie(x=total,labels=cidade)"
   ]
  },
  {
   "cell_type": "code",
   "execution_count": null,
   "metadata": {
    "collapsed": true
   },
   "outputs": [],
   "source": []
  },
  {
   "cell_type": "code",
   "execution_count": 53,
   "metadata": {
    "collapsed": false
   },
   "outputs": [],
   "source": [
    "pipeline = [ \n",
    "            {\"$match\": {\"highway\":{\"$ne\": None,\"$exists\": 1} }},            \n",
    "            {\"$group\": {\"_id\" : \"$highway\", \"total\": {\"$sum\": 1}}},\n",
    "            {\"$sort\" : {\"total\" : -1}},\n",
    "            {\"$limit\": 10}    \n",
    "    \n",
    "]\n",
    "tipo_via = list(db.mapbh.aggregate(pipeline))"
   ]
  },
  {
   "cell_type": "code",
   "execution_count": 62,
   "metadata": {
    "collapsed": false
   },
   "outputs": [
    {
     "data": {
      "text/plain": [
       "([<matplotlib.patches.Wedge at 0x5a74e828>,\n",
       "  <matplotlib.patches.Wedge at 0x5a4c3d30>,\n",
       "  <matplotlib.patches.Wedge at 0x59c86cc0>,\n",
       "  <matplotlib.patches.Wedge at 0x5a4f1208>,\n",
       "  <matplotlib.patches.Wedge at 0x5a4f10b8>,\n",
       "  <matplotlib.patches.Wedge at 0x5a0e6cc0>,\n",
       "  <matplotlib.patches.Wedge at 0x5a0e6358>,\n",
       "  <matplotlib.patches.Wedge at 0x5a2a61d0>,\n",
       "  <matplotlib.patches.Wedge at 0x5a1479e8>,\n",
       "  <matplotlib.patches.Wedge at 0x5a147da0>],\n",
       " [<matplotlib.text.Text at 0x5a7e0f60>,\n",
       "  <matplotlib.text.Text at 0x5a4c3cc0>,\n",
       "  <matplotlib.text.Text at 0x59c86470>,\n",
       "  <matplotlib.text.Text at 0x5a4f1518>,\n",
       "  <matplotlib.text.Text at 0x5a0e6320>,\n",
       "  <matplotlib.text.Text at 0x5a0e6668>,\n",
       "  <matplotlib.text.Text at 0x5a2a6710>,\n",
       "  <matplotlib.text.Text at 0x5a2a6ac8>,\n",
       "  <matplotlib.text.Text at 0x5a1474e0>,\n",
       "  <matplotlib.text.Text at 0x5a1668d0>])"
      ]
     },
     "execution_count": 62,
     "metadata": {},
     "output_type": "execute_result"
    },
    {
     "data": {
      "image/png": "[encoded data removed]",
      "text/plain": [
       "<matplotlib.figure.Figure at 0x5a7f9588>"
      ]
     },
     "metadata": {},
     "output_type": "display_data"
    }
   ],
   "source": [
    "label = []\n",
    "total = []\n",
    "for item in tipo_via:\n",
    "    total.append(item[\"total\"])\n",
    "    label.append(item[\"_id\"])\n",
    "plt.pie(x=total,labels=label)"
   ]
  },
  {
   "cell_type": "code",
   "execution_count": null,
   "metadata": {
    "collapsed": true
   },
   "outputs": [],
   "source": []
  },
  {
   "cell_type": "code",
   "execution_count": 50,
   "metadata": {
    "collapsed": false
   },
   "outputs": [
    {
     "data": {
      "text/plain": [
       "[{u'_id': u'Residential', u'total': 31564},\n",
       " {u'_id': u'Tertiary', u'total': 3873},\n",
       " {u'_id': u'Unclassified', u'total': 2580},\n",
       " {u'_id': u'Service', u'total': 2094},\n",
       " {u'_id': u'Secondary', u'total': 1906},\n",
       " {u'_id': u'Footway', u'total': 1236},\n",
       " {u'_id': u'Traffic_Signals', u'total': 885},\n",
       " {u'_id': u'Primary', u'total': 726},\n",
       " {u'_id': u'Bus_Stop', u'total': 694},\n",
       " {u'_id': u'Crossing', u'total': 513}]"
      ]
     },
     "execution_count": 50,
     "metadata": {},
     "output_type": "execute_result"
    }
   ],
   "source": [
    "pipeline = [ \n",
    "            {\"$match\": {\"highway\":{\"$ne\": None,\"$exists\": 1} }},            \n",
    "            {\"$group\": {\"_id\" : \"$highway\", \"total\": {\"$sum\": 1}}},\n",
    "            {\"$sort\" : {\"total\" : -1}},\n",
    "            {\"$limit\": 10}    \n",
    "    \n",
    "]\n",
    "list(db.mapbh.aggregate(pipeline))"
   ]
  },
  {
   "cell_type": "code",
   "execution_count": null,
   "metadata": {
    "collapsed": true
   },
   "outputs": [],
   "source": []
  },
  {
   "cell_type": "markdown",
   "metadata": {},
   "source": [
    "## 5. Conclusão"
   ]
  },
  {
   "cell_type": "markdown",
   "metadata": {},
   "source": [
    "Uma parte significativa dos dados de Belo Horizonte não está formatada de acordo com minha expectativa, o que dificultou a obtenção de resultados com mais volume de informações, essa ausência dos atributos de algumas ruas torna este projeto sem valor estatístico e o impede de ser um reflexo das características de Belo Horizonte. A contagem de ruas com o atributo address.street cadastrados, retornou apenas 320 resultados para Belo Horizonte, demonstrando a falta de registros para a 6º cidade mais populosa do Brasil.\n",
    "\n",
    "Apesar deste obstáculo, o mapa atendeu ao objetivo da análise e possibilitou a obtenção e manipulação dos dados.\n",
    "\n",
    "O objetivo do OpenStreetMap é ser gratuito e acessível, mas seria importante para a consistência e confiabilidade das informações que houvesse uma importação maciça de dados de uma outra aplicação, ou incentivo a este projeto em faculdades, de forma que o objetivo principal não fosse comprometido."
   ]
  },
  {
   "cell_type": "markdown",
   "metadata": {},
   "source": [
    "## 6. Referências"
   ]
  },
  {
   "cell_type": "markdown",
   "metadata": {
    "collapsed": true
   },
   "source": [
    "- http://wiki.openstreetmap.org/wiki/Belo_Horizonte\n",
    "- http://wiki.openstreetmap.org/wiki/WikiProject_Brazil\n",
    "- http://overpass-api.de/api/map?bbox=-44.3092,-20.0979,-43.6116,-19.7376\n",
    "- https://github.com/FrankRuns/Udacity/tree/master/OpenStreetMap-Analysis/OSM_Data_Project\n",
    "- https://github.com/ucaiado/OpenStreetMaps\n",
    "- http://pt.slideshare.net/mbright1/using-mongodb-and-python-demo"
   ]
  },
  {
   "cell_type": "code",
   "execution_count": 14,
   "metadata": {
    "collapsed": false
   },
   "outputs": [
    {
     "data": {
      "text/plain": [
       "{u'avgObjSize': 241.37900571181362,\n",
       " u'collections': 1,\n",
       " u'dataSize': 112706375.0,\n",
       " u'db': u'openstreetmap',\n",
       " u'indexSize': 4403200.0,\n",
       " u'indexes': 1,\n",
       " u'numExtents': 0,\n",
       " u'objects': 466927,\n",
       " u'ok': 1.0,\n",
       " u'storageSize': 37548032.0}"
      ]
     },
     "execution_count": 14,
     "metadata": {},
     "output_type": "execute_result"
    }
   ],
   "source": [
    "db.command(\"dbstats\")"
   ]
  },
  {
   "cell_type": "code",
   "execution_count": 17,
   "metadata": {
    "collapsed": false
   },
   "outputs": [
    {
     "ename": "OperationFailure",
     "evalue": "Collection [openstreetmap.events] not found.",
     "output_type": "error",
     "traceback": [
      "\u001b[1;31m---------------------------------------------------------------------------\u001b[0m",
      "\u001b[1;31mOperationFailure\u001b[0m                          Traceback (most recent call last)",
      "\u001b[1;32m<ipython-input-17-8b3b18eb644b>\u001b[0m in \u001b[0;36m<module>\u001b[1;34m()\u001b[0m\n\u001b[1;32m----> 1\u001b[1;33m \u001b[0mdb\u001b[0m\u001b[1;33m.\u001b[0m\u001b[0mcommand\u001b[0m\u001b[1;33m(\u001b[0m\u001b[1;34m\"collstats\"\u001b[0m\u001b[1;33m,\u001b[0m \u001b[1;34m\"events\"\u001b[0m\u001b[1;33m)\u001b[0m\u001b[1;33m\u001b[0m\u001b[0m\n\u001b[0m",
      "\u001b[1;32mC:\\Program Files (x86)\\Anaconda2\\lib\\site-packages\\pymongo\\database.pyc\u001b[0m in \u001b[0;36mcommand\u001b[1;34m(self, command, value, check, allowable_errors, read_preference, codec_options, **kwargs)\u001b[0m\n\u001b[0;32m    479\u001b[0m             return self._command(sock_info, command, slave_ok, value,\n\u001b[0;32m    480\u001b[0m                                  \u001b[0mcheck\u001b[0m\u001b[1;33m,\u001b[0m \u001b[0mallowable_errors\u001b[0m\u001b[1;33m,\u001b[0m \u001b[0mread_preference\u001b[0m\u001b[1;33m,\u001b[0m\u001b[1;33m\u001b[0m\u001b[0m\n\u001b[1;32m--> 481\u001b[1;33m                                  codec_options, **kwargs)\n\u001b[0m\u001b[0;32m    482\u001b[0m \u001b[1;33m\u001b[0m\u001b[0m\n\u001b[0;32m    483\u001b[0m     \u001b[1;32mdef\u001b[0m \u001b[0m_list_collections\u001b[0m\u001b[1;33m(\u001b[0m\u001b[0mself\u001b[0m\u001b[1;33m,\u001b[0m \u001b[0msock_info\u001b[0m\u001b[1;33m,\u001b[0m \u001b[0mslave_okay\u001b[0m\u001b[1;33m,\u001b[0m \u001b[0mcriteria\u001b[0m\u001b[1;33m=\u001b[0m\u001b[0mNone\u001b[0m\u001b[1;33m)\u001b[0m\u001b[1;33m:\u001b[0m\u001b[1;33m\u001b[0m\u001b[0m\n",
      "\u001b[1;32mC:\\Program Files (x86)\\Anaconda2\\lib\\site-packages\\pymongo\\database.pyc\u001b[0m in \u001b[0;36m_command\u001b[1;34m(self, sock_info, command, slave_ok, value, check, allowable_errors, read_preference, codec_options, **kwargs)\u001b[0m\n\u001b[0;32m    391\u001b[0m                                  \u001b[0mcodec_options\u001b[0m\u001b[1;33m,\u001b[0m\u001b[1;33m\u001b[0m\u001b[0m\n\u001b[0;32m    392\u001b[0m                                  \u001b[0mcheck\u001b[0m\u001b[1;33m,\u001b[0m\u001b[1;33m\u001b[0m\u001b[0m\n\u001b[1;32m--> 393\u001b[1;33m                                  allowable_errors)\n\u001b[0m\u001b[0;32m    394\u001b[0m \u001b[1;33m\u001b[0m\u001b[0m\n\u001b[0;32m    395\u001b[0m     def command(self, command, value=1, check=True,\n",
      "\u001b[1;32mC:\\Program Files (x86)\\Anaconda2\\lib\\site-packages\\pymongo\\pool.pyc\u001b[0m in \u001b[0;36mcommand\u001b[1;34m(self, dbname, spec, slave_ok, read_preference, codec_options, check, allowable_errors, check_keys, read_concern)\u001b[0m\n\u001b[0;32m    237\u001b[0m                            \u001b[0mcheck\u001b[0m\u001b[1;33m,\u001b[0m \u001b[0mallowable_errors\u001b[0m\u001b[1;33m,\u001b[0m \u001b[0mself\u001b[0m\u001b[1;33m.\u001b[0m\u001b[0maddress\u001b[0m\u001b[1;33m,\u001b[0m\u001b[1;33m\u001b[0m\u001b[0m\n\u001b[0;32m    238\u001b[0m                            \u001b[0mcheck_keys\u001b[0m\u001b[1;33m,\u001b[0m \u001b[0mself\u001b[0m\u001b[1;33m.\u001b[0m\u001b[0mlisteners\u001b[0m\u001b[1;33m,\u001b[0m \u001b[0mself\u001b[0m\u001b[1;33m.\u001b[0m\u001b[0mmax_bson_size\u001b[0m\u001b[1;33m,\u001b[0m\u001b[1;33m\u001b[0m\u001b[0m\n\u001b[1;32m--> 239\u001b[1;33m                            read_concern)\n\u001b[0m\u001b[0;32m    240\u001b[0m         \u001b[1;32mexcept\u001b[0m \u001b[0mOperationFailure\u001b[0m\u001b[1;33m:\u001b[0m\u001b[1;33m\u001b[0m\u001b[0m\n\u001b[0;32m    241\u001b[0m             \u001b[1;32mraise\u001b[0m\u001b[1;33m\u001b[0m\u001b[0m\n",
      "\u001b[1;32mC:\\Program Files (x86)\\Anaconda2\\lib\\site-packages\\pymongo\\network.pyc\u001b[0m in \u001b[0;36mcommand\u001b[1;34m(sock, dbname, spec, slave_ok, is_mongos, read_preference, codec_options, check, allowable_errors, address, check_keys, listeners, max_bson_size, read_concern)\u001b[0m\n\u001b[0;32m    100\u001b[0m         \u001b[0mresponse_doc\u001b[0m \u001b[1;33m=\u001b[0m \u001b[0munpacked\u001b[0m\u001b[1;33m[\u001b[0m\u001b[1;34m'data'\u001b[0m\u001b[1;33m]\u001b[0m\u001b[1;33m[\u001b[0m\u001b[1;36m0\u001b[0m\u001b[1;33m]\u001b[0m\u001b[1;33m\u001b[0m\u001b[0m\n\u001b[0;32m    101\u001b[0m         \u001b[1;32mif\u001b[0m \u001b[0mcheck\u001b[0m\u001b[1;33m:\u001b[0m\u001b[1;33m\u001b[0m\u001b[0m\n\u001b[1;32m--> 102\u001b[1;33m             \u001b[0mhelpers\u001b[0m\u001b[1;33m.\u001b[0m\u001b[0m_check_command_response\u001b[0m\u001b[1;33m(\u001b[0m\u001b[0mresponse_doc\u001b[0m\u001b[1;33m,\u001b[0m \u001b[0mNone\u001b[0m\u001b[1;33m,\u001b[0m \u001b[0mallowable_errors\u001b[0m\u001b[1;33m)\u001b[0m\u001b[1;33m\u001b[0m\u001b[0m\n\u001b[0m\u001b[0;32m    103\u001b[0m     \u001b[1;32mexcept\u001b[0m \u001b[0mException\u001b[0m \u001b[1;32mas\u001b[0m \u001b[0mexc\u001b[0m\u001b[1;33m:\u001b[0m\u001b[1;33m\u001b[0m\u001b[0m\n\u001b[0;32m    104\u001b[0m         \u001b[1;32mif\u001b[0m \u001b[0mpublish\u001b[0m\u001b[1;33m:\u001b[0m\u001b[1;33m\u001b[0m\u001b[0m\n",
      "\u001b[1;32mC:\\Program Files (x86)\\Anaconda2\\lib\\site-packages\\pymongo\\helpers.pyc\u001b[0m in \u001b[0;36m_check_command_response\u001b[1;34m(response, msg, allowable_errors)\u001b[0m\n\u001b[0;32m    203\u001b[0m \u001b[1;33m\u001b[0m\u001b[0m\n\u001b[0;32m    204\u001b[0m             \u001b[0mmsg\u001b[0m \u001b[1;33m=\u001b[0m \u001b[0mmsg\u001b[0m \u001b[1;32mor\u001b[0m \u001b[1;34m\"%s\"\u001b[0m\u001b[1;33m\u001b[0m\u001b[0m\n\u001b[1;32m--> 205\u001b[1;33m             \u001b[1;32mraise\u001b[0m \u001b[0mOperationFailure\u001b[0m\u001b[1;33m(\u001b[0m\u001b[0mmsg\u001b[0m \u001b[1;33m%\u001b[0m \u001b[0merrmsg\u001b[0m\u001b[1;33m,\u001b[0m \u001b[0mcode\u001b[0m\u001b[1;33m,\u001b[0m \u001b[0mresponse\u001b[0m\u001b[1;33m)\u001b[0m\u001b[1;33m\u001b[0m\u001b[0m\n\u001b[0m\u001b[0;32m    206\u001b[0m \u001b[1;33m\u001b[0m\u001b[0m\n\u001b[0;32m    207\u001b[0m \u001b[1;33m\u001b[0m\u001b[0m\n",
      "\u001b[1;31mOperationFailure\u001b[0m: Collection [openstreetmap.events] not found."
     ]
    }
   ],
   "source": [
    "pipeline = [ \n",
    "            {\"$match\": {\"amenity\":{\"$in\": [\"Pub\",\"Bar\",\"Restaurant\"]}, \"pos\":{\"$ne\": None,\"$exists\": 1} }},            \n",
    "            {\"$group\": {\"_id\" : {\"amenity\":\"$amenity\", \"local\":\"$pos\",\"nome\":\"$name\"}, \"count\": {\"$sum\": 1}}},\n",
    "            {\"$unwind\" : \"$pos\"},\n",
    "            {\"$group\" : {\"_id\": {\"amenity\":\"$_id.amenity\", \"nome\":\"$_id.nome\", \"local\": \"$_id.local\"}, \"total\" : {\"$sum\": \"$count\"}}},\n",
    "            {\"$sort\" : {\"total\" : -1}}\n",
    "    \n",
    "]\n",
    "list(db.mapbh.aggregate(pipeline))\n"
   ]
  },
  {
   "cell_type": "code",
   "execution_count": null,
   "metadata": {
    "collapsed": true
   },
   "outputs": [],
   "source": []
  }
 ],
 "metadata": {
  "kernelspec": {
   "display_name": "Python [Root]",
   "language": "python",
   "name": "Python [Root]"
  },
  "language_info": {
   "codemirror_mode": {
    "name": "ipython",
    "version": 2
   },
   "file_extension": ".py",
   "mimetype": "text/x-python",
   "name": "python",
   "nbconvert_exporter": "python",
   "pygments_lexer": "ipython2",
   "version": "2.7.11"
  }
 },
 "nbformat": 4,
 "nbformat_minor": 0
}
