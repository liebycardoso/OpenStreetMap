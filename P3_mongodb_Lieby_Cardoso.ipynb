{
 "cells": [
  {
   "cell_type": "markdown",
   "metadata": {},
   "source": [
    "# P3: Limpando dados do OpenStreetMap\n",
    "\n",
    "* Lieby Cardoso\n",
    "                                                \n",
    "* Região selecionada para o projeto: \n",
    "Selecionei Belo Horizonte, MG, Brasil por ser a cidade em que moro e acredito ser interessante conhecer alguns pontos locais, também o domínio de informações prévias sobre a região podem ajudar na ánálise das informações cadastradas. \n",
    "\n",
    "Região: http://www.openstreetmap.org/relation/368782"
   ]
  },
  {
   "cell_type": "markdown",
   "metadata": {},
   "source": [
    "### Conteúdo\n",
    "\n",
    "1.\tMétodos e ferramentas\n",
    "2.\tProblemas encontrados no mapa\n",
    "3.  Visão geral dos dados\n",
    "4.  Outras Ideias sobre os Dados\n",
    "5.  Conclusão\n",
    "6.  Referências"
   ]
  },
  {
   "cell_type": "markdown",
   "metadata": {},
   "source": [
    "### 1.\tMétodos e ferramentas\n",
    "\n",
    "Descritivo dos métodos e ferramentas utilizados neste trabalho https://github.com/liebycardoso/OpenStreetMap/blob/master/Metodos_ferramentas.pdf"
   ]
  },
  {
   "cell_type": "markdown",
   "metadata": {},
   "source": [
    "### 2.\tProblemas encontrados no mapa\n",
    "\n",
    "** Localização da identificação do tipo de rua **\n",
    "\n",
    "Diferente dos exercícios realizados, onde o mapa era da cidade de Chicago e o tipo da rua podia ser identificado pela última palavra do nome, no mapa de Belo Horizonte, o nome da rua é composto pelo tipo, abreviado ou não, seguido pelo nome. Para atender esta particularidade da nomenclatura brasileira, a variável street_type_re foi reformulada para trabalhar com a primeira palavra da frase. A alteração consistiu na inclusão do caractere ^ , que corresponde sempre com o início da string e exclusão do caractere $, que corresponde com o final da string.\n",
    "\n",
    "Trecho do código:"
   ]
  },
  {
   "cell_type": "code",
   "execution_count": null,
   "metadata": {
    "collapsed": true
   },
   "outputs": [],
   "source": [
    " street_type_re = re.compile(r'^\\b(?u)\\w\\S+\\.?', re.IGNORECASE)"
   ]
  },
  {
   "cell_type": "markdown",
   "metadata": {},
   "source": [
    "** Caracteres especiais **\n",
    "\n",
    "Ao iniciar a auditoria dos dados, imprimi em tela o nome de algumas ruas da amostra e a lógica do programa não foi seguida em alguns casos porque existiam ruas com caracteres especiais como acentos agudos (‘), circunflexos (^), til (~) e cedilha (ç). \n",
    "No cabeçalho do script foi incluído o comando # -*- coding: utf-8 -*- para possibilitar a manipulação destes caracteres com a codificação Unicode utf-8.\n",
    "\n",
    "Mesmo fazendo essa inclusão, foi necessário acrescentar a letra ‘u’ antes de strings que foram usadas para comparação. Um exemplo é a palavra “Praça” incluída manualmente como string comparativa da variável expected, quando feita a comparação de “Praça” digitado com Praça retornando de uma variável, a comparação não era bem sucedida, neste caso a palavra “Praça” digitada foi substituída por u”Praça” para ser reconhecida como contendo caractere especial.\n",
    "\n",
    "Outro tratamento foi incluir a codificação (?u)\\w para todos os caracteres Unicode no re.compile.\n",
    "\n",
    "Trecho do código:"
   ]
  },
  {
   "cell_type": "code",
   "execution_count": 22,
   "metadata": {
    "collapsed": true
   },
   "outputs": [],
   "source": [
    "# -*- coding: utf-8 -*-\n",
    "expected_street = [\"Rua\", \"Avenida\", \"Beco\", \"Rodovia\", \"Expressa\", u\"Praça\", \"Anel\", \"Alameda\"]"
   ]
  },
  {
   "cell_type": "markdown",
   "metadata": {},
   "source": [
    "** Vias sem tipo definido e mapeamento de tipos**\n",
    "\n",
    "Algumas vias não tinham o seu tipo definido, como por exemplo, avenida, alameda, beco e etc.. Quando a via não tinha o tipo compatível com os cadastrados no array expected, nem no dicionário mapping_street, atribuí o prefixo “Rua” para todas elas. \n",
    "\n",
    "- Método: update_street_type(name, mapping):\n",
    "- Script: audit_map_bh\n",
    "\n",
    "Vias sem tipo:\n",
    "- Montes Claros => Rua Montes Claros\n",
    "- Paracatu => Rua Paracatu\n",
    "- Francisco Deslandes => Rua Francisco Deslandes\n",
    "- Riachuelo => Rua Riachuelo\n",
    "\n",
    "Vias com tipo mapeado:\n",
    "- Av São Lucas => Avenida São Lucas\n",
    "- Anél Rodoviário => Anel Rodoviário\n",
    "- Avendia Dom Pedro II => Avenida Dom Pedro II\n",
    "- Alamedas das Princesas => Alameda Das Princesas\n",
    "- Eua Conceição Aparecida => Rua Conceição Aparecida\n",
    "- Pc Nossa Senhora do Rosário => Praça Nossa Senhora Do Rosário\n",
    "- R. A => Rua A\n",
    "- R.B => Rua B"
   ]
  },
  {
   "cell_type": "markdown",
   "metadata": {},
   "source": [
    "** Títulos abreviados **\n",
    "\n",
    "Após corrigir a abreviatura do nome das ruas, percebi que algumas ruas estavam com o título da pessoa que deu nome à rua abreviado. Em BH todos os casos eram Prof. no lugar de Professor.\n",
    "\n",
    "- Método: update_street_title(name, mapping): \n",
    "- Script: audit_map_bh\n",
    "\n",
    "Exemplo:\n",
    "- Rua Prof. Melchíades da Costa Lage => Rua Professor Melchíades Da Costa Lage "
   ]
  },
  {
   "cell_type": "markdown",
   "metadata": {},
   "source": [
    "** Nome da cidade **\n",
    "\n",
    "O mapa da região de Belo Horizonte contém também informações sobre a região metropolitana, por esta razão a chave addr:city recebeu um tratamento para uniformizar os nomes, uma vez que, eram apresentados erros de grafia e o nome da cidade composto com o nome do estado.\n",
    "\n",
    "- Método: update_city(name, mapping): \n",
    "- Script: audit_map_bh\n",
    "\n",
    "Exemplo:\n",
    "- Beo horizonte => Belo Horizonte\n",
    "- Belo Horizonte – MG => Belo Horizonte\n",
    "- Belo Horizonte MG Brazil => Belo Horizonte"
   ]
  },
  {
   "cell_type": "markdown",
   "metadata": {},
   "source": [
    "** Código postal **\n",
    "\n",
    "O código postal é um atributo importante do endereço e pela contagem de valores, percebi que havia um bom volume de dados preenchidos, padronizei o campo como sendo uma sequencia de 8 números sem o caractere \"-\".\n",
    "\n",
    "- Método: update_code_postal (name, mapping): \n",
    "- Script: audit_map_bh"
   ]
  },
  {
   "cell_type": "markdown",
   "metadata": {},
   "source": [
    "## 3. Visão geral dos dados\n",
    "\n",
    "###  Representação dos dados OSM \n",
    "\n",
    "Os dados estão organizados em uma estrutura de elementos do mapa que representam o objeto e seu valor associado. Tipos encontrados:\n",
    "\n",
    "- node: um nó é informações de um par de coordenadas, sendo latitude e longitude;\n",
    "- way : uma lista de nós (nodes);\n",
    "\n",
    "Apesar do OpenStreetMap ter mais dois tipos de elementos abaixo listado, eles não foram considerados neste projeto.\n",
    "- area: representa uma área limitada, por exemplo, uma praça;\n",
    "- relation: pode ser um conjunto de nodes, ways e relation relacionados."
   ]
  },
  {
   "cell_type": "markdown",
   "metadata": {},
   "source": [
    "###  Importação dos dados para pesquisa "
   ]
  },
  {
   "cell_type": "markdown",
   "metadata": {},
   "source": [
    "O arquivo mapbh.json, gerado após análise dos dados OSM para Belo Horizonte, foi importado para o MongoDB através da linha de comando:\n",
    "\n",
    "* => mongoimport -h 127.0.0.1:27017 --db openstreetmap --collection mapbh --file C:/Nanodegree/MongoDb/Trab_final/mapbh.json  \n"
   ]
  },
  {
   "cell_type": "markdown",
   "metadata": {},
   "source": [
    "Os dados no MongoDB serão acessados e manipulados através da biblioteca pymongo."
   ]
  },
  {
   "cell_type": "code",
   "execution_count": 3,
   "metadata": {
    "collapsed": true
   },
   "outputs": [],
   "source": [
    "import pprint\n",
    "import matplotlib.pyplot as plt\n",
    "%matplotlib inline\n",
    "import pymongo\n",
    "from bson import SON\n",
    "from pymongo import MongoClient\n",
    "client=MongoClient('localhost:27017')\n",
    "db=client.openstreetmap"
   ]
  },
  {
   "cell_type": "markdown",
   "metadata": {},
   "source": [
    "Os dados importados fazem parte de uma coleção nomeada mapbh (--collection mapbh). \n",
    "Verificando se o nome foi criado corretamente: "
   ]
  },
  {
   "cell_type": "code",
   "execution_count": 29,
   "metadata": {
    "collapsed": false
   },
   "outputs": [
    {
     "data": {
      "text/plain": [
       "[u'mapbh']"
      ]
     },
     "execution_count": 29,
     "metadata": {},
     "output_type": "execute_result"
    }
   ],
   "source": [
    "db.collection_names()"
   ]
  },
  {
   "cell_type": "markdown",
   "metadata": {},
   "source": [
    "###  Conhecendo os dados "
   ]
  },
  {
   "cell_type": "markdown",
   "metadata": {},
   "source": [
    "** 3.1. Estatística dos dados **\n",
    "\n",
    "Um resumo com o total de documentos e tamanho do dados. "
   ]
  },
  {
   "cell_type": "code",
   "execution_count": 19,
   "metadata": {
    "collapsed": true
   },
   "outputs": [],
   "source": [
    "stats_mapbh = db.command(\"dbstats\")"
   ]
  },
  {
   "cell_type": "code",
   "execution_count": 29,
   "metadata": {
    "collapsed": false
   },
   "outputs": [
    {
     "name": "stdout",
     "output_type": "stream",
     "text": [
      "Tamanho da colecao:  112706375.0\n",
      "Total de documentos:  466927\n",
      "Total de indices:  1\n"
     ]
    }
   ],
   "source": [
    "print \"Tamanho da colecao: \", stats_mapbh[\"dataSize\"]\n",
    "print \"Total de documentos: \",  stats_mapbh[\"objects\"]\n",
    "print \"Total de indices: \" , stats_mapbh[\"indexes\"]"
   ]
  },
  {
   "cell_type": "markdown",
   "metadata": {},
   "source": [
    "** 3.2. Número de documentos com o tipo \"node\": **"
   ]
  },
  {
   "cell_type": "code",
   "execution_count": 38,
   "metadata": {
    "collapsed": false
   },
   "outputs": [
    {
     "data": {
      "text/plain": [
       "408052"
      ]
     },
     "execution_count": 38,
     "metadata": {},
     "output_type": "execute_result"
    }
   ],
   "source": [
    "db.mapbh.find({\"type\":\"node\"}).count() "
   ]
  },
  {
   "cell_type": "markdown",
   "metadata": {},
   "source": [
    "** 3.3. Número de documentos com o tipo \"way\": **"
   ]
  },
  {
   "cell_type": "code",
   "execution_count": 39,
   "metadata": {
    "collapsed": false
   },
   "outputs": [
    {
     "data": {
      "text/plain": [
       "58875"
      ]
     },
     "execution_count": 39,
     "metadata": {},
     "output_type": "execute_result"
    }
   ],
   "source": [
    "db.mapbh.find({\"type\":\"way\"}).count()"
   ]
  },
  {
   "cell_type": "markdown",
   "metadata": {},
   "source": [
    "** 3.4. Documentos com tipo diferente de \"way\" e \"node\": **"
   ]
  },
  {
   "cell_type": "markdown",
   "metadata": {},
   "source": [
    "O total de node e way é (408.052 + 58.875) 466.927, um pouco diferente dos 466.990 listados no db.mapbh.find().count(). Vou listar esses registros que não são way, nem node para identificar o problema, visto que na função shape_element eu fitrei os registros por tags que contivessem as strings \"node\" e \"way\"."
   ]
  },
  {
   "cell_type": "code",
   "execution_count": 70,
   "metadata": {
    "collapsed": false
   },
   "outputs": [
    {
     "data": {
      "text/plain": [
       "[]"
      ]
     },
     "execution_count": 70,
     "metadata": {},
     "output_type": "execute_result"
    }
   ],
   "source": [
    "list(db.mapbh.find({\"type\":{\"$nin\":[\"way\",\"node\"]}}))"
   ]
  },
  {
   "cell_type": "markdown",
   "metadata": {},
   "source": [
    "Percorrendo os registros acima é possível perceber que eles tem uma tag \"type\", como não foi implementada nenhum método que filtrasse esse tipo de situação, o valor desta tag própria substituiu o da tag \"type\" que deveria ter o tipo do atributo tag.\n",
    "\n",
    "Estes registros que foram comprometidos pela lógica da programação, serão excluídos da coleção. Uma correção possível na função shape_element é atribuir o valor de node['type'] = element.tag ao fim processo e não no início, como foi implementado."
   ]
  },
  {
   "cell_type": "code",
   "execution_count": 47,
   "metadata": {
    "collapsed": false
   },
   "outputs": [
    {
     "data": {
      "text/plain": [
       "<pymongo.results.DeleteResult at 0x3c75a68>"
      ]
     },
     "execution_count": 47,
     "metadata": {},
     "output_type": "execute_result"
    }
   ],
   "source": [
    "db.mapbh.delete_many({\"type\":{\"$nin\":[\"way\",\"node\"]}})"
   ]
  },
  {
   "cell_type": "markdown",
   "metadata": {},
   "source": [
    "Será que agora todos os registros são do tipo node ou way? Vamos conferir se o total de documentos na coleção é igual ao total de registros com way + node."
   ]
  },
  {
   "cell_type": "code",
   "execution_count": 50,
   "metadata": {
    "collapsed": false
   },
   "outputs": [
    {
     "data": {
      "text/plain": [
       "True"
      ]
     },
     "execution_count": 50,
     "metadata": {},
     "output_type": "execute_result"
    }
   ],
   "source": [
    "db.mapbh.find().count() == db.mapbh.find({\"type\":{\"$in\":[\"way\",\"node\"]}}).count()"
   ]
  },
  {
   "cell_type": "markdown",
   "metadata": {},
   "source": [
    "A comparação retornou True e os registros foram excluídos corretamente."
   ]
  },
  {
   "cell_type": "markdown",
   "metadata": {},
   "source": [
    "** 3.5. Tamanho dos arquivos OSM e JSON **\n",
    "\n",
    "- mapbh.OSM => 93.432 kb\n",
    "- mapbh.json => 136.726 kb\n",
    "- Coleção mapbh => 112.706 kb"
   ]
  },
  {
   "cell_type": "markdown",
   "metadata": {},
   "source": [
    "** 3.6. Usuários contribuintes com OSM de BH **"
   ]
  },
  {
   "cell_type": "markdown",
   "metadata": {
    "collapsed": true
   },
   "source": [
    "Total de usuários únicos que contribuiram com o mapa de BH:"
   ]
  },
  {
   "cell_type": "code",
   "execution_count": 4,
   "metadata": {
    "collapsed": false
   },
   "outputs": [
    {
     "name": "stdout",
     "output_type": "stream",
     "text": [
      "Total de usuários:  593\n"
     ]
    }
   ],
   "source": [
    "print \"Total de usuários: \" , len(db.mapbh.distinct(\"created.uid\"))"
   ]
  },
  {
   "cell_type": "markdown",
   "metadata": {},
   "source": [
    "Nome e o total de contribuições do usuário que mais contribuiu para o OSM de BH:"
   ]
  },
  {
   "cell_type": "code",
   "execution_count": 32,
   "metadata": {
    "collapsed": false
   },
   "outputs": [
    {
     "data": {
      "text/plain": [
       "[{u'_id': {u'Cod': u'397143', u'user': u'Vitor Dias'}, u'total': 128024}]"
      ]
     },
     "execution_count": 32,
     "metadata": {},
     "output_type": "execute_result"
    }
   ],
   "source": [
    "pipeline=[\n",
    "            {\"$match\": {\"type\": \"node\"}},\n",
    "            {\"$group\": {\"_id\": {\"Cod\":\"$created.uid\", \"user\":\"$created.user\"}, \"total\": {\"$sum\": 1}}},\n",
    "            {\"$sort\" : {\"total\" : -1}},\n",
    "            {\"$limit\": 1}\n",
    "          ]\n",
    "\n",
    "list(db.mapbh.aggregate(pipeline))"
   ]
  },
  {
   "cell_type": "markdown",
   "metadata": {},
   "source": [
    "Total de contribuições dos outros usuários:"
   ]
  },
  {
   "cell_type": "code",
   "execution_count": 9,
   "metadata": {
    "collapsed": false
   },
   "outputs": [
    {
     "data": {
      "text/plain": [
       "[{u'_id': u'TotalContibuicoesUsuarios', u'total': 280028}]"
      ]
     },
     "execution_count": 9,
     "metadata": {},
     "output_type": "execute_result"
    }
   ],
   "source": [
    "pipeline=[\n",
    "            {\"$match\": {\"type\": \"node\", \"created.uid\" :{\"$ne\": \"397143\"}}},\n",
    "            {\"$group\": {\"_id\": \"TotalContibuicoesUsuarios\", \"total\": {\"$sum\": 1}}},\n",
    "            {\"$sort\" : {\"total\" : -1}}\n",
    "          ]\n",
    "\n",
    "list(db.mapbh.aggregate(pipeline))"
   ]
  },
  {
   "cell_type": "markdown",
   "metadata": {},
   "source": [
    "O usuário Vitor Dias é responsável por 32% da contribuição dos dados."
   ]
  },
  {
   "cell_type": "markdown",
   "metadata": {},
   "source": [
    "## 4. Outras Ideias sobre os Dados"
   ]
  },
  {
   "cell_type": "markdown",
   "metadata": {},
   "source": [
    "** A capital mundial dos botecos ... será?! **\n",
    "\n",
    "Belo Horizonte se orgulha de ser a capital mundial dos botecos. Se você já passou por aqui, provavelmente, mesmo que conheça poucas cidades, deve ter percebido que isso é verdade. Será que conseguimos ver essa informação nos dados?"
   ]
  },
  {
   "cell_type": "code",
   "execution_count": 39,
   "metadata": {
    "collapsed": false
   },
   "outputs": [
    {
     "data": {
      "text/plain": [
       "[{u'_id': u'Restaurant', u'total': 443},\n",
       " {u'_id': u'School', u'total': 394},\n",
       " {u'_id': u'Parking', u'total': 261},\n",
       " {u'_id': u'Fuel', u'total': 260},\n",
       " {u'_id': u'Bank', u'total': 210},\n",
       " {u'_id': u'Place_Of_Worship', u'total': 208},\n",
       " {u'_id': u'Pub', u'total': 154},\n",
       " {u'_id': u'Bar', u'total': 148},\n",
       " {u'_id': u'Pharmacy', u'total': 130},\n",
       " {u'_id': u'Fast_Food', u'total': 126}]"
      ]
     },
     "execution_count": 39,
     "metadata": {},
     "output_type": "execute_result"
    }
   ],
   "source": [
    "pipeline = [{\"$match\": {\"amenity\":{\"$ne\": None,\"$exists\": 1}}},\n",
    "            {\"$group\":{\"_id\":\"$amenity\" , \"total\":{\"$sum\":1}}},\n",
    "            {\"$sort\" : {\"total\" : -1}},\n",
    "            {\"$limit\": 10}            \n",
    "           ]\n",
    "            \n",
    "list(db.mapbh.aggregate(pipeline))"
   ]
  },
  {
   "cell_type": "markdown",
   "metadata": {},
   "source": [
    "Nenhuma surpresa, Restaurante, Pub e Bar apareçam no top 10. Temos mais Pubs e Bares que farmácias!"
   ]
  },
  {
   "cell_type": "markdown",
   "metadata": {},
   "source": [
    "Já sabemos que restaurante é o tipo de instalação mais comum, agora vamos ver o tipo de culinária que cada uma oferece:"
   ]
  },
  {
   "cell_type": "code",
   "execution_count": 41,
   "metadata": {
    "collapsed": false
   },
   "outputs": [
    {
     "data": {
      "text/plain": [
       "[{u'_id': u'Regional', u'total': 59},\n",
       " {u'_id': u'Pizza', u'total': 30},\n",
       " {u'_id': u'Italian', u'total': 20},\n",
       " {u'_id': u'Japanese', u'total': 8},\n",
       " {u'_id': u'Fish', u'total': 7}]"
      ]
     },
     "execution_count": 41,
     "metadata": {},
     "output_type": "execute_result"
    }
   ],
   "source": [
    "pipeline = [\n",
    "            {\"$match\":{\"cuisine\":{\"$exists\":1}, \"amenity\":{\"$exists\":1}, \"amenity\":\"Restaurant\"}},\n",
    "            {\"$group\": {\"_id\":\"$cuisine\", \"total\": {\"$sum\":1}}},\n",
    "            {\"$sort\" : {\"total\" : -1}},\n",
    "            {\"$limit\": 5}]\n",
    "\n",
    "list(db.mapbh.aggregate(pipeline))"
   ]
  },
  {
   "cell_type": "markdown",
   "metadata": {},
   "source": [
    "O resultado é bastante razoável, a região tem vários restaurantes de comida mineira (Regional) e pizzarias que é comum na maioria das cidades."
   ]
  },
  {
   "cell_type": "markdown",
   "metadata": {},
   "source": [
    "** Localizando lugares através de seu ponto geográfico **\n",
    "\n",
    "Esta seção não tem a intenção de oferecer uma ferramenta real de pesquisa por pontos de latitude e longitude, o intuito é apenas exibir uma forma opcional de pesquisa nos dados, já que estamos analisando um mapa e a informação de localização está disponível.\n",
    "\n",
    "A primeira coisa a fazer é criar um novo campo espelho do campo \"pos\" em todos os documentos da coleção em que ele existe. Pra isso, faço o update do campo usando o comando $set, como o campo não existe, o MongoDB fará a sua criação. Neste momento o campo receberá apenas a string pos."
   ]
  },
  {
   "cell_type": "code",
   "execution_count": 81,
   "metadata": {
    "collapsed": false
   },
   "outputs": [
    {
     "data": {
      "text/plain": [
       "<pymongo.results.UpdateResult at 0xc6e2f30>"
      ]
     },
     "execution_count": 81,
     "metadata": {},
     "output_type": "execute_result"
    }
   ],
   "source": [
    "db.mapbh.update_many({\"pos\":{\"$ne\": None,\"$exists\": 1}},\n",
    "                    {\"$set\": {\"loc\": \"pos\"}})"
   ]
  },
  {
   "cell_type": "markdown",
   "metadata": {},
   "source": [
    "Depois de criar o campo, vou transforma-lo em índice do tipo geoespacial, para isso é só informar pymongo.GEO2D."
   ]
  },
  {
   "cell_type": "code",
   "execution_count": 66,
   "metadata": {
    "collapsed": false
   },
   "outputs": [
    {
     "data": {
      "text/plain": [
       "u'loc_2d'"
      ]
     },
     "execution_count": 66,
     "metadata": {},
     "output_type": "execute_result"
    }
   ],
   "source": [
    "db.mapbh.create_index([(\"loc\", pymongo.GEO2D)])"
   ]
  },
  {
   "cell_type": "markdown",
   "metadata": {},
   "source": [
    "Nessa terceira etapa vou buscar todos os registros que tem o campo pos preenchido e armazenar na variável pos.\n",
    "O objetivo é usar esta variável como fonte de informação na alimentação dos valores de loc, que neste momento está com a string pos como valor único."
   ]
  },
  {
   "cell_type": "code",
   "execution_count": 106,
   "metadata": {
    "collapsed": false
   },
   "outputs": [],
   "source": [
    "pos = list(db.mapbh.find({\"pos\":{\"$exists\":1}}))"
   ]
  },
  {
   "cell_type": "markdown",
   "metadata": {},
   "source": [
    "Para finalizar, percorro todos os registros da variável pos e para cada um insiro o valor de latitude e longitude onde o _id é o mesmo."
   ]
  },
  {
   "cell_type": "code",
   "execution_count": 108,
   "metadata": {
    "collapsed": false
   },
   "outputs": [
    {
     "name": "stdout",
     "output_type": "stream",
     "text": [
      "\n"
     ]
    }
   ],
   "source": [
    "for item in pos:\n",
    "    db.mapbh.update_one({\"_id\": item[\"_id\"]},\n",
    "                        {\"$set\": {\"loc\": item[\"pos\"]}})   "
   ]
  },
  {
   "cell_type": "markdown",
   "metadata": {},
   "source": [
    "Agora que o indice está criado, vou buscar por uma coordenada qualquer em uma rua bem conhecida de BH. Essa informação será passada adiante como ponto de referência na pesquisa de lugares próximos."
   ]
  },
  {
   "cell_type": "code",
   "execution_count": 64,
   "metadata": {
    "collapsed": false
   },
   "outputs": [
    {
     "data": {
      "text/plain": [
       "{u'_id': ObjectId('58641665ed425d6e306c706e'),\n",
       " u'address': {u'housenumber': u'5771',\n",
       "  u'postcode': u'30110-035',\n",
       "  u'street': u'Avenida Do Contorno'},\n",
       " u'amenity': u'Pub',\n",
       " u'created': {u'changeset': u'21700331',\n",
       "  u'timestamp': u'2014-04-15T00:45:03Z',\n",
       "  u'uid': u'2032426',\n",
       "  u'user': u'Victor Caldeira Colen',\n",
       "  u'version': u'6'},\n",
       " u'id': u'320934190',\n",
       " u'loc': [-19.9398678, -43.9312457],\n",
       " u'name': u'Stadt Jever',\n",
       " u'pos': [-19.9398678, -43.9312457],\n",
       " u'source': u'Web',\n",
       " u'type': u'node',\n",
       " u'website': u'Http://Wals.Com.Br/Stadt-Jever'}"
      ]
     },
     "execution_count": 64,
     "metadata": {},
     "output_type": "execute_result"
    }
   ],
   "source": [
    "list(db.mapbh.find({\"address.street\" : \"Avenida Do Contorno\"}))[0]"
   ]
  },
  {
   "cell_type": "markdown",
   "metadata": {},
   "source": [
    "Vou pesquisar lugares próximos da coordenada [-19.93, -43.94]. Você pode utilizar o operador \"$maxDistance\" ou \"$minDistance\" para restringir a distância dos pontos que você está buscando."
   ]
  },
  {
   "cell_type": "code",
   "execution_count": 65,
   "metadata": {
    "collapsed": false
   },
   "outputs": [
    {
     "name": "stdout",
     "output_type": "stream",
     "text": [
      "Wall time: 3 ms\n"
     ]
    },
    {
     "data": {
      "text/plain": [
       "24"
      ]
     },
     "execution_count": 65,
     "metadata": {},
     "output_type": "execute_result"
    }
   ],
   "source": [
    "%time db.mapbh.find({'loc': SON([('$near', [-19.93, -43.93]), ('$maxDistance', 0.001)])}).count()"
   ]
  },
  {
   "cell_type": "markdown",
   "metadata": {},
   "source": [
    "Foram encontrados 32 resultados para esta pesquisa, nada mal! E o tempo de pesquisa é muito rápido, só 3ms para percorrer a coleção com 408 mil documentos."
   ]
  },
  {
   "cell_type": "markdown",
   "metadata": {},
   "source": [
    "#### Cidades\n",
    "O atributo Nome da Cidade foi auditado na fase anterior e seus valores foram mapeados. Vamos executar uma consulta que retorne o nome das cidades e total de ruas cadastradas para cada uma delas."
   ]
  },
  {
   "cell_type": "code",
   "execution_count": 4,
   "metadata": {
    "collapsed": false
   },
   "outputs": [],
   "source": [
    "pipeline = [{\"$unwind\" : \"$address.city\"},\n",
    "            {\"$group\": {\"_id\" : {\"cidade\":\"$address.city\", \"rua\":\"$address.street\"}, \"ccount\": {\"$sum\": 1}}},\n",
    "            {\"$group\" : {\"_id\": \"$_id.cidade\", \"TotalRuas\" : {\"$sum\": \"$ccount\"}}},\n",
    "            {\"$sort\" : {\"TotalRuas\" : -1}}\n",
    "            ]\n",
    "\n",
    "total_rua_cidades = list(db.mapbh.aggregate(pipeline))"
   ]
  },
  {
   "cell_type": "code",
   "execution_count": 5,
   "metadata": {
    "collapsed": false
   },
   "outputs": [
    {
     "name": "stdout",
     "output_type": "stream",
     "text": [
      "[{u'TotalRuas': 328, u'_id': u'Belo Horizonte'},\n",
      " {u'TotalRuas': 16, u'_id': u'Betim'},\n",
      " {u'TotalRuas': 12, u'_id': u'Contagem'},\n",
      " {u'TotalRuas': 8, u'_id': u'Nova Lima'},\n",
      " {u'TotalRuas': 5, u'_id': u'Sarzedo'},\n",
      " {u'TotalRuas': 5, u'_id': u'Sabar\\xe1'},\n",
      " {u'TotalRuas': 4, u'_id': u'Santa Luzia'},\n",
      " {u'TotalRuas': 2, u'_id': u'Ribeir\\xe3o Das Neves'}]\n"
     ]
    }
   ],
   "source": [
    "pprint.pprint(total_rua_cidades)"
   ]
  },
  {
   "cell_type": "markdown",
   "metadata": {},
   "source": [
    "Na lista de cidades o nome Belo Horizonte aparece duas vezes sendo uma delas com grafia incorreta \"Belo Horizont\". Para corrigir a situação no banco de dados atualizei o nome para o correto. Essa falha ocorreu porque no método update_city do script audit_map_BH eu atribuí para Belo Horizonte um tamanho de [0:13], quando deveria ter sido [0:14]. O método foi corrigido e atualizado. "
   ]
  },
  {
   "cell_type": "code",
   "execution_count": 26,
   "metadata": {
    "collapsed": false
   },
   "outputs": [
    {
     "data": {
      "text/plain": [
       "8"
      ]
     },
     "execution_count": 26,
     "metadata": {},
     "output_type": "execute_result"
    }
   ],
   "source": [
    "db.mapbh.find({\"address.city\":\"Belo Horizont\"}).count()"
   ]
  },
  {
   "cell_type": "code",
   "execution_count": 28,
   "metadata": {
    "collapsed": false
   },
   "outputs": [
    {
     "name": "stderr",
     "output_type": "stream",
     "text": [
      "C:\\Program Files (x86)\\Anaconda2\\lib\\site-packages\\ipykernel\\__main__.py:2: DeprecationWarning: update is deprecated. Use replace_one, update_one or update_many instead.\n",
      "  from ipykernel import kernelapp as app\n"
     ]
    },
    {
     "data": {
      "text/plain": [
       "{u'n': 8, u'nModified': 8, u'ok': 1, 'updatedExisting': True}"
      ]
     },
     "execution_count": 28,
     "metadata": {},
     "output_type": "execute_result"
    }
   ],
   "source": [
    "db.mapbh.update({\"address.city\":\"Belo Horizont\"}, \n",
    "                {\"$set\": {\"address.city\":\"Belo Horizonte\"}},multi=True)"
   ]
  },
  {
   "cell_type": "markdown",
   "metadata": {
    "collapsed": true
   },
   "source": [
    "Agora que o dados estão consistentes, vamos imprimir um gráfico de pizza com a distribuição das ruas cadastradas por cidade. Existem dados cadastrados para a capital Belo Horizonte e para as cidades da região metropolitana."
   ]
  },
  {
   "cell_type": "code",
   "execution_count": 6,
   "metadata": {
    "collapsed": false
   },
   "outputs": [
    {
     "data": {
      "image/png": "[encoded data removed]",
      "text/plain": [
       "<matplotlib.figure.Figure at 0x714ee48>"
      ]
     },
     "metadata": {},
     "output_type": "display_data"
    }
   ],
   "source": [
    "cidade = []\n",
    "total = []\n",
    "for item in total_rua_cidades:\n",
    "    total.append(item[\"TotalRuas\"])\n",
    "    cidade.append(item[\"_id\"].encode('ascii', 'ignore'))\n",
    "plt.pie(x=total,labels=cidade);"
   ]
  },
  {
   "cell_type": "markdown",
   "metadata": {},
   "source": [
    "### Melhoria no dados \n",
    "\n",
    "A falta de dados cadastrados para os pontos de interesse dificultam a utilização do OpenStreetMap. Em uma busca que fiz no site http://www.openstreetmap.org/ por locais próximos ao meu endereço, não consegui localizar os estabelecimentos que conheço. Fiz o cadastramento de um supermercado e uma veterinária, e seria interessante se esta inserção de dados  pudesse ser feito através de um app que estimulasse o cadastramento de informação enquanto você estivesse naquele local, assim como o aplicativo Waze faz, agregado a isto uma opção de reconhecimento com medalhas para os contribuintes frequentes,  estilo jogos como Pokemon Go =) . \n",
    "Orgão públicos como o ministério do turismo de Minas Gerais poderia incentivar as redes hoteleiras a cadastrarem informações sobre o seu estabelecimento e sobre os pontos interessantes próximos que um hospede pudesse utilizar durante sua estadia, isso fortaleceria o mapa e a visitação na região."
   ]
  },
  {
   "cell_type": "markdown",
   "metadata": {},
   "source": [
    "## 5. Conclusão\n",
    "\n",
    "Uma parte significativa dos dados de Belo Horizonte não está formatada de acordo com minha expectativa, o que dificultou a obtenção de resultados com mais volume de informações, essa ausência dos atributos de algumas ruas torna este projeto sem valor estatístico e o impede de ser um reflexo das características de Belo Horizonte. A contagem de ruas com o atributo address.street cadastrados, retornou apenas 320 resultados para Belo Horizonte, demonstrando a falta de preenchimento de alguns registros para a 6º cidade mais populosa do Brasil.\n",
    "\n",
    "Apesar deste obstáculo, o mapa atendeu ao objetivo da análise e possibilitou um bom aprendizado da manipulação de dados utilizando pymongo e MongoDB.\n",
    "\n",
    "## 6. Referências\n",
    "\n",
    "- wiki.openstreetmap.org/wiki/Belo_Horizonte\n",
    "- wiki.openstreetmap.org/wiki/WikiProject_Brazil\n",
    "- overpass-api.de/api/map?bbox=-44.3092,-20.0979,-43.6116,-19.7376\n",
    "- github.com/FrankRuns/Udacity/tree/master/OpenStreetMap-Analysis/OSM_Data_Project\n",
    "- github.com/ucaiado/OpenStreetMaps\n",
    "- pt.slideshare.net/mbright1/using-mongodb-and-python-demo"
   ]
  }
 ],
 "metadata": {
  "anaconda-cloud": {},
  "kernelspec": {
   "display_name": "Python [Root]",
   "language": "python",
   "name": "Python [Root]"
  },
  "language_info": {
   "codemirror_mode": {
    "name": "ipython",
    "version": 2
   },
   "file_extension": ".py",
   "mimetype": "text/x-python",
   "name": "python",
   "nbconvert_exporter": "python",
   "pygments_lexer": "ipython2",
   "version": "2.7.11"
  }
 },
 "nbformat": 4,
 "nbformat_minor": 0
}
