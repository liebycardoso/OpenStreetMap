{
 "cells": [
  {
   "cell_type": "markdown",
   "metadata": {},
   "source": [
    "# P3: Clearing OpenStreetMap Data\n",
    "\n",
    "## _ by Lieby Cardoso _ \n",
    "                                                \n",
    "* Region selected for the project:\n",
    "\n",
    "I selected Belo Horizonte, MG, Brazil because it is the city where I live and I believe it is interesting to know some local points, also the domain of previous information about the region can assist in the analysis of the information registered.\n",
    "Region: http://www.openstreetmap.org/relation/368782 "
   ]
  },
  {
   "cell_type": "markdown",
   "metadata": {},
   "source": [
    "### Content\n",
    "\n",
    "1. Methods and tools\n",
    "2. Problems found on the map\n",
    "3. Data overview\n",
    "4. Other Ideas About the Data\n",
    "5. Conclusion\n",
    "6. References\n"
   ]
  },
  {
   "cell_type": "markdown",
   "metadata": {},
   "source": [
    "### 1.\tMethods and tools\n",
    "\n",
    "Descriptive of the methods and tools used in this work \n",
    "https://github.com/liebycardoso/OpenStreetMap/blob/master/Methods.pdf "
   ]
  },
  {
   "cell_type": "markdown",
   "metadata": {},
   "source": [
    "### 2. Problems found on the map\n",
    "\n",
    "** Location identification of street type **\n",
    "\n",
    "Unlike the exercises performed, where the map was from the city of Chicago and the street type could be identified by theLast name, on the map of Belo Horizonte, the name of the street consists of the type, abbreviated or not, followed by the name. To meet this particularity of the Brazilian nomenclature, the variable street_type_re has been reformulated to work with the first word of the sentence. The change consisted in including the ^ character, which always corresponds to The start of the string and deletion of the $ character, which corresponds to the end of the string.\n",
    "\n",
    "Code snippet:"
   ]
  },
  {
   "cell_type": "code",
   "execution_count": null,
   "metadata": {
    "collapsed": true
   },
   "outputs": [],
   "source": [
    " street_type_re = re.compile(r'^\\b(?u)\\w\\S+\\.?', re.IGNORECASE)"
   ]
  },
  {
   "cell_type": "markdown",
   "metadata": {},
   "source": [
    "** Special Characters **\n",
    "\n",
    "When starting auditing the data, I printed on the screen the name of some streets of the sample and the logic of the program was not followed in some cases because streets with special characters such as acute accents ('), circumflexes (^), til (~) And cedilla (ç). \n",
    "\n",
    "In the header of the script the command # - coding: utf-8 - was included to allow manipulation of these characters with the utf-8 Unicode encoding.\n",
    "\n",
    "Even doing this inclusion, it was necessary to add the letter 'u' before strings that were used for comparison. An example is the word \"Square\" manually included as a comparative string of the expected variable, when comparison of \"Square\" typed with Square returning from a variable, the comparison was not successful in this case the word \"Square\" entered was replaced by u\"Square\" to be recognized as containing special character. \n",
    "\n",
    "Another treatment was to include the encoding (? U) \\ w for all Unicode characters in re.compile.\n",
    "\n",
    "Code snippet: "
   ]
  },
  {
   "cell_type": "code",
   "execution_count": 22,
   "metadata": {
    "collapsed": true
   },
   "outputs": [],
   "source": [
    "# -*- coding: utf-8 -*-\n",
    "expected_street = [\"Rua\", \"Avenida\", \"Beco\", \"Rodovia\", \"Expressa\", u\"Praça\", \"Anel\", \"Alameda\"]"
   ]
  },
  {
   "cell_type": "markdown",
   "metadata": {},
   "source": [
    "** Ways  without type defined and type mapping**\n",
    "\n",
    "Some roads did not have their defined type, for example, avenue, “alameda”, alleyway and etc ... When the road did not have the type compatible with those registered in the expected array, nor in the mapping_street dictionary, I assigned the prefix \"Street\" to all of them.\n",
    "\n",
    "- Method: update_street_type (name, mapping):\n",
    "- Script: audit_map_bh\n",
    "\n",
    "Roads without type:\n",
    "- Montes Claros => Rua Montes Claros\n",
    "- Paracatu => Rua Paracatu\n",
    "- Francisco Deslandes => Rua Francisco Deslandes\n",
    "- Riachuelo => Rua Riachuelo\n",
    "\n",
    "Roads with mapped type:\n",
    "- Av São Lucas => Avenida São Lucas\n",
    "- Anél Rodoviário => Anel Rodoviário\n",
    "- Avendia Dom Pedro II => Avenida Dom Pedro II\n",
    "- Alamedas das Princesas => Alameda Das Princesas\n",
    "- Eua Conceição Aparecida => Rua Conceição Aparecida\n",
    "- Pc Nossa Senhora do Rosário => Praça Nossa Senhora Do Rosário\n",
    "- R. A => Rua A\n",
    "- R.B => Rua B"
   ]
  },
  {
   "cell_type": "markdown",
   "metadata": {},
   "source": [
    "** Short titles **\n",
    "\n",
    "After correcting the abbreviation for the name of the streets, I noticed that some streets were under the title of the person who gave the name Street abbreviated. In BH all cases were Prof. In the place of Professor.\n",
    "\n",
    "- Method: update_street_title (name, mapping):\n",
    "- Script: audit_map_bh\n",
    "\n",
    "Example:\n",
    "\n",
    "- Prof. Melchíades da Costa Lage Street => Professor Melchíades Da Costa Lage Street"
   ]
  },
  {
   "cell_type": "markdown",
   "metadata": {},
   "source": [
    "** Name of the city **\n",
    "\n",
    "The map of the Belo Horizonte region also contains information about the metropolitan region, for this reason the key Addr: city received a treatment to standardize the names, since, were spelled errors and the name of the city composed with the name of the state.\n",
    "\n",
    "- Method: update_city (name, mapping):\n",
    "- Script: audit_map_bh\n",
    "\n",
    "Example:\n",
    "\n",
    "- Belo Horizon => Belo Horizonte\n",
    "- Belo Horizonte - MG => Belo Horizonte\n",
    "- Belo Horizonte MG Brazil => Belo Horizonte"
   ]
  },
  {
   "cell_type": "markdown",
   "metadata": {},
   "source": [
    "** Postal Code **\n",
    "\n",
    "The postal code is an important attribute of the address and the count of values, I realized that there was a good volume of Data, I standardized the field as a sequence of 8 numbers without the character \"-\".\n",
    "\n",
    "- Method: update_code_postal (name, mapping):\n",
    "- Script: audit_map_bh"
   ]
  },
  {
   "cell_type": "markdown",
   "metadata": {},
   "source": [
    "## 3. Data overview\n",
    "\n",
    "###  Representation of OSM data \n",
    "\n",
    "The data is organized into a structure of map elements that represent the object and its associated value.\n",
    "Types found:\n",
    "\n",
    "- Node: a node is information of a pair of coordinates, being latitude and longitude;\n",
    "- Way: a list of nodes;\n",
    "\n",
    "Although OpenStreetMap has two more types of elements listed below, they were not considered in this project.\n",
    "\n",
    "- Area: represents a limited area, for example, a square;\n",
    "- Relation: can be a set of related nodes, ways and relation."
   ]
  },
  {
   "cell_type": "markdown",
   "metadata": {},
   "source": [
    "###  Import data for search"
   ]
  },
  {
   "cell_type": "markdown",
   "metadata": {},
   "source": [
    "The mapbh.json file, generated after analyzing the OSM data for Belo Horizonte, was imported into MongoDB through the command line:\n",
    "\n",
    "* => mongoimport -h 127.0.0.1:27017 --db openstreetmap --collection mapbh --file C:/Nanodegree/MongoDb/Trab_final/mapbh.json  \n"
   ]
  },
  {
   "cell_type": "markdown",
   "metadata": {},
   "source": [
    "The data in MongoDB will be accessed and manipulated through the pymongo library. "
   ]
  },
  {
   "cell_type": "code",
   "execution_count": 2,
   "metadata": {
    "collapsed": true
   },
   "outputs": [],
   "source": [
    "import pprint\n",
    "import matplotlib.pyplot as plt\n",
    "%matplotlib inline\n",
    "import pymongo\n",
    "from bson import SON\n",
    "from pymongo import MongoClient\n",
    "client=MongoClient('localhost:27017')\n",
    "db=client.openstreetmap"
   ]
  },
  {
   "cell_type": "markdown",
   "metadata": {},
   "source": [
    "The imported data is part of a collection named mapbh (--collection mapbh). Verifying that the name was created correctly:"
   ]
  },
  {
   "cell_type": "code",
   "execution_count": 29,
   "metadata": {
    "collapsed": false
   },
   "outputs": [
    {
     "data": {
      "text/plain": [
       "[u'mapbh']"
      ]
     },
     "execution_count": 29,
     "metadata": {},
     "output_type": "execute_result"
    }
   ],
   "source": [
    "db.collection_names()"
   ]
  },
  {
   "cell_type": "markdown",
   "metadata": {},
   "source": [
    "###  Knowing the data"
   ]
  },
  {
   "cell_type": "markdown",
   "metadata": {},
   "source": [
    "** 3.1. Statistics of data **\n",
    "\n",
    "A summary of total documents and data size."
   ]
  },
  {
   "cell_type": "code",
   "execution_count": 19,
   "metadata": {
    "collapsed": true
   },
   "outputs": [],
   "source": [
    "stats_mapbh = db.command(\"dbstats\")"
   ]
  },
  {
   "cell_type": "code",
   "execution_count": 29,
   "metadata": {
    "collapsed": false
   },
   "outputs": [
    {
     "name": "stdout",
     "output_type": "stream",
     "text": [
      "Tamanho da colecao:  112706375.0\n",
      "Total de documentos:  466927\n",
      "Total de indices:  1\n"
     ]
    }
   ],
   "source": [
    "print \"Tamanho da colecao: \", stats_mapbh[\"dataSize\"]\n",
    "print \"Total de documentos: \",  stats_mapbh[\"objects\"]\n",
    "print \"Total de indices: \" , stats_mapbh[\"indexes\"]"
   ]
  },
  {
   "cell_type": "markdown",
   "metadata": {},
   "source": [
    "** 3.2. Number of documents with type \"node\": **"
   ]
  },
  {
   "cell_type": "code",
   "execution_count": 38,
   "metadata": {
    "collapsed": false
   },
   "outputs": [
    {
     "data": {
      "text/plain": [
       "408052"
      ]
     },
     "execution_count": 38,
     "metadata": {},
     "output_type": "execute_result"
    }
   ],
   "source": [
    "db.mapbh.find({\"type\":\"node\"}).count() "
   ]
  },
  {
   "cell_type": "markdown",
   "metadata": {},
   "source": [
    "** 3.3. Number of documents with type \"way\": **"
   ]
  },
  {
   "cell_type": "code",
   "execution_count": 39,
   "metadata": {
    "collapsed": false
   },
   "outputs": [
    {
     "data": {
      "text/plain": [
       "58875"
      ]
     },
     "execution_count": 39,
     "metadata": {},
     "output_type": "execute_result"
    }
   ],
   "source": [
    "db.mapbh.find({\"type\":\"way\"}).count()"
   ]
  },
  {
   "cell_type": "markdown",
   "metadata": {},
   "source": [
    "** 3.4. Documents with different type of \"way\" and \"node\": **"
   ]
  },
  {
   "cell_type": "markdown",
   "metadata": {},
   "source": [
    "The total of node and way is (408,052 + 58,875) 466,927, slightly different from the 466,990 listed in db.mapbh.find (). Count (). I will list those records that are not way, nor node to identify the problem, since in the shape_element function I read the records by tags that contain the \"node\" and \"way\" strings."
   ]
  },
  {
   "cell_type": "code",
   "execution_count": 70,
   "metadata": {
    "collapsed": false
   },
   "outputs": [
    {
     "data": {
      "text/plain": [
       "[]"
      ]
     },
     "execution_count": 70,
     "metadata": {},
     "output_type": "execute_result"
    }
   ],
   "source": [
    "list(db.mapbh.find({\"type\":{\"$nin\":[\"way\",\"node\"]}}))"
   ]
  },
  {
   "cell_type": "markdown",
   "metadata": {},
   "source": [
    "By traversing the above records it is possible to notice that they have a \"type\" tag, since no method that filtered this type of situation, the value of this tag itself replaced that of the \"type\" tag that should have the type of attribute tag.\n",
    "\n",
    "These records that have been compromised by the programming logic will be deleted from the collection. One correction possible in the shape_element function is to assign the value of node ['type'] = element.tag to the end process and not at the beginning, as it was implemented."
   ]
  },
  {
   "cell_type": "code",
   "execution_count": 47,
   "metadata": {
    "collapsed": false
   },
   "outputs": [
    {
     "data": {
      "text/plain": [
       "<pymongo.results.DeleteResult at 0x3c75a68>"
      ]
     },
     "execution_count": 47,
     "metadata": {},
     "output_type": "execute_result"
    }
   ],
   "source": [
    "db.mapbh.delete_many({\"type\":{\"$nin\":[\"way\",\"node\"]}})"
   ]
  },
  {
   "cell_type": "markdown",
   "metadata": {},
   "source": [
    "Is it now that all records are of type node or way? Let's check if the total of documents in the collection is equal to total records with way + node."
   ]
  },
  {
   "cell_type": "code",
   "execution_count": 50,
   "metadata": {
    "collapsed": false
   },
   "outputs": [
    {
     "data": {
      "text/plain": [
       "True"
      ]
     },
     "execution_count": 50,
     "metadata": {},
     "output_type": "execute_result"
    }
   ],
   "source": [
    "db.mapbh.find().count() == db.mapbh.find({\"type\":{\"$in\":[\"way\",\"node\"]}}).count()"
   ]
  },
  {
   "cell_type": "markdown",
   "metadata": {},
   "source": [
    "The comparison returned True and the records were deleted correctly."
   ]
  },
  {
   "cell_type": "markdown",
   "metadata": {},
   "source": [
    "** 3.5. Size of OSM and JSON files **\n",
    "\n",
    "- mapbh.OSM => 93.432 kb\n",
    "- mapbh.json => 136.726 kb\n",
    "- mapbh collection => 112.706 kb"
   ]
  },
  {
   "cell_type": "markdown",
   "metadata": {},
   "source": [
    "** 3.6. Contributing users with OSH from BH **"
   ]
  },
  {
   "cell_type": "markdown",
   "metadata": {
    "collapsed": true
   },
   "source": [
    "Total unique users who contributed to the BH map:"
   ]
  },
  {
   "cell_type": "code",
   "execution_count": 4,
   "metadata": {
    "collapsed": false
   },
   "outputs": [
    {
     "name": "stdout",
     "output_type": "stream",
     "text": [
      "Total de usuários:  593\n"
     ]
    }
   ],
   "source": [
    "print \"Total de usuários: \" , len(db.mapbh.distinct(\"created.uid\"))"
   ]
  },
  {
   "cell_type": "markdown",
   "metadata": {},
   "source": [
    "Name and total contributions of the user who most contributed to the BH OSM:"
   ]
  },
  {
   "cell_type": "code",
   "execution_count": 32,
   "metadata": {
    "collapsed": false
   },
   "outputs": [
    {
     "data": {
      "text/plain": [
       "[{u'_id': {u'Cod': u'397143', u'user': u'Vitor Dias'}, u'total': 128024}]"
      ]
     },
     "execution_count": 32,
     "metadata": {},
     "output_type": "execute_result"
    }
   ],
   "source": [
    "pipeline=[\n",
    "            {\"$match\": {\"type\": \"node\"}},\n",
    "            {\"$group\": {\"_id\": {\"Cod\":\"$created.uid\", \"user\":\"$created.user\"}, \"total\": {\"$sum\": 1}}},\n",
    "            {\"$sort\" : {\"total\" : -1}},\n",
    "            {\"$limit\": 1}\n",
    "          ]\n",
    "\n",
    "list(db.mapbh.aggregate(pipeline))"
   ]
  },
  {
   "cell_type": "markdown",
   "metadata": {},
   "source": [
    "Total of other users' contributions:"
   ]
  },
  {
   "cell_type": "code",
   "execution_count": 9,
   "metadata": {
    "collapsed": false
   },
   "outputs": [
    {
     "data": {
      "text/plain": [
       "[{u'_id': u'TotalContibuicoesUsuarios', u'total': 280028}]"
      ]
     },
     "execution_count": 9,
     "metadata": {},
     "output_type": "execute_result"
    }
   ],
   "source": [
    "pipeline=[\n",
    "            {\"$match\": {\"type\": \"node\", \"created.uid\" :{\"$ne\": \"397143\"}}},\n",
    "            {\"$group\": {\"_id\": \"TotalContibuicoesUsuarios\", \"total\": {\"$sum\": 1}}},\n",
    "            {\"$sort\" : {\"total\" : -1}}\n",
    "          ]\n",
    "\n",
    "list(db.mapbh.aggregate(pipeline))"
   ]
  },
  {
   "cell_type": "markdown",
   "metadata": {},
   "source": [
    "The user Vitor Dias is responsible for 32% of the contribution of the data."
   ]
  },
  {
   "cell_type": "markdown",
   "metadata": {},
   "source": [
    "## 4. Other Ideas About the Data"
   ]
  },
  {
   "cell_type": "markdown",
   "metadata": {},
   "source": [
    "** The world capital of the botecos ... is it ?! **\n",
    "\n",
    "Belo Horizonte is proud to be the world capital of the botecos. If you've been here before, probably even if you know a few cities, you must have realized that this is true. Can we see this information in the data?"
   ]
  },
  {
   "cell_type": "code",
   "execution_count": 39,
   "metadata": {
    "collapsed": false
   },
   "outputs": [
    {
     "data": {
      "text/plain": [
       "[{u'_id': u'Restaurant', u'total': 443},\n",
       " {u'_id': u'School', u'total': 394},\n",
       " {u'_id': u'Parking', u'total': 261},\n",
       " {u'_id': u'Fuel', u'total': 260},\n",
       " {u'_id': u'Bank', u'total': 210},\n",
       " {u'_id': u'Place_Of_Worship', u'total': 208},\n",
       " {u'_id': u'Pub', u'total': 154},\n",
       " {u'_id': u'Bar', u'total': 148},\n",
       " {u'_id': u'Pharmacy', u'total': 130},\n",
       " {u'_id': u'Fast_Food', u'total': 126}]"
      ]
     },
     "execution_count": 39,
     "metadata": {},
     "output_type": "execute_result"
    }
   ],
   "source": [
    "pipeline = [{\"$match\": {\"amenity\":{\"$ne\": None,\"$exists\": 1}}},\n",
    "            {\"$group\":{\"_id\":\"$amenity\" , \"total\":{\"$sum\":1}}},\n",
    "            {\"$sort\" : {\"total\" : -1}},\n",
    "            {\"$limit\": 10}            \n",
    "           ]\n",
    "            \n",
    "list(db.mapbh.aggregate(pipeline))"
   ]
  },
  {
   "cell_type": "markdown",
   "metadata": {},
   "source": [
    "No surprise, Restaurant, Pub and Bar appear in the top 10. We have more Pubs and Bars than pharmacies!"
   ]
  },
  {
   "cell_type": "markdown",
   "metadata": {},
   "source": [
    "We already know that restaurant is the most common type of installation, now we will see the type of cuisine that each one offers:"
   ]
  },
  {
   "cell_type": "code",
   "execution_count": 41,
   "metadata": {
    "collapsed": false
   },
   "outputs": [
    {
     "data": {
      "text/plain": [
       "[{u'_id': u'Regional', u'total': 59},\n",
       " {u'_id': u'Pizza', u'total': 30},\n",
       " {u'_id': u'Italian', u'total': 20},\n",
       " {u'_id': u'Japanese', u'total': 8},\n",
       " {u'_id': u'Fish', u'total': 7}]"
      ]
     },
     "execution_count": 41,
     "metadata": {},
     "output_type": "execute_result"
    }
   ],
   "source": [
    "pipeline = [\n",
    "            {\"$match\":{\"cuisine\":{\"$exists\":1}, \"amenity\":{\"$exists\":1}, \"amenity\":\"Restaurant\"}},\n",
    "            {\"$group\": {\"_id\":\"$cuisine\", \"total\": {\"$sum\":1}}},\n",
    "            {\"$sort\" : {\"total\" : -1}},\n",
    "            {\"$limit\": 5}]\n",
    "\n",
    "list(db.mapbh.aggregate(pipeline))"
   ]
  },
  {
   "cell_type": "markdown",
   "metadata": {},
   "source": [
    "The result is quite reasonable, the region has several restaurants of Minas Gerais food (Regional) and pizzerias that is common in most cities."
   ]
  },
  {
   "cell_type": "markdown",
   "metadata": {},
   "source": [
    "** Finding places through your geographic point **\n",
    "\n",
    "This section is not intended to provide a real search tool for latitude and longitude points, the purpose of which is to only display an optional form of search in the data, since we are analyzing a map and the information of location is available.\n",
    "The first thing to do is to create a new mirror field of the \"pos\" field in all the documents in the collection in which it exist. To do this, I update the field using the $ set command, since the field does not exist, MongoDB will do its creation. At this time the field will only receive the string pos."
   ]
  },
  {
   "cell_type": "code",
   "execution_count": 81,
   "metadata": {
    "collapsed": false
   },
   "outputs": [
    {
     "data": {
      "text/plain": [
       "<pymongo.results.UpdateResult at 0xc6e2f30>"
      ]
     },
     "execution_count": 81,
     "metadata": {},
     "output_type": "execute_result"
    }
   ],
   "source": [
    "db.mapbh.update_many({\"pos\":{\"$ne\": None,\"$exists\": 1}},\n",
    "                    {\"$set\": {\"loc\": \"pos\"}})"
   ]
  },
  {
   "cell_type": "markdown",
   "metadata": {},
   "source": [
    "After creating the field, I'll turn it into a geospatial type index, for this is just to report pymongo.GEO2D."
   ]
  },
  {
   "cell_type": "code",
   "execution_count": 66,
   "metadata": {
    "collapsed": false
   },
   "outputs": [
    {
     "data": {
      "text/plain": [
       "u'loc_2d'"
      ]
     },
     "execution_count": 66,
     "metadata": {},
     "output_type": "execute_result"
    }
   ],
   "source": [
    "db.mapbh.create_index([(\"loc\", pymongo.GEO2D)])"
   ]
  },
  {
   "cell_type": "markdown",
   "metadata": {},
   "source": [
    "In this third step I will search all the records that have the field pos filled and store in the variable pos. The objective is to use this variable as a source of information in the feed of loc values, which at the moment is the string pos as a single value."
   ]
  },
  {
   "cell_type": "code",
   "execution_count": 106,
   "metadata": {
    "collapsed": false
   },
   "outputs": [],
   "source": [
    "pos = list(db.mapbh.find({\"pos\":{\"$exists\":1}}))"
   ]
  },
  {
   "cell_type": "markdown",
   "metadata": {},
   "source": [
    "Finally, I go through all registers of the variable pos and for each one I enter the value of latitude and longitude where _id is the same."
   ]
  },
  {
   "cell_type": "code",
   "execution_count": 108,
   "metadata": {
    "collapsed": false
   },
   "outputs": [
    {
     "name": "stdout",
     "output_type": "stream",
     "text": [
      "\n"
     ]
    }
   ],
   "source": [
    "for item in pos:\n",
    "    db.mapbh.update_one({\"_id\": item[\"_id\"]},\n",
    "                        {\"$set\": {\"loc\": item[\"pos\"]}})   "
   ]
  },
  {
   "cell_type": "markdown",
   "metadata": {},
   "source": [
    "Now that the index is created, I'll search for a coordinate in a well-known BH street. That information will be passed on as a reference point in the survey of nearby places."
   ]
  },
  {
   "cell_type": "code",
   "execution_count": 64,
   "metadata": {
    "collapsed": false
   },
   "outputs": [
    {
     "data": {
      "text/plain": [
       "{u'_id': ObjectId('58641665ed425d6e306c706e'),\n",
       " u'address': {u'housenumber': u'5771',\n",
       "  u'postcode': u'30110-035',\n",
       "  u'street': u'Avenida Do Contorno'},\n",
       " u'amenity': u'Pub',\n",
       " u'created': {u'changeset': u'21700331',\n",
       "  u'timestamp': u'2014-04-15T00:45:03Z',\n",
       "  u'uid': u'2032426',\n",
       "  u'user': u'Victor Caldeira Colen',\n",
       "  u'version': u'6'},\n",
       " u'id': u'320934190',\n",
       " u'loc': [-19.9398678, -43.9312457],\n",
       " u'name': u'Stadt Jever',\n",
       " u'pos': [-19.9398678, -43.9312457],\n",
       " u'source': u'Web',\n",
       " u'type': u'node',\n",
       " u'website': u'Http://Wals.Com.Br/Stadt-Jever'}"
      ]
     },
     "execution_count": 64,
     "metadata": {},
     "output_type": "execute_result"
    }
   ],
   "source": [
    "list(db.mapbh.find({\"address.street\" : \"Avenida Do Contorno\"}))[0]"
   ]
  },
  {
   "cell_type": "markdown",
   "metadata": {},
   "source": [
    " I'm going to search places near the coordinate [-19.93, -43.94]. You can use the \"MinDistance\" to restrict the distance from the points you are looking for."
   ]
  },
  {
   "cell_type": "code",
   "execution_count": 65,
   "metadata": {
    "collapsed": false
   },
   "outputs": [
    {
     "name": "stdout",
     "output_type": "stream",
     "text": [
      "Wall time: 3 ms\n"
     ]
    },
    {
     "data": {
      "text/plain": [
       "24"
      ]
     },
     "execution_count": 65,
     "metadata": {},
     "output_type": "execute_result"
    }
   ],
   "source": [
    "%time db.mapbh.find({'loc': SON([('$near', [-19.93, -43.93]), ('$maxDistance', 0.001)])}).count()"
   ]
  },
  {
   "cell_type": "code",
   "execution_count": null,
   "metadata": {
    "collapsed": true
   },
   "outputs": [],
   "source": [
    "mapa = folium.Map(location=posicao_mapa[0][\"loc\"], zoom_start=18,\n",
    "                   tiles='Stamen Terrain')\n",
    "for item in posicao_mapa:\n",
    "    folium.Marker(item[\"loc\"], popup=item[\"id\"]).add_to(mapa)\n",
    "mapa.save('pontosbh.html')"
   ]
  },
  {
   "cell_type": "markdown",
   "metadata": {},
   "source": [
    "<img src=\"pontos_localizados.jpg\">"
   ]
  },
  {
   "cell_type": "markdown",
   "metadata": {},
   "source": [
    "We found 24 results for this search, not bad! And the search time is very fast, only 2ms to go through the collection with 408 thousand documents."
   ]
  },
  {
   "cell_type": "markdown",
   "metadata": {},
   "source": [
    "#### Cities\n",
    "\n",
    "The City Name attribute was audited in the previous phase and its values were mapped. Let's run a query that returns the name of the cities and total of streets registered for each one of them."
   ]
  },
  {
   "cell_type": "code",
   "execution_count": 43,
   "metadata": {
    "collapsed": false
   },
   "outputs": [],
   "source": [
    "pipeline = [{\"$unwind\" : \"$address.city\"},\n",
    "            {\"$group\": {\"_id\" : {\"cidade\":\"$address.city\", \"rua\":\"$address.street\"}, \"ccount\": {\"$sum\": 1}}},\n",
    "            {\"$group\" : {\"_id\": \"$_id.cidade\", \"TotalRuas\" : {\"$sum\": \"$ccount\"}}},\n",
    "            {\"$sort\" : {\"TotalRuas\" : -1}}\n",
    "            ]\n",
    "\n",
    "total_rua_cidades = list(db.mapbh.aggregate(pipeline))"
   ]
  },
  {
   "cell_type": "code",
   "execution_count": 44,
   "metadata": {
    "collapsed": false
   },
   "outputs": [
    {
     "name": "stdout",
     "output_type": "stream",
     "text": [
      "[{u'TotalRuas': 328, u'_id': u'Belo Horizonte'},\n",
      " {u'TotalRuas': 16, u'_id': u'Betim'},\n",
      " {u'TotalRuas': 12, u'_id': u'Contagem'},\n",
      " {u'TotalRuas': 8, u'_id': u'Nova Lima'},\n",
      " {u'TotalRuas': 5, u'_id': u'Sarzedo'},\n",
      " {u'TotalRuas': 5, u'_id': u'Sabar\\xe1'},\n",
      " {u'TotalRuas': 4, u'_id': u'Santa Luzia'},\n",
      " {u'TotalRuas': 2, u'_id': u'Ribeir\\xe3o Das Neves'}]\n"
     ]
    }
   ],
   "source": [
    "pprint.pprint(total_rua_cidades)"
   ]
  },
  {
   "cell_type": "markdown",
   "metadata": {},
   "source": [
    "In the list of cities the name Belo Horizonte appears twice being one of them with incorrect spelling \"Belo Horizont\". To correct the situation in the database I updated the name to the correct one. This failure occurred because in the Update_city of the audit_map_BH script I assigned to Belo Horizonte a size of [0:13], when it should have been [0:14]. The method has been fixed and updated."
   ]
  },
  {
   "cell_type": "code",
   "execution_count": 26,
   "metadata": {
    "collapsed": false
   },
   "outputs": [
    {
     "data": {
      "text/plain": [
       "8"
      ]
     },
     "execution_count": 26,
     "metadata": {},
     "output_type": "execute_result"
    }
   ],
   "source": [
    "db.mapbh.find({\"address.city\":\"Belo Horizont\"}).count()"
   ]
  },
  {
   "cell_type": "code",
   "execution_count": 28,
   "metadata": {
    "collapsed": false
   },
   "outputs": [
    {
     "name": "stderr",
     "output_type": "stream",
     "text": [
      "C:\\Program Files (x86)\\Anaconda2\\lib\\site-packages\\ipykernel\\__main__.py:2: DeprecationWarning: update is deprecated. Use replace_one, update_one or update_many instead.\n",
      "  from ipykernel import kernelapp as app\n"
     ]
    },
    {
     "data": {
      "text/plain": [
       "{u'n': 8, u'nModified': 8, u'ok': 1, 'updatedExisting': True}"
      ]
     },
     "execution_count": 28,
     "metadata": {},
     "output_type": "execute_result"
    }
   ],
   "source": [
    "db.mapbh.update({\"address.city\":\"Belo Horizont\"}, \n",
    "                {\"$set\": {\"address.city\":\"Belo Horizonte\"}},multi=True)"
   ]
  },
  {
   "cell_type": "markdown",
   "metadata": {
    "collapsed": true
   },
   "source": [
    "Now that the data is consistent, let's print a pie chart with the distribution of streets registered by city. There are data registered for the capital Belo Horizonte and for cities in the metropolitan region."
   ]
  },
  {
   "cell_type": "code",
   "execution_count": 30,
   "metadata": {
    "collapsed": false
   },
   "outputs": [
    {
     "data": {
      "text/plain": [
       "([<matplotlib.patches.Wedge at 0xc517128>,\n",
       "  <matplotlib.patches.Wedge at 0xc517a20>,\n",
       "  <matplotlib.patches.Wedge at 0xc5272b0>,\n",
       "  <matplotlib.patches.Wedge at 0xc527b00>,\n",
       "  <matplotlib.patches.Wedge at 0xc537390>,\n",
       "  <matplotlib.patches.Wedge at 0xc537be0>,\n",
       "  <matplotlib.patches.Wedge at 0xc5c5470>,\n",
       "  <matplotlib.patches.Wedge at 0xc5c5cc0>],\n",
       " [<matplotlib.text.Text at 0xc5176a0>,\n",
       "  <matplotlib.text.Text at 0xc517f60>,\n",
       "  <matplotlib.text.Text at 0xc5277f0>,\n",
       "  <matplotlib.text.Text at 0xc527f98>,\n",
       "  <matplotlib.text.Text at 0xc5378d0>,\n",
       "  <matplotlib.text.Text at 0xc5c5160>,\n",
       "  <matplotlib.text.Text at 0xc5c59b0>,\n",
       "  <matplotlib.text.Text at 0xc5d2240>])"
      ]
     },
     "execution_count": 30,
     "metadata": {},
     "output_type": "execute_result"
    },
    {
     "data": {
      "image/png": "[encoded data removed]",
      "text/plain": [
       "<matplotlib.figure.Figure at 0xc2a9588>"
      ]
     },
     "metadata": {},
     "output_type": "display_data"
    }
   ],
   "source": [
    "cidade = []\n",
    "total = []\n",
    "for item in total_rua_cidades:\n",
    "    total.append(item[\"TotalRuas\"])\n",
    "    cidade.append(item[\"_id\"].encode('ascii', 'ignore'))\n",
    "plt.pie(x=total,labels=cidade)"
   ]
  },
  {
   "cell_type": "markdown",
   "metadata": {},
   "source": [
    "### Improvement in data\n",
    "\n",
    "The lack of registered data for the points of interest makes it difficult to use OpenStreetMap. In a search that I did at http://www.openstreetmap.org/(http://www.openstreetmap.org/) for places near my address,  I wasn’t able to locate the establishments I know. I did the registration of a supermarket and a veterinarian, and It would be interesting if this insertion of data could be done through an app that would stimulate the registration of information while you are in that location, just as the Waze application does, added to this a recognition with medals for frequent contributors, style games like Pokemon Go =). \n",
    "\n",
    "Governamental agencies like Minas Gerais's tourism Ministry could encourage hotel chains to register their establishment and about the interesting points that a guest could use during the stay. This would strengthen the map and visitation in the region."
   ]
  },
  {
   "cell_type": "markdown",
   "metadata": {},
   "source": [
    "## 5. Conclusion\n",
    "\n",
    "A significant part of the data from Belo Horizonte is not formatted according to my expectation, which difficulted to obtain results with more volume of information, this absence of the attributes of some streets makes this project without statistical value and prevents it from being a reflection of the characteristics of Belo Horizonte. \n",
    "\n",
    "The count of streets with the address.street attribute registered, returned only 320 results to Belo Horizonte, demonstrating the lack of completion of some records for the 6th most populous city in Brazil.\n",
    "\n",
    "Despite this obstacle, the map met the objective of the analysis and enabled a good learning of the manipulation of data using pymongo and MongoDB.\n",
    "\n",
    "\n",
    "## 6. Referências\n",
    "\n",
    "- wiki.openstreetmap.org/wiki/Belo_Horizonte\n",
    "- wiki.openstreetmap.org/wiki/WikiProject_Brazil\n",
    "- overpass-api.de/api/map?bbox=-44.3092,-20.0979,-43.6116,-19.7376\n",
    "- github.com/FrankRuns/Udacity/tree/master/OpenStreetMap-Analysis/OSM_Data_Project\n",
    "- github.com/ucaiado/OpenStreetMaps\n",
    "- pt.slideshare.net/mbright1/using-mongodb-and-python-demo"
   ]
  },
  {
   "cell_type": "code",
   "execution_count": null,
   "metadata": {
    "collapsed": true
   },
   "outputs": [],
   "source": []
  }
 ],
 "metadata": {
  "anaconda-cloud": {},
  "kernelspec": {
   "display_name": "Python 2",
   "language": "python",
   "name": "python2"
  },
  "language_info": {
   "codemirror_mode": {
    "name": "ipython",
    "version": 2
   },
   "file_extension": ".py",
   "mimetype": "text/x-python",
   "name": "python",
   "nbconvert_exporter": "python",
   "pygments_lexer": "ipython2",
   "version": "2.7.13"
  }
 },
 "nbformat": 4,
 "nbformat_minor": 0
}
